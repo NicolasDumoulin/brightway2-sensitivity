{
 "cells": [
  {
   "cell_type": "markdown",
   "metadata": {},
   "source": [
    "# How to achieve a local sensitivity analysis with BrigthWay2"
   ]
  },
  {
   "cell_type": "markdown",
   "metadata": {},
   "source": [
    "First, preparing the environment"
   ]
  },
  {
   "cell_type": "code",
   "execution_count": 29,
   "metadata": {
    "collapsed": false
   },
   "outputs": [],
   "source": [
    "from brightway2 import *\n",
    "from __future__ import unicode_literals, print_function\n",
    "import numpy as np\n",
    "%matplotlib inline\n",
    "import matplotlib.pylab as plt\n",
    "plt.rcParams['figure.figsize'] = (20.0, 10.0)"
   ]
  },
  {
   "cell_type": "code",
   "execution_count": 2,
   "metadata": {
    "collapsed": true
   },
   "outputs": [],
   "source": [
    "projects.set_current(\"Local Sensitivity Analysis demo\")"
   ]
  },
  {
   "cell_type": "markdown",
   "metadata": {},
   "source": [
    "## Init the databases"
   ]
  },
  {
   "cell_type": "code",
   "execution_count": 3,
   "metadata": {
    "collapsed": false
   },
   "outputs": [
    {
     "name": "stdout",
     "output_type": "stream",
     "text": [
      "Creating default biosphere\n",
      "\n"
     ]
    },
    {
     "name": "stderr",
     "output_type": "stream",
     "text": [
      "Writing activities to SQLite3 database:\n",
      "0%                          100%\n",
      "[##########                    ] | ETA: 00:00:00"
     ]
    },
    {
     "name": "stdout",
     "output_type": "stream",
     "text": [
      "Applying strategy: normalize_units\n",
      "Applying strategy: drop_unspecified_subcategories\n",
      "Applied 2 strategies in 0.01 seconds\n"
     ]
    },
    {
     "name": "stderr",
     "output_type": "stream",
     "text": [
      "[##############################] | ETA: 00:00:00\n",
      "Total time elapsed: 00:00:00\n"
     ]
    },
    {
     "name": "stdout",
     "output_type": "stream",
     "text": [
      "Title: Writing activities to SQLite3 database:\n",
      "  Started: 02/17/2017 12:51:38\n",
      "  Finished: 02/17/2017 12:51:39\n",
      "  Total time elapsed: 00:00:00\n",
      "  CPU %: 73.80\n",
      "  Memory %: 1.02\n",
      "Created database: biosphere3\n",
      "Creating default LCIA methods\n",
      "\n",
      "Applying strategy: normalize_units\n",
      "Applying strategy: set_biosphere_type\n",
      "Applying strategy: drop_unspecified_subcategories\n",
      "Applying strategy: link_iterable_by_fields\n",
      "Applied 4 strategies in 1.27 seconds\n",
      "Wrote 665 LCIA methods with 169551 characterization factors\n",
      "Creating core data migrations\n",
      "\n"
     ]
    }
   ],
   "source": [
    "bw2setup()"
   ]
  },
  {
   "cell_type": "markdown",
   "metadata": {},
   "source": [
    "Exemple of how to select a activity in the biosphere data:"
   ]
  },
  {
   "cell_type": "code",
   "execution_count": 4,
   "metadata": {
    "collapsed": false
   },
   "outputs": [
    {
     "data": {
      "text/plain": [
       "['Wood, primary forest, standing' (cubic meter, None, ('natural resource', 'biotic')),\n",
       " 'residual wood, dry' (cubic meter, None, ('social',)),\n",
       " 'residual hardwood, wet' (cubic meter, None, ('social',)),\n",
       " 'Wood, soft, standing' (cubic meter, None, ('natural resource', 'biotic')),\n",
       " 'residual softwood, wet' (cubic meter, None, ('social',)),\n",
       " 'Wood, hard, standing' (cubic meter, None, ('natural resource', 'biotic')),\n",
       " 'Wood, unspecified, standing' (cubic meter, None, ('natural resource', 'biotic'))]"
      ]
     },
     "execution_count": 4,
     "metadata": {},
     "output_type": "execute_result"
    }
   ],
   "source": [
    "Database(\"biosphere3\").search('*wood*')"
   ]
  },
  {
   "cell_type": "markdown",
   "metadata": {},
   "source": [
    "How to pick up a LCA method"
   ]
  },
  {
   "cell_type": "code",
   "execution_count": 5,
   "metadata": {
    "collapsed": false
   },
   "outputs": [
    {
     "data": {
      "text/plain": [
       "('ReCiPe Midpoint (E) w/o LT', 'fossil depletion w/o LT', 'FDP w/o LT')"
      ]
     },
     "execution_count": 5,
     "metadata": {},
     "output_type": "execute_result"
    }
   ],
   "source": [
    "method_key = methods.random()\n",
    "method_key"
   ]
  },
  {
   "cell_type": "markdown",
   "metadata": {},
   "source": [
    "Now, importing the Forwast database:"
   ]
  },
  {
   "cell_type": "code",
   "execution_count": 6,
   "metadata": {
    "collapsed": false
   },
   "outputs": [
    {
     "name": "stderr",
     "output_type": "stream",
     "text": [
      "Writing activities to SQLite3 database:\n",
      "0%                          100%\n",
      "[##############################] | ETA: 00:00:00\n",
      "Total time elapsed: 00:00:04\n"
     ]
    },
    {
     "name": "stdout",
     "output_type": "stream",
     "text": [
      "Title: Writing activities to SQLite3 database:\n",
      "  Started: 02/17/2017 12:52:31\n",
      "  Finished: 02/17/2017 12:52:36\n",
      "  Total time elapsed: 00:00:04\n",
      "  CPU %: 65.50\n",
      "  Memory %: 1.97\n"
     ]
    },
    {
     "data": {
      "text/plain": [
       "[Brightway2 SQLiteBackend: forwast]"
      ]
     },
     "execution_count": 6,
     "metadata": {},
     "output_type": "execute_result"
    }
   ],
   "source": [
    "import zipfile\n",
    "import os\n",
    "from bw2data.utils import download_file\n",
    "\n",
    "filepath = download_file(\"forwast.bw2package.zip\", url=\"http://lca-net.com/wp-content/uploads/\")\n",
    "dirpath = os.path.dirname(filepath)\n",
    "zipfile.ZipFile(filepath).extractall(dirpath)\n",
    "BW2Package.import_file(os.path.join(dirpath, \"forwast.bw2package\"))"
   ]
  },
  {
   "cell_type": "markdown",
   "metadata": {},
   "source": [
    "How to search in the database"
   ]
  },
  {
   "cell_type": "code",
   "execution_count": 7,
   "metadata": {
    "collapsed": false
   },
   "outputs": [
    {
     "data": {
      "text/plain": [
       "['__8 Recycling of waste wood, EU27' (kilogram, GLO, ['Input Output', 'EU27 2003']),\n",
       " '_32 Wood products, except furniture, DK' (kilogram, GLO, ['Input Output', 'Denmark 2003']),\n",
       " '_32 Wood products, except furniture, EU27' (kilogram, GLO, ['Input Output', 'EU27 2003']),\n",
       " '107 Waste treatment, Incineration of waste, Wood, EU27' (kilogram, GLO, ['Input Output', 'EU27 2003']),\n",
       " '113 Waste treatment, Composting of paper and wood, EU27' (kilogram, GLO, ['Input Output', 'EU27 2003']),\n",
       " '117 Waste treatment, Landfill of waste, Wood, DK' (kilogram, GLO, ['Input Output', 'Denmark 2003']),\n",
       " '_98 Waste treatment, Incineration of waste, Wood, DK' (kilogram, GLO, ['Input Output', 'Denmark 2003']),\n",
       " '104 Waste treatment, Composting of paper and wood, DK' (kilogram, GLO, ['Input Output', 'Denmark 2003']),\n",
       " '126 Waste treatment, Landfill of waste, Wood, EU27' (kilogram, GLO, ['Input Output', 'EU27 2003'])]"
      ]
     },
     "execution_count": 7,
     "metadata": {},
     "output_type": "execute_result"
    }
   ],
   "source": [
    "Database(\"forwast\").search('*wood*')"
   ]
  },
  {
   "cell_type": "markdown",
   "metadata": {},
   "source": [
    "How to pick up randomly an activity:"
   ]
  },
  {
   "cell_type": "code",
   "execution_count": 8,
   "metadata": {
    "collapsed": false
   },
   "outputs": [
    {
     "data": {
      "text/plain": [
       "(bw2data.backends.peewee.proxies.Activity,\n",
       " '_48 Recycling of slags and ashes, EU27' (kilogram, GLO, ['Input Output', 'EU27 2003']))"
      ]
     },
     "execution_count": 8,
     "metadata": {},
     "output_type": "execute_result"
    }
   ],
   "source": [
    "activity = Database(\"forwast\").random()\n",
    "type(activity), activity"
   ]
  },
  {
   "cell_type": "markdown",
   "metadata": {},
   "source": [
    "## Init the LCA"
   ]
  },
  {
   "cell_type": "code",
   "execution_count": 9,
   "metadata": {
    "collapsed": false
   },
   "outputs": [],
   "source": [
    "method_key=('ReCiPe Endpoint (I,A)', 'ecosystem quality', 'total')#'IMPACT 2002+ (Endpoint)', 'climate change', 'total')\n",
    "activity = Database(\"forwast\").search('Wood products EU27')[0]\n",
    "lca = LCA({activity: 1}, method_key)\n",
    "#[k for k in methods if any(['total' in e for e in k])]"
   ]
  },
  {
   "cell_type": "markdown",
   "metadata": {},
   "source": [
    "Here are the correspondances between the BrightWay2 variables names and the matrices in the formula: $h=QBA⁻¹f$\n",
    " * A = lca.technosphere_matrix\n",
    " * B = lca.biosphere_matrix\n",
    " * Q = lca.characterization_matrix\n",
    " * f = self.demand_array\n",
    " * h = self.characterized_inventory.sum(axis=1)\n",
    " * S = self.supply_array\n",
    " * g = self.inventory (sure?)"
   ]
  },
  {
   "cell_type": "markdown",
   "metadata": {},
   "source": [
    "## Compute LCA and fetch matrices"
   ]
  },
  {
   "cell_type": "code",
   "execution_count": 10,
   "metadata": {
    "collapsed": false
   },
   "outputs": [
    {
     "name": "stdout",
     "output_type": "stream",
     "text": [
      "m_a (277, 277)\t<class 'scipy.sparse.csr.csr_matrix'>\n",
      "m_b (20, 277)\t<class 'scipy.sparse.csr.csr_matrix'>\n",
      "m_q (20, 20)\t<class 'scipy.sparse.csr.csr_matrix'>\n",
      "h (20, 1)\t<class 'numpy.matrixlib.defmatrix.matrix'>\n",
      "s (277,)\t<class 'numpy.ndarray'>\n"
     ]
    },
    {
     "name": "stderr",
     "output_type": "stream",
     "text": [
      "Warning: (almost) singular matrix! (estimated cond. number: 9.77e+12)\n"
     ]
    }
   ],
   "source": [
    "lca.lci()\n",
    "lca.lcia()\n",
    "m_a = lca.technosphere_matrix\n",
    "m_b = lca.biosphere_matrix\n",
    "m_q = lca.characterization_matrix\n",
    "h = lca.characterized_inventory.sum(axis=1)\n",
    "s = lca.supply_array\n",
    "print('\\n'.join(['{} {}\\t{}'.format(x, eval(x).shape, type(eval(x))) for x in ['m_a','m_b','m_q','h','s']]))"
   ]
  },
  {
   "cell_type": "markdown",
   "metadata": {},
   "source": [
    "A, B and Q are stored as [sparse matrix](https://docs.scipy.org/doc/scipy/reference/sparse.html) with the \"Compressed Sparse Row\" type, namely [scipy.sparse.csr_matrix](https://docs.scipy.org/doc/scipy/reference/generated/scipy.sparse.csr_matrix.html#scipy.sparse.csr_matrix)"
   ]
  },
  {
   "cell_type": "markdown",
   "metadata": {},
   "source": [
    "## Computing the Relavite Sensitivity Coefficients\n",
    "This coefficients are described by [(Wei et al., 2015)](http://pubs.acs.org/doi/abs/10.1021/es502128k)\n",
    "\n",
    "The formula are:\n",
    "\\begin{align}\n",
    "\\frac{\\partial h_k / h_k}{\\partial a_{ij} / a_{ij}} & = - \\frac{a_{ij}}{h_k} s_j \\sum{l}(q_{kl}\\lambda_{li}) \\\\\n",
    "\\frac{\\partial h_k / h_k}{\\partial b_{ij} / b_{ij}} & = \\frac{b_{ij}}{h_k} s_j q_{ki} s_j\n",
    "\\end{align}\n",
    "\n",
    "It can be rewrited as:\n",
    "\\begin{align}\n",
    "RSC_k(A)_{ij} = - A_{ij}/h_k * Q.Λ\n",
    "\\end{align}\n",
    "where $\\frac{\\partial h_k / h_k}{\\partial a_{ij} / a_{ij}}$ (or $RSC_k(A)_{ij}$) is the relative sensitivity coefficient for the technosphere matrix A and the environmental impact $h_k$, and Λ is the intensity matrix defined by $Λ = B.A⁻¹$.\n",
    "\n",
    "### Intermediary result, computing $Λ$\n",
    "\n",
    "So for getting $Λ$, we have to solve the system $Λ.A=B$ that is equivalent to $A^T.Λ^T=B^T$ (don't forget to transpose the solve result to get $Λ$).\n"
   ]
  },
  {
   "cell_type": "code",
   "execution_count": 31,
   "metadata": {
    "collapsed": false
   },
   "outputs": [
    {
     "name": "stderr",
     "output_type": "stream",
     "text": [
      "Warning: (almost) singular matrix! (estimated cond. number: 9.77e+12)\n"
     ]
    },
    {
     "data": {
      "image/png": "[encoded data removed]",
      "text/plain": [
       "<matplotlib.figure.Figure at 0x7ff6d982c160>"
      ]
     },
     "metadata": {},
     "output_type": "display_data"
    }
   ],
   "source": [
    "try:\n",
    "    from pypardiso import factorized, spsolve\n",
    "except ImportError:\n",
    "    from scipy.sparse.linalg import factorized, spsolve\n",
    "m_lambda = spsolve(m_a.transpose(),m_b.transpose()).transpose()\n",
    "plt.spy(m_lambda,precision=0.01, markersize=1)\n",
    "plt.show()"
   ]
  },
  {
   "cell_type": "markdown",
   "metadata": {},
   "source": [
    "Because of the warning about the singularity of A, let's compute the determinant"
   ]
  },
  {
   "cell_type": "code",
   "execution_count": 32,
   "metadata": {
    "collapsed": false
   },
   "outputs": [
    {
     "name": "stdout",
     "output_type": "stream",
     "text": [
      "det(A) = 2.511434778587812e-10\n"
     ]
    },
    {
     "data": {
      "image/png": "[encoded data removed]",
      "text/plain": [
       "<matplotlib.figure.Figure at 0x7ff6d971d278>"
      ]
     },
     "metadata": {},
     "output_type": "display_data"
    }
   ],
   "source": [
    "from scipy import linalg\n",
    "print(\"det(A) = {}\".format(linalg.det(m_a.todense())))\n",
    "plt.spy(m_a,precision=0.01, markersize=1)\n",
    "plt.show()"
   ]
  },
  {
   "cell_type": "markdown",
   "metadata": {},
   "source": [
    "### Effectively computing the RSC"
   ]
  },
  {
   "cell_type": "code",
   "execution_count": 13,
   "metadata": {
    "collapsed": false
   },
   "outputs": [],
   "source": [
    "from scipy.sparse import csr_matrix\n",
    "m_ql = np.dot(m_q, m_lambda)\n",
    "rsca = [-csr_matrix(s).multiply(m_ql[k,:].transpose().multiply(m_a)).multiply(1/hk) for k,hk in enumerate(h)]"
   ]
  },
  {
   "cell_type": "code",
   "execution_count": 14,
   "metadata": {
    "collapsed": false
   },
   "outputs": [
    {
     "name": "stdout",
     "output_type": "stream",
     "text": [
      "Number of non-null elements in rsca: [0, 0, 0, 0, 29466, 0, 0, 29466, 29466, 0, 0, 0, 29466, 0, 0, 29466, 29466, 0, 0, 0]\n"
     ]
    }
   ],
   "source": [
    "print(\"Number of non-null elements in rsca: {}\".format([sum([len(t) for t in rsca_i.nonzero()]) for rsca_i in rsca]))"
   ]
  },
  {
   "cell_type": "code",
   "execution_count": 15,
   "metadata": {
    "collapsed": false
   },
   "outputs": [],
   "source": [
    "rscb = [m_q[k,:].transpose().multiply(m_b).multiply(csr_matrix(s)).multiply(1/hk) for k,hk in enumerate(h)]"
   ]
  },
  {
   "cell_type": "code",
   "execution_count": 16,
   "metadata": {
    "collapsed": false
   },
   "outputs": [
    {
     "name": "stdout",
     "output_type": "stream",
     "text": [
      "Number of non-null elements in rscb: [0, 0, 0, 0, 248, 0, 0, 244, 204, 0, 0, 0, 242, 0, 0, 244, 252, 0, 0, 0]\n"
     ]
    }
   ],
   "source": [
    "print(\"Number of non-null elements in rscb: {}\".format([sum([len(t) for t in rscb_i.nonzero()]) for rscb_i in rscb]))"
   ]
  },
  {
   "cell_type": "markdown",
   "metadata": {},
   "source": [
    "### Matrix rows and columns semantics\n",
    "How to retrieve information about an element of the biosphere and technosphere matrices.\n",
    "\n",
    "According to the source code of TechnosphereBiosphereMatrixBuilder in brightway2-calc / bw2calc / matrices.py, the rows of the biosphere matrix correspond to the biosphere elements and its columns to the activities, and the rows of the technosphere matrix correspond to the activities and its columns to the products."
   ]
  },
  {
   "cell_type": "code",
   "execution_count": 17,
   "metadata": {
    "collapsed": false
   },
   "outputs": [
    {
     "data": {
      "text/plain": [
       "'_32 Wood products, except furniture, EU27' (kilogram, GLO, ['Input Output', 'EU27 2003'])"
      ]
     },
     "execution_count": 17,
     "metadata": {},
     "output_type": "execute_result"
    }
   ],
   "source": [
    "activity"
   ]
  },
  {
   "cell_type": "code",
   "execution_count": 18,
   "metadata": {
    "collapsed": false
   },
   "outputs": [
    {
     "data": {
      "text/plain": [
       "{('biosphere3', '0795345f-c7ae-410c-ad25-1845784c75f5'): 16,\n",
       " ('biosphere3', '20185046-64bb-4c09-a8e7-e8a9e144ca98'): 4,\n",
       " ('biosphere3', '2d9f9c6b-8dca-4641-8ff9-53cb8beabd13'): 14,\n",
       " ('biosphere3', '349b29d1-3e58-4c66-98b9-9d1a076efd2e'): 12,\n",
       " ('biosphere3', '423ef039-6057-4f63-94bd-e9410d024bd0'): 11,\n",
       " ('biosphere3', '7c337428-fb1b-45c7-bbb2-2ee4d29e17ba'): 3,\n",
       " ('biosphere3', '87883a4e-1e3e-4c9d-90c0-f1bea36f8014'): 8,\n",
       " ('biosphere3', '88d06db9-59a1-4719-9174-afeb1fa4026a'): 13,\n",
       " ('biosphere3', 'a45cd247-3532-4e27-bddc-b519fdb5e08f'): 10,\n",
       " ('biosphere3', 'b6d0042d-0ef8-49ed-9162-a07ff1ccf750'): 2,\n",
       " ('biosphere3', 'ba2f3f82-c93a-47a5-822a-37ec97495275'): 1,\n",
       " ('biosphere3', 'c1b91234-6f24-417b-8309-46111d09c457'): 7,\n",
       " ('biosphere3', 'cc6a1abb-b123-4ca6-8f16-38209df609be'): 0,\n",
       " ('biosphere3', 'd3260d0e-8203-4cbb-a45a-6a13131a5108'): 18,\n",
       " ('biosphere3', 'e47e4e5f-6528-413d-a8fb-1cd1875fbd73'): 6,\n",
       " ('biosphere3', 'eba59fd6-f37e-41dc-9ca3-c7ea22d602c7'): 17,\n",
       " ('biosphere3', 'ed5ace5c-a203-4816-b33b-9fe0c5f0f519'): 19,\n",
       " ('biosphere3', 'f77aacc3-2c22-4bda-99ab-fe1110a1b891'): 5,\n",
       " ('biosphere3', 'f8f1ba14-9934-4678-8a78-e2cf1fce7775'): 9,\n",
       " ('biosphere3', 'fd7aa71c-508c-480d-81a6-8052aad92646'): 15}"
      ]
     },
     "execution_count": 18,
     "metadata": {},
     "output_type": "execute_result"
    }
   ],
   "source": [
    "lca.biosphere_dict"
   ]
  },
  {
   "cell_type": "code",
   "execution_count": 19,
   "metadata": {
    "collapsed": false
   },
   "outputs": [
    {
     "data": {
      "text/plain": [
       "{0: ('biosphere3', 'cc6a1abb-b123-4ca6-8f16-38209df609be'),\n",
       " 1: ('biosphere3', 'ba2f3f82-c93a-47a5-822a-37ec97495275'),\n",
       " 2: ('biosphere3', 'b6d0042d-0ef8-49ed-9162-a07ff1ccf750'),\n",
       " 3: ('biosphere3', '7c337428-fb1b-45c7-bbb2-2ee4d29e17ba'),\n",
       " 4: ('biosphere3', '20185046-64bb-4c09-a8e7-e8a9e144ca98'),\n",
       " 5: ('biosphere3', 'f77aacc3-2c22-4bda-99ab-fe1110a1b891'),\n",
       " 6: ('biosphere3', 'e47e4e5f-6528-413d-a8fb-1cd1875fbd73'),\n",
       " 7: ('biosphere3', 'c1b91234-6f24-417b-8309-46111d09c457'),\n",
       " 8: ('biosphere3', '87883a4e-1e3e-4c9d-90c0-f1bea36f8014'),\n",
       " 9: ('biosphere3', 'f8f1ba14-9934-4678-8a78-e2cf1fce7775'),\n",
       " 10: ('biosphere3', 'a45cd247-3532-4e27-bddc-b519fdb5e08f'),\n",
       " 11: ('biosphere3', '423ef039-6057-4f63-94bd-e9410d024bd0'),\n",
       " 12: ('biosphere3', '349b29d1-3e58-4c66-98b9-9d1a076efd2e'),\n",
       " 13: ('biosphere3', '88d06db9-59a1-4719-9174-afeb1fa4026a'),\n",
       " 14: ('biosphere3', '2d9f9c6b-8dca-4641-8ff9-53cb8beabd13'),\n",
       " 15: ('biosphere3', 'fd7aa71c-508c-480d-81a6-8052aad92646'),\n",
       " 16: ('biosphere3', '0795345f-c7ae-410c-ad25-1845784c75f5'),\n",
       " 17: ('biosphere3', 'eba59fd6-f37e-41dc-9ca3-c7ea22d602c7'),\n",
       " 18: ('biosphere3', 'd3260d0e-8203-4cbb-a45a-6a13131a5108'),\n",
       " 19: ('biosphere3', 'ed5ace5c-a203-4816-b33b-9fe0c5f0f519')}"
      ]
     },
     "execution_count": 19,
     "metadata": {},
     "output_type": "execute_result"
    }
   ],
   "source": [
    "rev_activity, rev_product, rev_bio = lca.reverse_dict()\n",
    "rev_bio"
   ]
  },
  {
   "cell_type": "code",
   "execution_count": 20,
   "metadata": {
    "collapsed": false
   },
   "outputs": [
    {
     "data": {
      "text/plain": [
       "'Methane, fossil' (kilogram, None, ('air',))"
      ]
     },
     "execution_count": 20,
     "metadata": {},
     "output_type": "execute_result"
    }
   ],
   "source": [
    "db=Database(\"biosphere3\")\n",
    "db.get('0795345f-c7ae-410c-ad25-1845784c75f5')"
   ]
  },
  {
   "cell_type": "code",
   "execution_count": 21,
   "metadata": {
    "collapsed": false,
    "scrolled": false
   },
   "outputs": [
    {
     "name": "stdout",
     "output_type": "stream",
     "text": [
      "('ReCiPe Endpoint (I,A)', 'ecosystem quality', 'total')\n",
      "{'num_cfs': 1208, 'filename': 'LCIA implementation v3.1 2014_08_13.xlsx', 'unit': 'points', 'abbreviation': 'recipe-endpoint-iaet.9caa86e41c98ae9ee8442c669fa031af', 'description': 'Implementation of the impact assessment method with the normalized and weighted damage factor. Weights (40% human health, 40% ecosystem quality, 20% resources) and normalization  for average European Individualist perspective (I/A). Long-term emissions have no factors in the Individualist perspective.'}\n"
     ]
    }
   ],
   "source": [
    "print(method_key)\n",
    "print(methods.get(method_key))"
   ]
  },
  {
   "cell_type": "markdown",
   "metadata": {},
   "source": [
    "### RSC results\n",
    "For example, we can get the five more important RSC for the impact #6 and the matrix A:"
   ]
  },
  {
   "cell_type": "code",
   "execution_count": 43,
   "metadata": {
    "collapsed": false
   },
   "outputs": [
    {
     "data": {
      "text/plain": [
       "[[12, 12, -0.1238713919339644],\n",
       " [126, 126, -0.21990216336032997],\n",
       " [31, 167, 0.28159051240436578],\n",
       " [31, 31, -0.33947883539448537],\n",
       " [167, 167, -1.0001221163390888]]"
      ]
     },
     "execution_count": 43,
     "metadata": {},
     "output_type": "execute_result"
    }
   ],
   "source": [
    "k=4\n",
    "[[x[0],x[1],rsca[k][x[0],x[1]]] for x in sorted(np.array(rsca[k].nonzero()).T, key=lambda x: abs(rsca[k][x[0],x[1]]))[-5:]]"
   ]
  },
  {
   "cell_type": "markdown",
   "metadata": {},
   "source": [
    "Or we can retrieve the RSC above a given threshold, and sort them"
   ]
  },
  {
   "cell_type": "code",
   "execution_count": 23,
   "metadata": {
    "collapsed": false
   },
   "outputs": [
    {
     "name": "stdout",
     "output_type": "stream",
     "text": [
      "[[7, 167, 167, -1.0001221163390892], [12, 167, 167, -1.0001221163390892], [15, 167, 167, -1.0001221163390892], [4, 167, 167, -1.0001221163390888], [16, 167, 167, -1.0001221163390885], [8, 167, 167, -1.0001221163390881], [8, 70, 70, -0.83862762146738312], [8, 70, 167, 0.64487395453831586], [8, 120, 120, -0.6416673219117297], [8, 120, 70, 0.63988465161091712], [15, 150, 150, -0.49736394425803665], [15, 150, 167, 0.36714638812219691], [12, 150, 150, -0.35512975076350434], [4, 31, 31, -0.33947883539448537], [7, 33, 33, -0.28546187536936068], [4, 31, 167, 0.28159051240436578], [16, 89, 89, -0.27252066199861408], [12, 150, 167, 0.26215130150228977], [4, 126, 126, -0.21990216336032997], [12, 33, 33, -0.20949432221148376], [8, 123, 167, 0.1908312857050917], [8, 123, 123, -0.19066436654411589], [7, 33, 167, 0.18841618278395308], [8, 70, 123, 0.17186413658590871], [16, 150, 150, -0.15994657551841365], [7, 123, 167, 0.14976462919143232], [7, 123, 123, -0.14963363082732176], [7, 150, 150, -0.1418687772749439], [16, 125, 125, -0.13974742638979393], [12, 33, 167, 0.13827457854022052], [4, 12, 12, -0.1238713919339644], [16, 125, 150, 0.12163151458453812], [16, 150, 167, 0.11807009368502465], [16, 123, 167, 0.11225396846458742], [16, 123, 123, -0.11215578048580248], [16, 89, 0, 0.11121772263500647], [4, 123, 167, 0.10779250086312185], [4, 123, 123, -0.10769821530749571], [4, 21, 21, -0.10741025556160136], [7, 150, 167, 0.10472534200586341]]\n"
     ]
    }
   ],
   "source": [
    "threshold=0.1\n",
    "rsca_filtered = [[k, x[0],x[1],rscak[x[0],x[1]]] for k,rscak in enumerate(rsca) for x in np.array(rscak.nonzero()).T  if abs(rscak[x[0],x[1]])>threshold]\n",
    "rsca_sorted = sorted(rsca_filtered, key=lambda x:abs(x[3]), reverse=True)\n",
    "print(rsca_sorted)"
   ]
  },
  {
   "cell_type": "code",
   "execution_count": 35,
   "metadata": {
    "collapsed": false,
    "scrolled": true
   },
   "outputs": [
    {
     "data": {
      "text/html": [
       "<div>\n",
       "<table border=\"1\" class=\"dataframe\">\n",
       "  <thead>\n",
       "    <tr style=\"text-align: right;\">\n",
       "      <th></th>\n",
       "      <th>Impact</th>\n",
       "      <th>x</th>\n",
       "      <th>y</th>\n",
       "      <th>RSC</th>\n",
       "      <th>Activity(x)</th>\n",
       "      <th>Product(y)</th>\n",
       "    </tr>\n",
       "  </thead>\n",
       "  <tbody>\n",
       "    <tr>\n",
       "      <th>0</th>\n",
       "      <td>7</td>\n",
       "      <td>167</td>\n",
       "      <td>167</td>\n",
       "      <td>-1.000122</td>\n",
       "      <td>'_32 Wood products, except furniture, EU27' (k...</td>\n",
       "      <td>'_32 Wood products, except furniture, EU27' (k...</td>\n",
       "    </tr>\n",
       "    <tr>\n",
       "      <th>1</th>\n",
       "      <td>12</td>\n",
       "      <td>167</td>\n",
       "      <td>167</td>\n",
       "      <td>-1.000122</td>\n",
       "      <td>'_32 Wood products, except furniture, EU27' (k...</td>\n",
       "      <td>'_32 Wood products, except furniture, EU27' (k...</td>\n",
       "    </tr>\n",
       "    <tr>\n",
       "      <th>2</th>\n",
       "      <td>15</td>\n",
       "      <td>167</td>\n",
       "      <td>167</td>\n",
       "      <td>-1.000122</td>\n",
       "      <td>'_32 Wood products, except furniture, EU27' (k...</td>\n",
       "      <td>'_32 Wood products, except furniture, EU27' (k...</td>\n",
       "    </tr>\n",
       "    <tr>\n",
       "      <th>3</th>\n",
       "      <td>4</td>\n",
       "      <td>167</td>\n",
       "      <td>167</td>\n",
       "      <td>-1.000122</td>\n",
       "      <td>'_32 Wood products, except furniture, EU27' (k...</td>\n",
       "      <td>'_32 Wood products, except furniture, EU27' (k...</td>\n",
       "    </tr>\n",
       "    <tr>\n",
       "      <th>4</th>\n",
       "      <td>16</td>\n",
       "      <td>167</td>\n",
       "      <td>167</td>\n",
       "      <td>-1.000122</td>\n",
       "      <td>'_32 Wood products, except furniture, EU27' (k...</td>\n",
       "      <td>'_32 Wood products, except furniture, EU27' (k...</td>\n",
       "    </tr>\n",
       "    <tr>\n",
       "      <th>5</th>\n",
       "      <td>8</td>\n",
       "      <td>167</td>\n",
       "      <td>167</td>\n",
       "      <td>-1.000122</td>\n",
       "      <td>'_32 Wood products, except furniture, EU27' (k...</td>\n",
       "      <td>'_32 Wood products, except furniture, EU27' (k...</td>\n",
       "    </tr>\n",
       "    <tr>\n",
       "      <th>6</th>\n",
       "      <td>8</td>\n",
       "      <td>70</td>\n",
       "      <td>70</td>\n",
       "      <td>-0.838628</td>\n",
       "      <td>'113 Waste treatment, Composting of paper and ...</td>\n",
       "      <td>'113 Waste treatment, Composting of paper and ...</td>\n",
       "    </tr>\n",
       "    <tr>\n",
       "      <th>7</th>\n",
       "      <td>8</td>\n",
       "      <td>70</td>\n",
       "      <td>167</td>\n",
       "      <td>0.644874</td>\n",
       "      <td>'113 Waste treatment, Composting of paper and ...</td>\n",
       "      <td>'_32 Wood products, except furniture, EU27' (k...</td>\n",
       "    </tr>\n",
       "    <tr>\n",
       "      <th>8</th>\n",
       "      <td>8</td>\n",
       "      <td>120</td>\n",
       "      <td>120</td>\n",
       "      <td>-0.641667</td>\n",
       "      <td>'129 Waste treatment, Land application of comp...</td>\n",
       "      <td>'129 Waste treatment, Land application of comp...</td>\n",
       "    </tr>\n",
       "    <tr>\n",
       "      <th>9</th>\n",
       "      <td>8</td>\n",
       "      <td>120</td>\n",
       "      <td>70</td>\n",
       "      <td>0.639885</td>\n",
       "      <td>'129 Waste treatment, Land application of comp...</td>\n",
       "      <td>'113 Waste treatment, Composting of paper and ...</td>\n",
       "    </tr>\n",
       "    <tr>\n",
       "      <th>10</th>\n",
       "      <td>15</td>\n",
       "      <td>150</td>\n",
       "      <td>150</td>\n",
       "      <td>-0.497364</td>\n",
       "      <td>'_75 Electricity, steam and hot water, EU27' (...</td>\n",
       "      <td>'_75 Electricity, steam and hot water, EU27' (...</td>\n",
       "    </tr>\n",
       "    <tr>\n",
       "      <th>11</th>\n",
       "      <td>15</td>\n",
       "      <td>150</td>\n",
       "      <td>167</td>\n",
       "      <td>0.367146</td>\n",
       "      <td>'_75 Electricity, steam and hot water, EU27' (...</td>\n",
       "      <td>'_32 Wood products, except furniture, EU27' (k...</td>\n",
       "    </tr>\n",
       "    <tr>\n",
       "      <th>12</th>\n",
       "      <td>12</td>\n",
       "      <td>150</td>\n",
       "      <td>150</td>\n",
       "      <td>-0.355130</td>\n",
       "      <td>'_75 Electricity, steam and hot water, EU27' (...</td>\n",
       "      <td>'_75 Electricity, steam and hot water, EU27' (...</td>\n",
       "    </tr>\n",
       "    <tr>\n",
       "      <th>13</th>\n",
       "      <td>4</td>\n",
       "      <td>31</td>\n",
       "      <td>31</td>\n",
       "      <td>-0.339479</td>\n",
       "      <td>'_39 Fertiliser, N, EU27' (kilogram, GLO, ['In...</td>\n",
       "      <td>'_39 Fertiliser, N, EU27' (kilogram, GLO, ['In...</td>\n",
       "    </tr>\n",
       "    <tr>\n",
       "      <th>14</th>\n",
       "      <td>7</td>\n",
       "      <td>33</td>\n",
       "      <td>33</td>\n",
       "      <td>-0.285462</td>\n",
       "      <td>'_85 Land transport and transport via pipeline...</td>\n",
       "      <td>'_85 Land transport and transport via pipeline...</td>\n",
       "    </tr>\n",
       "    <tr>\n",
       "      <th>15</th>\n",
       "      <td>4</td>\n",
       "      <td>31</td>\n",
       "      <td>167</td>\n",
       "      <td>0.281591</td>\n",
       "      <td>'_39 Fertiliser, N, EU27' (kilogram, GLO, ['In...</td>\n",
       "      <td>'_32 Wood products, except furniture, EU27' (k...</td>\n",
       "    </tr>\n",
       "    <tr>\n",
       "      <th>16</th>\n",
       "      <td>16</td>\n",
       "      <td>89</td>\n",
       "      <td>89</td>\n",
       "      <td>-0.272521</td>\n",
       "      <td>'117 Waste treatment, Landfill of waste, Paper...</td>\n",
       "      <td>'117 Waste treatment, Landfill of waste, Paper...</td>\n",
       "    </tr>\n",
       "    <tr>\n",
       "      <th>17</th>\n",
       "      <td>12</td>\n",
       "      <td>150</td>\n",
       "      <td>167</td>\n",
       "      <td>0.262151</td>\n",
       "      <td>'_75 Electricity, steam and hot water, EU27' (...</td>\n",
       "      <td>'_32 Wood products, except furniture, EU27' (k...</td>\n",
       "    </tr>\n",
       "    <tr>\n",
       "      <th>18</th>\n",
       "      <td>4</td>\n",
       "      <td>126</td>\n",
       "      <td>126</td>\n",
       "      <td>-0.219902</td>\n",
       "      <td>'_43 Chemicals n.e.c., EU27' (kilogram, GLO, [...</td>\n",
       "      <td>'_43 Chemicals n.e.c., EU27' (kilogram, GLO, [...</td>\n",
       "    </tr>\n",
       "    <tr>\n",
       "      <th>19</th>\n",
       "      <td>12</td>\n",
       "      <td>33</td>\n",
       "      <td>33</td>\n",
       "      <td>-0.209494</td>\n",
       "      <td>'_85 Land transport and transport via pipeline...</td>\n",
       "      <td>'_85 Land transport and transport via pipeline...</td>\n",
       "    </tr>\n",
       "    <tr>\n",
       "      <th>20</th>\n",
       "      <td>8</td>\n",
       "      <td>123</td>\n",
       "      <td>167</td>\n",
       "      <td>0.190831</td>\n",
       "      <td>'__7 Forest products, EU27' (kilogram, GLO, ['...</td>\n",
       "      <td>'_32 Wood products, except furniture, EU27' (k...</td>\n",
       "    </tr>\n",
       "    <tr>\n",
       "      <th>21</th>\n",
       "      <td>8</td>\n",
       "      <td>123</td>\n",
       "      <td>123</td>\n",
       "      <td>-0.190664</td>\n",
       "      <td>'__7 Forest products, EU27' (kilogram, GLO, ['...</td>\n",
       "      <td>'__7 Forest products, EU27' (kilogram, GLO, ['...</td>\n",
       "    </tr>\n",
       "    <tr>\n",
       "      <th>22</th>\n",
       "      <td>7</td>\n",
       "      <td>33</td>\n",
       "      <td>167</td>\n",
       "      <td>0.188416</td>\n",
       "      <td>'_85 Land transport and transport via pipeline...</td>\n",
       "      <td>'_32 Wood products, except furniture, EU27' (k...</td>\n",
       "    </tr>\n",
       "    <tr>\n",
       "      <th>23</th>\n",
       "      <td>8</td>\n",
       "      <td>70</td>\n",
       "      <td>123</td>\n",
       "      <td>0.171864</td>\n",
       "      <td>'113 Waste treatment, Composting of paper and ...</td>\n",
       "      <td>'__7 Forest products, EU27' (kilogram, GLO, ['...</td>\n",
       "    </tr>\n",
       "    <tr>\n",
       "      <th>24</th>\n",
       "      <td>16</td>\n",
       "      <td>150</td>\n",
       "      <td>150</td>\n",
       "      <td>-0.159947</td>\n",
       "      <td>'_75 Electricity, steam and hot water, EU27' (...</td>\n",
       "      <td>'_75 Electricity, steam and hot water, EU27' (...</td>\n",
       "    </tr>\n",
       "    <tr>\n",
       "      <th>25</th>\n",
       "      <td>7</td>\n",
       "      <td>123</td>\n",
       "      <td>167</td>\n",
       "      <td>0.149765</td>\n",
       "      <td>'__7 Forest products, EU27' (kilogram, GLO, ['...</td>\n",
       "      <td>'_32 Wood products, except furniture, EU27' (k...</td>\n",
       "    </tr>\n",
       "    <tr>\n",
       "      <th>26</th>\n",
       "      <td>7</td>\n",
       "      <td>123</td>\n",
       "      <td>123</td>\n",
       "      <td>-0.149634</td>\n",
       "      <td>'__7 Forest products, EU27' (kilogram, GLO, ['...</td>\n",
       "      <td>'__7 Forest products, EU27' (kilogram, GLO, ['...</td>\n",
       "    </tr>\n",
       "    <tr>\n",
       "      <th>27</th>\n",
       "      <td>7</td>\n",
       "      <td>150</td>\n",
       "      <td>150</td>\n",
       "      <td>-0.141869</td>\n",
       "      <td>'_75 Electricity, steam and hot water, EU27' (...</td>\n",
       "      <td>'_75 Electricity, steam and hot water, EU27' (...</td>\n",
       "    </tr>\n",
       "    <tr>\n",
       "      <th>28</th>\n",
       "      <td>16</td>\n",
       "      <td>125</td>\n",
       "      <td>125</td>\n",
       "      <td>-0.139747</td>\n",
       "      <td>'_10 Coal, lignite, peat, EU27' (kilogram, GLO...</td>\n",
       "      <td>'_10 Coal, lignite, peat, EU27' (kilogram, GLO...</td>\n",
       "    </tr>\n",
       "    <tr>\n",
       "      <th>29</th>\n",
       "      <td>12</td>\n",
       "      <td>33</td>\n",
       "      <td>167</td>\n",
       "      <td>0.138275</td>\n",
       "      <td>'_85 Land transport and transport via pipeline...</td>\n",
       "      <td>'_32 Wood products, except furniture, EU27' (k...</td>\n",
       "    </tr>\n",
       "    <tr>\n",
       "      <th>30</th>\n",
       "      <td>4</td>\n",
       "      <td>12</td>\n",
       "      <td>12</td>\n",
       "      <td>-0.123871</td>\n",
       "      <td>'__5 Crops n.e.c., EU27' (kilogram, GLO, ['Inp...</td>\n",
       "      <td>'__5 Crops n.e.c., EU27' (kilogram, GLO, ['Inp...</td>\n",
       "    </tr>\n",
       "    <tr>\n",
       "      <th>31</th>\n",
       "      <td>16</td>\n",
       "      <td>125</td>\n",
       "      <td>150</td>\n",
       "      <td>0.121632</td>\n",
       "      <td>'_10 Coal, lignite, peat, EU27' (kilogram, GLO...</td>\n",
       "      <td>'_75 Electricity, steam and hot water, EU27' (...</td>\n",
       "    </tr>\n",
       "    <tr>\n",
       "      <th>32</th>\n",
       "      <td>16</td>\n",
       "      <td>150</td>\n",
       "      <td>167</td>\n",
       "      <td>0.118070</td>\n",
       "      <td>'_75 Electricity, steam and hot water, EU27' (...</td>\n",
       "      <td>'_32 Wood products, except furniture, EU27' (k...</td>\n",
       "    </tr>\n",
       "    <tr>\n",
       "      <th>33</th>\n",
       "      <td>16</td>\n",
       "      <td>123</td>\n",
       "      <td>167</td>\n",
       "      <td>0.112254</td>\n",
       "      <td>'__7 Forest products, EU27' (kilogram, GLO, ['...</td>\n",
       "      <td>'_32 Wood products, except furniture, EU27' (k...</td>\n",
       "    </tr>\n",
       "    <tr>\n",
       "      <th>34</th>\n",
       "      <td>16</td>\n",
       "      <td>123</td>\n",
       "      <td>123</td>\n",
       "      <td>-0.112156</td>\n",
       "      <td>'__7 Forest products, EU27' (kilogram, GLO, ['...</td>\n",
       "      <td>'__7 Forest products, EU27' (kilogram, GLO, ['...</td>\n",
       "    </tr>\n",
       "    <tr>\n",
       "      <th>35</th>\n",
       "      <td>16</td>\n",
       "      <td>89</td>\n",
       "      <td>0</td>\n",
       "      <td>0.111218</td>\n",
       "      <td>'117 Waste treatment, Landfill of waste, Paper...</td>\n",
       "      <td>'_34 Recycling of waste paper, EU27' (kilogram...</td>\n",
       "    </tr>\n",
       "    <tr>\n",
       "      <th>36</th>\n",
       "      <td>4</td>\n",
       "      <td>123</td>\n",
       "      <td>167</td>\n",
       "      <td>0.107793</td>\n",
       "      <td>'__7 Forest products, EU27' (kilogram, GLO, ['...</td>\n",
       "      <td>'_32 Wood products, except furniture, EU27' (k...</td>\n",
       "    </tr>\n",
       "    <tr>\n",
       "      <th>37</th>\n",
       "      <td>4</td>\n",
       "      <td>123</td>\n",
       "      <td>123</td>\n",
       "      <td>-0.107698</td>\n",
       "      <td>'__7 Forest products, EU27' (kilogram, GLO, ['...</td>\n",
       "      <td>'__7 Forest products, EU27' (kilogram, GLO, ['...</td>\n",
       "    </tr>\n",
       "    <tr>\n",
       "      <th>38</th>\n",
       "      <td>4</td>\n",
       "      <td>21</td>\n",
       "      <td>21</td>\n",
       "      <td>-0.107410</td>\n",
       "      <td>'__4 Grain crops, EU27' (kilogram, GLO, ['Inpu...</td>\n",
       "      <td>'__4 Grain crops, EU27' (kilogram, GLO, ['Inpu...</td>\n",
       "    </tr>\n",
       "    <tr>\n",
       "      <th>39</th>\n",
       "      <td>7</td>\n",
       "      <td>150</td>\n",
       "      <td>167</td>\n",
       "      <td>0.104725</td>\n",
       "      <td>'_75 Electricity, steam and hot water, EU27' (...</td>\n",
       "      <td>'_32 Wood products, except furniture, EU27' (k...</td>\n",
       "    </tr>\n",
       "  </tbody>\n",
       "</table>\n",
       "</div>"
      ],
      "text/plain": [
       "    Impact    x    y       RSC  \\\n",
       "0        7  167  167 -1.000122   \n",
       "1       12  167  167 -1.000122   \n",
       "2       15  167  167 -1.000122   \n",
       "3        4  167  167 -1.000122   \n",
       "4       16  167  167 -1.000122   \n",
       "5        8  167  167 -1.000122   \n",
       "6        8   70   70 -0.838628   \n",
       "7        8   70  167  0.644874   \n",
       "8        8  120  120 -0.641667   \n",
       "9        8  120   70  0.639885   \n",
       "10      15  150  150 -0.497364   \n",
       "11      15  150  167  0.367146   \n",
       "12      12  150  150 -0.355130   \n",
       "13       4   31   31 -0.339479   \n",
       "14       7   33   33 -0.285462   \n",
       "15       4   31  167  0.281591   \n",
       "16      16   89   89 -0.272521   \n",
       "17      12  150  167  0.262151   \n",
       "18       4  126  126 -0.219902   \n",
       "19      12   33   33 -0.209494   \n",
       "20       8  123  167  0.190831   \n",
       "21       8  123  123 -0.190664   \n",
       "22       7   33  167  0.188416   \n",
       "23       8   70  123  0.171864   \n",
       "24      16  150  150 -0.159947   \n",
       "25       7  123  167  0.149765   \n",
       "26       7  123  123 -0.149634   \n",
       "27       7  150  150 -0.141869   \n",
       "28      16  125  125 -0.139747   \n",
       "29      12   33  167  0.138275   \n",
       "30       4   12   12 -0.123871   \n",
       "31      16  125  150  0.121632   \n",
       "32      16  150  167  0.118070   \n",
       "33      16  123  167  0.112254   \n",
       "34      16  123  123 -0.112156   \n",
       "35      16   89    0  0.111218   \n",
       "36       4  123  167  0.107793   \n",
       "37       4  123  123 -0.107698   \n",
       "38       4   21   21 -0.107410   \n",
       "39       7  150  167  0.104725   \n",
       "\n",
       "                                          Activity(x)  \\\n",
       "0   '_32 Wood products, except furniture, EU27' (k...   \n",
       "1   '_32 Wood products, except furniture, EU27' (k...   \n",
       "2   '_32 Wood products, except furniture, EU27' (k...   \n",
       "3   '_32 Wood products, except furniture, EU27' (k...   \n",
       "4   '_32 Wood products, except furniture, EU27' (k...   \n",
       "5   '_32 Wood products, except furniture, EU27' (k...   \n",
       "6   '113 Waste treatment, Composting of paper and ...   \n",
       "7   '113 Waste treatment, Composting of paper and ...   \n",
       "8   '129 Waste treatment, Land application of comp...   \n",
       "9   '129 Waste treatment, Land application of comp...   \n",
       "10  '_75 Electricity, steam and hot water, EU27' (...   \n",
       "11  '_75 Electricity, steam and hot water, EU27' (...   \n",
       "12  '_75 Electricity, steam and hot water, EU27' (...   \n",
       "13  '_39 Fertiliser, N, EU27' (kilogram, GLO, ['In...   \n",
       "14  '_85 Land transport and transport via pipeline...   \n",
       "15  '_39 Fertiliser, N, EU27' (kilogram, GLO, ['In...   \n",
       "16  '117 Waste treatment, Landfill of waste, Paper...   \n",
       "17  '_75 Electricity, steam and hot water, EU27' (...   \n",
       "18  '_43 Chemicals n.e.c., EU27' (kilogram, GLO, [...   \n",
       "19  '_85 Land transport and transport via pipeline...   \n",
       "20  '__7 Forest products, EU27' (kilogram, GLO, ['...   \n",
       "21  '__7 Forest products, EU27' (kilogram, GLO, ['...   \n",
       "22  '_85 Land transport and transport via pipeline...   \n",
       "23  '113 Waste treatment, Composting of paper and ...   \n",
       "24  '_75 Electricity, steam and hot water, EU27' (...   \n",
       "25  '__7 Forest products, EU27' (kilogram, GLO, ['...   \n",
       "26  '__7 Forest products, EU27' (kilogram, GLO, ['...   \n",
       "27  '_75 Electricity, steam and hot water, EU27' (...   \n",
       "28  '_10 Coal, lignite, peat, EU27' (kilogram, GLO...   \n",
       "29  '_85 Land transport and transport via pipeline...   \n",
       "30  '__5 Crops n.e.c., EU27' (kilogram, GLO, ['Inp...   \n",
       "31  '_10 Coal, lignite, peat, EU27' (kilogram, GLO...   \n",
       "32  '_75 Electricity, steam and hot water, EU27' (...   \n",
       "33  '__7 Forest products, EU27' (kilogram, GLO, ['...   \n",
       "34  '__7 Forest products, EU27' (kilogram, GLO, ['...   \n",
       "35  '117 Waste treatment, Landfill of waste, Paper...   \n",
       "36  '__7 Forest products, EU27' (kilogram, GLO, ['...   \n",
       "37  '__7 Forest products, EU27' (kilogram, GLO, ['...   \n",
       "38  '__4 Grain crops, EU27' (kilogram, GLO, ['Inpu...   \n",
       "39  '_75 Electricity, steam and hot water, EU27' (...   \n",
       "\n",
       "                                           Product(y)  \n",
       "0   '_32 Wood products, except furniture, EU27' (k...  \n",
       "1   '_32 Wood products, except furniture, EU27' (k...  \n",
       "2   '_32 Wood products, except furniture, EU27' (k...  \n",
       "3   '_32 Wood products, except furniture, EU27' (k...  \n",
       "4   '_32 Wood products, except furniture, EU27' (k...  \n",
       "5   '_32 Wood products, except furniture, EU27' (k...  \n",
       "6   '113 Waste treatment, Composting of paper and ...  \n",
       "7   '_32 Wood products, except furniture, EU27' (k...  \n",
       "8   '129 Waste treatment, Land application of comp...  \n",
       "9   '113 Waste treatment, Composting of paper and ...  \n",
       "10  '_75 Electricity, steam and hot water, EU27' (...  \n",
       "11  '_32 Wood products, except furniture, EU27' (k...  \n",
       "12  '_75 Electricity, steam and hot water, EU27' (...  \n",
       "13  '_39 Fertiliser, N, EU27' (kilogram, GLO, ['In...  \n",
       "14  '_85 Land transport and transport via pipeline...  \n",
       "15  '_32 Wood products, except furniture, EU27' (k...  \n",
       "16  '117 Waste treatment, Landfill of waste, Paper...  \n",
       "17  '_32 Wood products, except furniture, EU27' (k...  \n",
       "18  '_43 Chemicals n.e.c., EU27' (kilogram, GLO, [...  \n",
       "19  '_85 Land transport and transport via pipeline...  \n",
       "20  '_32 Wood products, except furniture, EU27' (k...  \n",
       "21  '__7 Forest products, EU27' (kilogram, GLO, ['...  \n",
       "22  '_32 Wood products, except furniture, EU27' (k...  \n",
       "23  '__7 Forest products, EU27' (kilogram, GLO, ['...  \n",
       "24  '_75 Electricity, steam and hot water, EU27' (...  \n",
       "25  '_32 Wood products, except furniture, EU27' (k...  \n",
       "26  '__7 Forest products, EU27' (kilogram, GLO, ['...  \n",
       "27  '_75 Electricity, steam and hot water, EU27' (...  \n",
       "28  '_10 Coal, lignite, peat, EU27' (kilogram, GLO...  \n",
       "29  '_32 Wood products, except furniture, EU27' (k...  \n",
       "30  '__5 Crops n.e.c., EU27' (kilogram, GLO, ['Inp...  \n",
       "31  '_75 Electricity, steam and hot water, EU27' (...  \n",
       "32  '_32 Wood products, except furniture, EU27' (k...  \n",
       "33  '_32 Wood products, except furniture, EU27' (k...  \n",
       "34  '__7 Forest products, EU27' (kilogram, GLO, ['...  \n",
       "35  '_34 Recycling of waste paper, EU27' (kilogram...  \n",
       "36  '_32 Wood products, except furniture, EU27' (k...  \n",
       "37  '__7 Forest products, EU27' (kilogram, GLO, ['...  \n",
       "38  '__4 Grain crops, EU27' (kilogram, GLO, ['Inpu...  \n",
       "39  '_32 Wood products, except furniture, EU27' (k...  "
      ]
     },
     "metadata": {},
     "output_type": "display_data"
    }
   ],
   "source": [
    "rsca_summary = [x+[\n",
    "        str(Database(rev_activity[x[1]][0]).get(rev_activity[x[1]][1])),\n",
    "        str(Database(rev_product[x[2]][0]).get(rev_product[x[2]][1]))] for x in rsca_sorted]\n",
    "import pandas as pd\n",
    "from IPython.display import display\n",
    "rsca_sorted_df=pd.DataFrame(rsca_summary, columns = ['Impact','x','y','RSC','Activity(x)','Product(y)'])\n",
    "display(rsca_sorted_df)\n",
    "# TODO translate Impact index"
   ]
  },
  {
   "cell_type": "code",
   "execution_count": 69,
   "metadata": {
    "collapsed": false
   },
   "outputs": [
    {
     "data": {
      "text/html": [
       "<div>\n",
       "<table border=\"1\" class=\"dataframe\">\n",
       "  <thead>\n",
       "    <tr style=\"text-align: right;\">\n",
       "      <th></th>\n",
       "      <th>Impact</th>\n",
       "      <th>x</th>\n",
       "      <th>y</th>\n",
       "      <th>RSC</th>\n",
       "      <th>Biosphere(x)</th>\n",
       "      <th>Activity(y)</th>\n",
       "    </tr>\n",
       "  </thead>\n",
       "  <tbody>\n",
       "    <tr>\n",
       "      <th>0</th>\n",
       "      <td>8</td>\n",
       "      <td>8</td>\n",
       "      <td>120</td>\n",
       "      <td>0.644122</td>\n",
       "      <td>'Ammonia' (kilogram, None, ('air',))</td>\n",
       "      <td>'129 Waste treatment, Land application of comp...</td>\n",
       "    </tr>\n",
       "    <tr>\n",
       "      <th>1</th>\n",
       "      <td>15</td>\n",
       "      <td>15</td>\n",
       "      <td>150</td>\n",
       "      <td>0.482167</td>\n",
       "      <td>'Sulfur dioxide' (kilogram, None, ('air',))</td>\n",
       "      <td>'_75 Electricity, steam and hot water, EU27' (...</td>\n",
       "    </tr>\n",
       "    <tr>\n",
       "      <th>2</th>\n",
       "      <td>12</td>\n",
       "      <td>12</td>\n",
       "      <td>150</td>\n",
       "      <td>0.338423</td>\n",
       "      <td>'Carbon dioxide, fossil' (kilogram, None, ('ai...</td>\n",
       "      <td>'_75 Electricity, steam and hot water, EU27' (...</td>\n",
       "    </tr>\n",
       "    <tr>\n",
       "      <th>3</th>\n",
       "      <td>7</td>\n",
       "      <td>7</td>\n",
       "      <td>167</td>\n",
       "      <td>0.304229</td>\n",
       "      <td>'Nitrogen oxides' (kilogram, None, ('air',))</td>\n",
       "      <td>'_32 Wood products, except furniture, EU27' (k...</td>\n",
       "    </tr>\n",
       "    <tr>\n",
       "      <th>4</th>\n",
       "      <td>4</td>\n",
       "      <td>4</td>\n",
       "      <td>31</td>\n",
       "      <td>0.301212</td>\n",
       "      <td>'Dinitrogen monoxide' (kilogram, None, ('air',))</td>\n",
       "      <td>'_39 Fertiliser, N, EU27' (kilogram, GLO, ['In...</td>\n",
       "    </tr>\n",
       "    <tr>\n",
       "      <th>5</th>\n",
       "      <td>16</td>\n",
       "      <td>16</td>\n",
       "      <td>89</td>\n",
       "      <td>0.272354</td>\n",
       "      <td>'Methane, fossil' (kilogram, None, ('air',))</td>\n",
       "      <td>'117 Waste treatment, Landfill of waste, Paper...</td>\n",
       "    </tr>\n",
       "    <tr>\n",
       "      <th>6</th>\n",
       "      <td>7</td>\n",
       "      <td>7</td>\n",
       "      <td>33</td>\n",
       "      <td>0.255862</td>\n",
       "      <td>'Nitrogen oxides' (kilogram, None, ('air',))</td>\n",
       "      <td>'_85 Land transport and transport via pipeline...</td>\n",
       "    </tr>\n",
       "    <tr>\n",
       "      <th>7</th>\n",
       "      <td>15</td>\n",
       "      <td>15</td>\n",
       "      <td>167</td>\n",
       "      <td>0.198455</td>\n",
       "      <td>'Sulfur dioxide' (kilogram, None, ('air',))</td>\n",
       "      <td>'_32 Wood products, except furniture, EU27' (k...</td>\n",
       "    </tr>\n",
       "    <tr>\n",
       "      <th>8</th>\n",
       "      <td>8</td>\n",
       "      <td>8</td>\n",
       "      <td>70</td>\n",
       "      <td>0.197802</td>\n",
       "      <td>'Ammonia' (kilogram, None, ('air',))</td>\n",
       "      <td>'113 Waste treatment, Composting of paper and ...</td>\n",
       "    </tr>\n",
       "    <tr>\n",
       "      <th>9</th>\n",
       "      <td>12</td>\n",
       "      <td>12</td>\n",
       "      <td>33</td>\n",
       "      <td>0.158488</td>\n",
       "      <td>'Carbon dioxide, fossil' (kilogram, None, ('ai...</td>\n",
       "      <td>'_85 Land transport and transport via pipeline...</td>\n",
       "    </tr>\n",
       "    <tr>\n",
       "      <th>10</th>\n",
       "      <td>12</td>\n",
       "      <td>12</td>\n",
       "      <td>167</td>\n",
       "      <td>0.148652</td>\n",
       "      <td>'Carbon dioxide, fossil' (kilogram, None, ('ai...</td>\n",
       "      <td>'_32 Wood products, except furniture, EU27' (k...</td>\n",
       "    </tr>\n",
       "    <tr>\n",
       "      <th>11</th>\n",
       "      <td>16</td>\n",
       "      <td>16</td>\n",
       "      <td>125</td>\n",
       "      <td>0.137677</td>\n",
       "      <td>'Methane, fossil' (kilogram, None, ('air',))</td>\n",
       "      <td>'_10 Coal, lignite, peat, EU27' (kilogram, GLO...</td>\n",
       "    </tr>\n",
       "    <tr>\n",
       "      <th>12</th>\n",
       "      <td>4</td>\n",
       "      <td>4</td>\n",
       "      <td>126</td>\n",
       "      <td>0.134162</td>\n",
       "      <td>'Dinitrogen monoxide' (kilogram, None, ('air',))</td>\n",
       "      <td>'_43 Chemicals n.e.c., EU27' (kilogram, GLO, [...</td>\n",
       "    </tr>\n",
       "    <tr>\n",
       "      <th>13</th>\n",
       "      <td>7</td>\n",
       "      <td>7</td>\n",
       "      <td>150</td>\n",
       "      <td>0.130623</td>\n",
       "      <td>'Nitrogen oxides' (kilogram, None, ('air',))</td>\n",
       "      <td>'_75 Electricity, steam and hot water, EU27' (...</td>\n",
       "    </tr>\n",
       "    <tr>\n",
       "      <th>14</th>\n",
       "      <td>7</td>\n",
       "      <td>7</td>\n",
       "      <td>123</td>\n",
       "      <td>0.118546</td>\n",
       "      <td>'Nitrogen oxides' (kilogram, None, ('air',))</td>\n",
       "      <td>'__7 Forest products, EU27' (kilogram, GLO, ['...</td>\n",
       "    </tr>\n",
       "    <tr>\n",
       "      <th>15</th>\n",
       "      <td>4</td>\n",
       "      <td>4</td>\n",
       "      <td>12</td>\n",
       "      <td>0.111497</td>\n",
       "      <td>'Dinitrogen monoxide' (kilogram, None, ('air',))</td>\n",
       "      <td>'__5 Crops n.e.c., EU27' (kilogram, GLO, ['Inp...</td>\n",
       "    </tr>\n",
       "    <tr>\n",
       "      <th>16</th>\n",
       "      <td>4</td>\n",
       "      <td>4</td>\n",
       "      <td>167</td>\n",
       "      <td>0.109441</td>\n",
       "      <td>'Dinitrogen monoxide' (kilogram, None, ('air',))</td>\n",
       "      <td>'_32 Wood products, except furniture, EU27' (k...</td>\n",
       "    </tr>\n",
       "    <tr>\n",
       "      <th>17</th>\n",
       "      <td>16</td>\n",
       "      <td>16</td>\n",
       "      <td>70</td>\n",
       "      <td>0.102979</td>\n",
       "      <td>'Methane, fossil' (kilogram, None, ('air',))</td>\n",
       "      <td>'113 Waste treatment, Composting of paper and ...</td>\n",
       "    </tr>\n",
       "  </tbody>\n",
       "</table>\n",
       "</div>"
      ],
      "text/plain": [
       "    Impact   x    y       RSC  \\\n",
       "0        8   8  120  0.644122   \n",
       "1       15  15  150  0.482167   \n",
       "2       12  12  150  0.338423   \n",
       "3        7   7  167  0.304229   \n",
       "4        4   4   31  0.301212   \n",
       "5       16  16   89  0.272354   \n",
       "6        7   7   33  0.255862   \n",
       "7       15  15  167  0.198455   \n",
       "8        8   8   70  0.197802   \n",
       "9       12  12   33  0.158488   \n",
       "10      12  12  167  0.148652   \n",
       "11      16  16  125  0.137677   \n",
       "12       4   4  126  0.134162   \n",
       "13       7   7  150  0.130623   \n",
       "14       7   7  123  0.118546   \n",
       "15       4   4   12  0.111497   \n",
       "16       4   4  167  0.109441   \n",
       "17      16  16   70  0.102979   \n",
       "\n",
       "                                         Biosphere(x)  \\\n",
       "0                'Ammonia' (kilogram, None, ('air',))   \n",
       "1         'Sulfur dioxide' (kilogram, None, ('air',))   \n",
       "2   'Carbon dioxide, fossil' (kilogram, None, ('ai...   \n",
       "3        'Nitrogen oxides' (kilogram, None, ('air',))   \n",
       "4    'Dinitrogen monoxide' (kilogram, None, ('air',))   \n",
       "5        'Methane, fossil' (kilogram, None, ('air',))   \n",
       "6        'Nitrogen oxides' (kilogram, None, ('air',))   \n",
       "7         'Sulfur dioxide' (kilogram, None, ('air',))   \n",
       "8                'Ammonia' (kilogram, None, ('air',))   \n",
       "9   'Carbon dioxide, fossil' (kilogram, None, ('ai...   \n",
       "10  'Carbon dioxide, fossil' (kilogram, None, ('ai...   \n",
       "11       'Methane, fossil' (kilogram, None, ('air',))   \n",
       "12   'Dinitrogen monoxide' (kilogram, None, ('air',))   \n",
       "13       'Nitrogen oxides' (kilogram, None, ('air',))   \n",
       "14       'Nitrogen oxides' (kilogram, None, ('air',))   \n",
       "15   'Dinitrogen monoxide' (kilogram, None, ('air',))   \n",
       "16   'Dinitrogen monoxide' (kilogram, None, ('air',))   \n",
       "17       'Methane, fossil' (kilogram, None, ('air',))   \n",
       "\n",
       "                                          Activity(y)  \n",
       "0   '129 Waste treatment, Land application of comp...  \n",
       "1   '_75 Electricity, steam and hot water, EU27' (...  \n",
       "2   '_75 Electricity, steam and hot water, EU27' (...  \n",
       "3   '_32 Wood products, except furniture, EU27' (k...  \n",
       "4   '_39 Fertiliser, N, EU27' (kilogram, GLO, ['In...  \n",
       "5   '117 Waste treatment, Landfill of waste, Paper...  \n",
       "6   '_85 Land transport and transport via pipeline...  \n",
       "7   '_32 Wood products, except furniture, EU27' (k...  \n",
       "8   '113 Waste treatment, Composting of paper and ...  \n",
       "9   '_85 Land transport and transport via pipeline...  \n",
       "10  '_32 Wood products, except furniture, EU27' (k...  \n",
       "11  '_10 Coal, lignite, peat, EU27' (kilogram, GLO...  \n",
       "12  '_43 Chemicals n.e.c., EU27' (kilogram, GLO, [...  \n",
       "13  '_75 Electricity, steam and hot water, EU27' (...  \n",
       "14  '__7 Forest products, EU27' (kilogram, GLO, ['...  \n",
       "15  '__5 Crops n.e.c., EU27' (kilogram, GLO, ['Inp...  \n",
       "16  '_32 Wood products, except furniture, EU27' (k...  \n",
       "17  '113 Waste treatment, Composting of paper and ...  "
      ]
     },
     "metadata": {},
     "output_type": "display_data"
    }
   ],
   "source": [
    "rscb_filtered = [[k, x[0],x[1],rscbk[x[0],x[1]]] for k,rscbk in enumerate(rscb) for x in np.array(rscbk.nonzero()).T  if abs(rscbk[x[0],x[1]])>threshold]\n",
    "rscb_sorted = sorted(rscb_filtered, key=lambda x:abs(x[3]), reverse=True)\n",
    "rscb_summary = [x+[\n",
    "        str(Database(rev_bio[x[1]][0]).get(rev_bio[x[1]][1])),\n",
    "        str(Database(rev_activity[x[2]][0]).get(rev_activity[x[2]][1]))] for x in rscb_sorted]\n",
    "rscb_sorted_df=pd.DataFrame(rscb_summary, columns = ['Impact','x','y','RSC','Biosphere(x)','Activity(y)'])\n",
    "display(rscb_sorted_df)"
   ]
  },
  {
   "cell_type": "markdown",
   "metadata": {},
   "source": [
    "Plotting the distribution of the RSC values"
   ]
  },
  {
   "cell_type": "code",
   "execution_count": 75,
   "metadata": {
    "collapsed": false
   },
   "outputs": [
    {
     "data": {
      "image/png": "[encoded data removed]",
      "text/plain": [
       "<matplotlib.figure.Figure at 0x7ff6d7694c88>"
      ]
     },
     "metadata": {},
     "output_type": "display_data"
    }
   ],
   "source": [
    "fig, axes = plt.subplots(2,2)\n",
    "for line,(rsc,name) in enumerate([[rsca_sorted_df,'A'],[rscb_sorted_df,'B']]):\n",
    "    axes[line][0].hist(abs(rsc['RSC']))\n",
    "    axes[line][0].set_title('RSC histogram for matrix '+name)\n",
    "    nonnull_k = [k for k in range(len(h)) if sum(abs(rsc[rsc.Impact==k]['RSC']))>0]\n",
    "    data_hists = [abs(rsc[rsc.Impact==k]['RSC']) for k in nonnull_k]\n",
    "    axes[line][1].hist(data_hists, histtype='bar',label=nonnull_k)\n",
    "    axes[line][1].set_title('RSC histogram for matrix '+name+' for each impact')\n",
    "    axes[line][1].legend(prop={'size': 10})\n",
    "plt.show()"
   ]
  },
  {
   "cell_type": "markdown",
   "metadata": {},
   "source": [
    "The same for the biospher matrix RSC:"
   ]
  }
 ],
 "metadata": {
  "kernelspec": {
   "display_name": "Python 3",
   "language": "python",
   "name": "python3"
  },
  "language_info": {
   "codemirror_mode": {
    "name": "ipython",
    "version": 3
   },
   "file_extension": ".py",
   "mimetype": "text/x-python",
   "name": "python",
   "nbconvert_exporter": "python",
   "pygments_lexer": "ipython3",
   "version": "3.5.2"
  },
  "toc": {
   "colors": {
    "hover_highlight": "#DAA520",
    "running_highlight": "#FF0000",
    "selected_highlight": "#FFD700"
   },
   "moveMenuLeft": true,
   "nav_menu": {
    "height": "243px",
    "width": "252px"
   },
   "navigate_menu": true,
   "number_sections": true,
   "sideBar": true,
   "threshold": 4,
   "toc_cell": false,
   "toc_section_display": "block",
   "toc_window_display": true
  }
 },
 "nbformat": 4,
 "nbformat_minor": 0
}
