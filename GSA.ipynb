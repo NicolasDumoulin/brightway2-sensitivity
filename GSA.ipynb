{
 "cells": [
  {
   "cell_type": "markdown",
   "metadata": {},
   "source": [
    "# Global ensitivity Analysis\n",
    "## Project initialisation"
   ]
  },
  {
   "cell_type": "code",
   "execution_count": 1,
   "metadata": {
    "ExecuteTime": {
     "end_time": "2017-03-23T11:27:56.624736",
     "start_time": "2017-03-23T11:27:55.973506"
    },
    "collapsed": false
   },
   "outputs": [
    {
     "name": "stdout",
     "output_type": "stream",
     "text": [
      "Using environment variable BRIGHTWAY2_DIR for data directory:\n",
      "/home/jovyan/data\n"
     ]
    }
   ],
   "source": [
    "from brightway2 import *\n",
    "from __future__ import unicode_literals, print_function"
   ]
  },
  {
   "cell_type": "code",
   "execution_count": 2,
   "metadata": {
    "ExecuteTime": {
     "end_time": "2017-03-23T11:27:56.638118",
     "start_time": "2017-03-23T11:27:56.626365"
    },
    "collapsed": true
   },
   "outputs": [],
   "source": [
    "projects.set_current(\"Global Sensitivity Analysis demo\")"
   ]
  },
  {
   "cell_type": "markdown",
   "metadata": {},
   "source": [
    "Adding some uncertainties in sample data (from [this notebook](http://nbviewer.jupyter.org/urls/bitbucket.org/cmutel/brightway2/raw/default/notebooks/Getting%20Started%20with%20Brightway2.ipynb))"
   ]
  },
  {
   "cell_type": "code",
   "execution_count": 3,
   "metadata": {
    "ExecuteTime": {
     "end_time": "2017-03-23T11:27:56.642840",
     "start_time": "2017-03-23T11:27:56.639829"
    },
    "collapsed": false
   },
   "outputs": [
    {
     "name": "stdout",
     "output_type": "stream",
     "text": [
      "Biosphere database already present!!! No setup is needed\n"
     ]
    }
   ],
   "source": [
    "bw2setup()"
   ]
  },
  {
   "cell_type": "code",
   "execution_count": 4,
   "metadata": {
    "ExecuteTime": {
     "end_time": "2017-03-23T11:28:10.216750",
     "start_time": "2017-03-23T11:27:56.645080"
    },
    "collapsed": false
   },
   "outputs": [
    {
     "name": "stderr",
     "output_type": "stream",
     "text": [
      "Writing activities to SQLite3 database:\n",
      "0%                          100%\n",
      "[##############################] | ETA: 00:00:00\n",
      "Total time elapsed: 00:00:04\n"
     ]
    },
    {
     "name": "stdout",
     "output_type": "stream",
     "text": [
      "Title: Writing activities to SQLite3 database:\n",
      "  Started: 03/23/2017 11:28:04\n",
      "  Finished: 03/23/2017 11:28:08\n",
      "  Total time elapsed: 00:00:04\n",
      "  CPU %: 68.30\n",
      "  Memory %: 1.82\n"
     ]
    },
    {
     "data": {
      "text/plain": [
       "[Brightway2 SQLiteBackend: forwast]"
      ]
     },
     "execution_count": 4,
     "metadata": {},
     "output_type": "execute_result"
    }
   ],
   "source": [
    "import zipfile\n",
    "import os\n",
    "from bw2data.utils import download_file\n",
    "\n",
    "filepath = download_file(\"forwast.bw2package.zip\", url=\"http://lca-net.com/wp-content/uploads/\")\n",
    "dirpath = os.path.dirname(filepath)\n",
    "zipfile.ZipFile(filepath).extractall(dirpath)\n",
    "BW2Package.import_file(os.path.join(dirpath, \"forwast.bw2package\"))"
   ]
  },
  {
   "cell_type": "markdown",
   "metadata": {},
   "source": [
    "## Adding uncertainties"
   ]
  },
  {
   "cell_type": "code",
   "execution_count": 5,
   "metadata": {
    "ExecuteTime": {
     "end_time": "2017-03-23T11:28:17.138436",
     "start_time": "2017-03-23T11:28:10.218359"
    },
    "collapsed": false
   },
   "outputs": [
    {
     "name": "stderr",
     "output_type": "stream",
     "text": [
      "Writing activities to SQLite3 database:\n",
      "0%                          100%\n",
      "[##############################] | ETA: 00:00:00\n",
      "Total time elapsed: 00:00:04\n"
     ]
    },
    {
     "name": "stdout",
     "output_type": "stream",
     "text": [
      "Title: Writing activities to SQLite3 database:\n",
      "  Started: 03/23/2017 11:28:10\n",
      "  Finished: 03/23/2017 11:28:15\n",
      "  Total time elapsed: 00:00:04\n",
      "  CPU %: 70.00\n",
      "  Memory %: 1.70\n"
     ]
    }
   ],
   "source": [
    "from bw2data.utils import uncertainify\n",
    "from stats_arrays import NormalUncertainty\n",
    "uncertain_db = Database(\"forwast uncertain +\")\n",
    "uncertain_db.write(\n",
    "    uncertain_db.relabel_data(\n",
    "        uncertainify(\n",
    "            Database(\"forwast\").load(), \n",
    "            NormalUncertainty\n",
    "        ), \n",
    "        \"forwast uncertain +\" \n",
    "    )\n",
    ")"
   ]
  },
  {
   "cell_type": "code",
   "execution_count": 120,
   "metadata": {
    "ExecuteTime": {
     "end_time": "2017-03-23T15:17:19.833396",
     "start_time": "2017-03-23T15:17:19.807505"
    },
    "collapsed": false
   },
   "outputs": [],
   "source": [
    "method_key=('ReCiPe Endpoint (I,A)', 'ecosystem quality', 'total')#'IMPACT 2002+ (Endpoint)', 'climate change', 'total')\n",
    "activity = uncertain_db.search('Wood products EU27')[0]\n",
    "lca = LCA({activity: 1}, method_key)"
   ]
  },
  {
   "cell_type": "markdown",
   "metadata": {},
   "source": [
    "## Random initialization\n",
    "Initialization of the RNG stuff in the same way that in the MonteCarloLCA class"
   ]
  },
  {
   "cell_type": "code",
   "execution_count": 121,
   "metadata": {
    "ExecuteTime": {
     "end_time": "2017-03-23T15:17:21.021296",
     "start_time": "2017-03-23T15:17:20.859808"
    },
    "collapsed": false
   },
   "outputs": [],
   "source": [
    "lca.load_lci_data()\n",
    "from stats_arrays.random import MCRandomNumberGenerator\n",
    "tech_rng = MCRandomNumberGenerator(lca.tech_params)\n",
    "bio_rng = MCRandomNumberGenerator(lca.bio_params)\n",
    "lca.load_lcia_data()\n",
    "cf_rng = MCRandomNumberGenerator(lca.cf_params)"
   ]
  },
  {
   "cell_type": "markdown",
   "metadata": {},
   "source": [
    "## Defining the problem data\n",
    "Here, we want to define the parameters to sample using a list of selected elements of the biosphere and technosphere matrices"
   ]
  },
  {
   "cell_type": "code",
   "execution_count": 122,
   "metadata": {
    "ExecuteTime": {
     "end_time": "2017-03-23T15:17:25.347112",
     "start_time": "2017-03-23T15:17:21.984229"
    },
    "collapsed": false
   },
   "outputs": [
    {
     "name": "stderr",
     "output_type": "stream",
     "text": [
      "Warning: (almost) singular matrix! (estimated cond. number: 9.77e+12)\n"
     ]
    }
   ],
   "source": [
    "from lsa import lsa\n",
    "rsca_summary, rscb_summary = lsa(lca)"
   ]
  },
  {
   "cell_type": "code",
   "execution_count": 123,
   "metadata": {
    "ExecuteTime": {
     "end_time": "2017-03-23T15:17:26.341712",
     "start_time": "2017-03-23T15:17:26.299648"
    },
    "collapsed": false
   },
   "outputs": [],
   "source": [
    "import numpy as np\n",
    "A_indices = np.array(np.array(rsca_summary)[1:3,1:3],int).tolist()\n",
    "B_indices = np.array(np.array(rscb_summary)[1:3,1:3],int).tolist()\n",
    "rev_activity, rev_product, rev_bio = lca.reverse_dict()\n",
    "morris_problem = {\n",
    "    'num_vars':len(A_indices)+len(B_indices),\n",
    "    'names':[],\n",
    "    'bounds':[],\n",
    "    'groups':None\n",
    "}\n",
    "morris_problem['names'] += [\n",
    "    'Technosphere '+ str(Database(rev_activity[x[0]][0]).get(rev_activity[x[0]][1])) + ' x ' + str(Database(rev_product[x[1]][0]).get(rev_product[x[1]][1]))\n",
    "    for x in A_indices\n",
    "    ]\n",
    "morris_problem['names'] += [\n",
    "    'Biosphere '+str(Database(rev_bio[x[0]][0]).get(rev_bio[x[0]][1])) + ' x ' + str(Database(rev_activity[x[1]][0]).get(rev_activity[x[1]][1]))\n",
    "    for x in B_indices\n",
    "    ]\n",
    "# retrieve min and max values for populating morris_problem['bounds']\n",
    "from pandas import DataFrame\n",
    "tech_df = DataFrame.from_records(lca.tech_params)\n",
    "bio_df = DataFrame.from_records(lca.bio_params)\n",
    "morris_problem['bounds'] = [tech_df[(tech_df.type==1) & (tech_df.row==a_ij[0]) & (tech_df.col==a_ij[1])][['minimum','maximum']].values[0] for a_ij in A_indices] + [bio_df[(bio_df.type==2) & (bio_df.row==b_ij[0]) & (bio_df.col==b_ij[1])][['minimum','maximum']].values[0] for b_ij in B_indices]"
   ]
  },
  {
   "cell_type": "markdown",
   "metadata": {},
   "source": [
    "## Computing Sobol indices\n",
    "This class will generate the Morris sample and perform lcia computations using multiprocessing feature."
   ]
  },
  {
   "cell_type": "code",
   "execution_count": 173,
   "metadata": {
    "ExecuteTime": {
     "end_time": "2017-03-24T15:20:54.450061",
     "start_time": "2017-03-24T15:20:54.403235"
    },
    "collapsed": false
   },
   "outputs": [],
   "source": [
    "from SALib.sample import morris as ms\n",
    "from SALib.analyze import morris as ma\n",
    "import multiprocessing\n",
    "import pyprind\n",
    "import math\n",
    "\n",
    "class ParallelGSALCA:\n",
    "    def __init__(self, demand, method, morris_problem):\n",
    "        self.demand = demand\n",
    "        self.method = method\n",
    "        # TODO generate morris_problem instead of parameter\n",
    "        self.morris_problem = morris_problem\n",
    "    def single_worker(self, sample):\n",
    "        lca = LCA(self.demand, self.method)\n",
    "        lca.load_lci_data()\n",
    "        for a_ij, value in zip(self.A_indices, sample[:len(self.A_indices)]):\n",
    "            lca.technosphere_matrix[tuple(a_ij)] = value\n",
    "        for b_ij, value in zip(self.B_indices, sample[len(self.A_indices):]):\n",
    "            lca.biosphere_matrix[tuple(b_ij)] = value\n",
    "        lca.lci()\n",
    "        lca.lcia()\n",
    "        return lca.score\n",
    "    def gsa(self, A_indices, B_indices, number_of_trajectories, cpus=None, chunk_size=None):\n",
    "        self.A_indices = A_indices\n",
    "        self.B_indices = B_indices\n",
    "        cpus = cpus or multiprocessing.cpu_count()\n",
    "        # TODO propose an automatic number_of_trajectories\n",
    "        samples = ms.sample(self.morris_problem, number_of_trajectories, num_levels=4, grid_jump=2)\n",
    "        if chunk_size:\n",
    "            self.chunk_size = chunk_size\n",
    "        else:\n",
    "            self.chunk_size = max(cpus, number_of_trajectories // 100)\n",
    "        pool = multiprocessing.Pool(processes=cpus)\n",
    "        # TODO progress bar doesn't display as excepted\n",
    "        #bar = pyprind.ProgBar(max(1,math.ceil(number_of_trajectories/self.chunk_size)))\n",
    "        chunks = []\n",
    "        scores = []\n",
    "        for sample in samples:\n",
    "            #chunks.append((self.demand, self.method, A_indices, B_indices, sample))\n",
    "            chunks.append(sample)\n",
    "            if len(chunks) == self.chunk_size:\n",
    "                scores+=pool.map(self.single_worker, chunks)\n",
    "                #bar.update()\n",
    "                chunks=[]\n",
    "        return scores"
   ]
  },
  {
   "cell_type": "code",
   "execution_count": 174,
   "metadata": {
    "ExecuteTime": {
     "end_time": "2017-03-24T15:22:23.971982",
     "start_time": "2017-03-24T15:21:02.626587"
    },
    "collapsed": false
   },
   "outputs": [
    {
     "name": "stderr",
     "output_type": "stream",
     "text": [
      "Warning: (almost) singular matrix! (estimated cond. number: 9.77e+12)\n",
      "Warning: (almost) singular matrix! (estimated cond. number: 9.77e+12)\n",
      "Warning: (almost) singular matrix! (estimated cond. number: 9.77e+12)\n",
      "Warning: (almost) singular matrix! (estimated cond. number: 9.77e+12)\n"
     ]
    }
   ],
   "source": [
    "gsalca = ParallelGSALCA({activity: 1}, method_key, morris_problem)\n",
    "scores = gsalca.gsa(A_indices, B_indices, number_of_trajectories = 100)"
   ]
  },
  {
   "cell_type": "code",
   "execution_count": 175,
   "metadata": {
    "ExecuteTime": {
     "end_time": "2017-03-24T15:23:23.494225",
     "start_time": "2017-03-24T15:23:23.476342"
    },
    "collapsed": false
   },
   "outputs": [
    {
     "data": {
      "text/plain": [
       "{'mu': array([ 0.,  0.,  0.,  0.]),\n",
       " 'mu_star': array([ 0.,  0.,  0.,  0.]),\n",
       " 'mu_star_conf': [0.0, 0.0, 0.0, 0.0],\n",
       " 'names': [\"Technosphere '_32 Wood products, except furniture, EU27' (kilogram, GLO, ['Input Output', 'EU27 2003']) x '_32 Wood products, except furniture, EU27' (kilogram, GLO, ['Input Output', 'EU27 2003'])\",\n",
       "  \"Technosphere '_32 Wood products, except furniture, EU27' (kilogram, GLO, ['Input Output', 'EU27 2003']) x '_32 Wood products, except furniture, EU27' (kilogram, GLO, ['Input Output', 'EU27 2003'])\",\n",
       "  \"Biosphere 'Sulfur dioxide' (kilogram, None, ('air',)) x '_75 Electricity, steam and hot water, EU27' (kilowatt hour, GLO, ['Input Output', 'EU27 2003'])\",\n",
       "  \"Biosphere 'Carbon dioxide, fossil' (kilogram, None, ('air',)) x '_75 Electricity, steam and hot water, EU27' (kilowatt hour, GLO, ['Input Output', 'EU27 2003'])\"],\n",
       " 'sigma': array([ 0.,  0.,  0.,  0.])}"
      ]
     },
     "execution_count": 175,
     "metadata": {},
     "output_type": "execute_result"
    }
   ],
   "source": [
    "ma.analyze(morris_problem,samples,np.array(scores))"
   ]
  }
 ],
 "metadata": {
  "kernelspec": {
   "display_name": "Python 3",
   "language": "python",
   "name": "python3"
  },
  "language_info": {
   "codemirror_mode": {
    "name": "ipython",
    "version": 3
   },
   "file_extension": ".py",
   "mimetype": "text/x-python",
   "name": "python",
   "nbconvert_exporter": "python",
   "pygments_lexer": "ipython3",
   "version": "3.5.2"
  },
  "toc": {
   "colors": {
    "hover_highlight": "#DAA520",
    "running_highlight": "#FF0000",
    "selected_highlight": "#FFD700"
   },
   "moveMenuLeft": true,
   "nav_menu": {
    "height": "104px",
    "width": "252px"
   },
   "navigate_menu": true,
   "number_sections": true,
   "sideBar": true,
   "threshold": 4,
   "toc_cell": false,
   "toc_section_display": "block",
   "toc_window_display": true
  }
 },
 "nbformat": 4,
 "nbformat_minor": 0
}
