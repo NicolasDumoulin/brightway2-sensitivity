{
 "cells": [
  {
   "cell_type": "markdown",
   "metadata": {},
   "source": [
    "# Global ensitivity Analysis\n",
    "## Project initialisation"
   ]
  },
  {
   "cell_type": "code",
   "execution_count": 3,
   "metadata": {
    "ExecuteTime": {
     "end_time": "2017-03-23T11:27:56.624736",
     "start_time": "2017-03-23T11:27:55.973506"
    },
    "collapsed": false
   },
   "outputs": [
    {
     "name": "stdout",
     "output_type": "stream",
     "text": [
      "Using environment variable BRIGHTWAY2_DIR for data directory:\n",
      "/home/jovyan/data\n"
     ]
    }
   ],
   "source": [
    "from brightway2 import *\n",
    "from __future__ import unicode_literals, print_function"
   ]
  },
  {
   "cell_type": "code",
   "execution_count": 4,
   "metadata": {
    "ExecuteTime": {
     "end_time": "2017-03-23T11:27:56.638118",
     "start_time": "2017-03-23T11:27:56.626365"
    },
    "collapsed": true
   },
   "outputs": [],
   "source": [
    "projects.set_current(\"Global Sensitivity Analysis demo\")"
   ]
  },
  {
   "cell_type": "markdown",
   "metadata": {},
   "source": [
    "Adding some uncertainties in sample data (from [this notebook](http://nbviewer.jupyter.org/urls/bitbucket.org/cmutel/brightway2/raw/default/notebooks/Getting%20Started%20with%20Brightway2.ipynb))"
   ]
  },
  {
   "cell_type": "code",
   "execution_count": 5,
   "metadata": {
    "ExecuteTime": {
     "end_time": "2017-03-23T11:27:56.642840",
     "start_time": "2017-03-23T11:27:56.639829"
    },
    "collapsed": false
   },
   "outputs": [
    {
     "name": "stdout",
     "output_type": "stream",
     "text": [
      "Creating default biosphere\n",
      "\n"
     ]
    },
    {
     "name": "stderr",
     "output_type": "stream",
     "text": [
      "Writing activities to SQLite3 database:\n",
      "0%                          100%\n",
      "[#########                     ] | ETA: 00:00:00"
     ]
    },
    {
     "name": "stdout",
     "output_type": "stream",
     "text": [
      "Applying strategy: normalize_units\n",
      "Applying strategy: drop_unspecified_subcategories\n",
      "Applied 2 strategies in 0.01 seconds\n"
     ]
    },
    {
     "name": "stderr",
     "output_type": "stream",
     "text": [
      "[##############################] | ETA: 00:00:00\n",
      "Total time elapsed: 00:00:00\n"
     ]
    },
    {
     "name": "stdout",
     "output_type": "stream",
     "text": [
      "Title: Writing activities to SQLite3 database:\n",
      "  Started: 04/10/2017 11:58:01\n",
      "  Finished: 04/10/2017 11:58:02\n",
      "  Total time elapsed: 00:00:00\n",
      "  CPU %: 78.40\n",
      "  Memory %: 0.99\n",
      "Created database: biosphere3\n",
      "Creating default LCIA methods\n",
      "\n",
      "Applying strategy: normalize_units\n",
      "Applying strategy: set_biosphere_type\n",
      "Applying strategy: drop_unspecified_subcategories\n",
      "Applying strategy: link_iterable_by_fields\n",
      "Applied 4 strategies in 1.12 seconds\n",
      "Wrote 665 LCIA methods with 169551 characterization factors\n",
      "Creating core data migrations\n",
      "\n"
     ]
    }
   ],
   "source": [
    "bw2setup()"
   ]
  },
  {
   "cell_type": "code",
   "execution_count": 6,
   "metadata": {
    "ExecuteTime": {
     "end_time": "2017-03-23T11:28:10.216750",
     "start_time": "2017-03-23T11:27:56.645080"
    },
    "collapsed": false
   },
   "outputs": [
    {
     "name": "stderr",
     "output_type": "stream",
     "text": [
      "Writing activities to SQLite3 database:\n",
      "0%                          100%\n",
      "[##############################] | ETA: 00:00:00\n",
      "Total time elapsed: 00:00:04\n"
     ]
    },
    {
     "name": "stdout",
     "output_type": "stream",
     "text": [
      "Title: Writing activities to SQLite3 database:\n",
      "  Started: 04/10/2017 11:58:52\n",
      "  Finished: 04/10/2017 11:58:57\n",
      "  Total time elapsed: 00:00:04\n",
      "  CPU %: 64.30\n",
      "  Memory %: 1.94\n"
     ]
    },
    {
     "data": {
      "text/plain": [
       "[Brightway2 SQLiteBackend: forwast]"
      ]
     },
     "execution_count": 6,
     "metadata": {},
     "output_type": "execute_result"
    }
   ],
   "source": [
    "import zipfile\n",
    "import os\n",
    "from bw2data.utils import download_file\n",
    "\n",
    "filepath = download_file(\"forwast.bw2package.zip\", url=\"http://lca-net.com/wp-content/uploads/\")\n",
    "dirpath = os.path.dirname(filepath)\n",
    "zipfile.ZipFile(filepath).extractall(dirpath)\n",
    "BW2Package.import_file(os.path.join(dirpath, \"forwast.bw2package\"))"
   ]
  },
  {
   "cell_type": "markdown",
   "metadata": {},
   "source": [
    "## Adding uncertainties"
   ]
  },
  {
   "cell_type": "code",
   "execution_count": 7,
   "metadata": {
    "ExecuteTime": {
     "end_time": "2017-03-23T11:28:17.138436",
     "start_time": "2017-03-23T11:28:10.218359"
    },
    "collapsed": false
   },
   "outputs": [
    {
     "name": "stderr",
     "output_type": "stream",
     "text": [
      "Writing activities to SQLite3 database:\n",
      "0%                          100%\n",
      "[##############################] | ETA: 00:00:00\n",
      "Total time elapsed: 00:00:04\n"
     ]
    },
    {
     "name": "stdout",
     "output_type": "stream",
     "text": [
      "Title: Writing activities to SQLite3 database:\n",
      "  Started: 04/10/2017 11:58:58\n",
      "  Finished: 04/10/2017 11:59:03\n",
      "  Total time elapsed: 00:00:04\n",
      "  CPU %: 66.00\n",
      "  Memory %: 1.88\n"
     ]
    }
   ],
   "source": [
    "from bw2data.utils import uncertainify\n",
    "from stats_arrays import NormalUncertainty\n",
    "uncertain_db = Database(\"forwast uncertain +\")\n",
    "uncertain_db.write(\n",
    "    uncertain_db.relabel_data(\n",
    "        uncertainify(\n",
    "            Database(\"forwast\").load(), \n",
    "            NormalUncertainty\n",
    "        ), \n",
    "        \"forwast uncertain +\" \n",
    "    )\n",
    ")"
   ]
  },
  {
   "cell_type": "code",
   "execution_count": 8,
   "metadata": {
    "ExecuteTime": {
     "end_time": "2017-03-23T15:17:19.833396",
     "start_time": "2017-03-23T15:17:19.807505"
    },
    "collapsed": false
   },
   "outputs": [],
   "source": [
    "method_key=('ReCiPe Endpoint (I,A)', 'ecosystem quality', 'total')#'IMPACT 2002+ (Endpoint)', 'climate change', 'total')\n",
    "activity = uncertain_db.search('Wood products EU27')[0]\n",
    "lca = LCA({activity: 1}, method_key)"
   ]
  },
  {
   "cell_type": "markdown",
   "metadata": {},
   "source": [
    "## Random initialization\n",
    "Initialization of the RNG stuff in the same way that in the MonteCarloLCA class"
   ]
  },
  {
   "cell_type": "code",
   "execution_count": 10,
   "metadata": {
    "ExecuteTime": {
     "end_time": "2017-03-23T15:17:21.021296",
     "start_time": "2017-03-23T15:17:20.859808"
    },
    "collapsed": false
   },
   "outputs": [],
   "source": [
    "lca.load_lci_data()\n",
    "from stats_arrays.random import MCRandomNumberGenerator\n",
    "tech_rng = MCRandomNumberGenerator(lca.tech_params)\n",
    "bio_rng = MCRandomNumberGenerator(lca.bio_params)\n",
    "lca.load_lcia_data()\n",
    "cf_rng = MCRandomNumberGenerator(lca.cf_params)"
   ]
  },
  {
   "cell_type": "markdown",
   "metadata": {},
   "source": [
    "## Local sensitivity analysis"
   ]
  },
  {
   "cell_type": "code",
   "execution_count": 9,
   "metadata": {
    "ExecuteTime": {
     "end_time": "2017-03-23T15:17:25.347112",
     "start_time": "2017-03-23T15:17:21.984229"
    },
    "collapsed": false
   },
   "outputs": [
    {
     "name": "stderr",
     "output_type": "stream",
     "text": [
      "Warning: (almost) singular matrix! (estimated cond. number: 9.77e+12)\n"
     ]
    }
   ],
   "source": [
    "from lsa import lsa\n",
    "rsca_summary, rscb_summary = lsa(lca)"
   ]
  },
  {
   "cell_type": "markdown",
   "metadata": {},
   "source": [
    "## Binding RSC results and uncertainties\n",
    "The local sensitivity analysis give us the indices of matrices A and B that have the more relevant RSC (relative sensitivity coefficients). The purpose is now to fetch the associated uncertainties from the database."
   ]
  },
  {
   "cell_type": "code",
   "execution_count": 157,
   "metadata": {
    "collapsed": true
   },
   "outputs": [],
   "source": [
    "import numpy as np\n",
    "A_indices = np.array(np.array(rsca_summary)[:,1:3],int).tolist()\n",
    "B_indices = np.array(np.array(rscb_summary)[:,1:3],int).tolist()"
   ]
  },
  {
   "cell_type": "markdown",
   "metadata": {},
   "source": [
    "We will fetch these uncertainties in the attributes `tech_params` and `bio_params` of the LCA object."
   ]
  },
  {
   "cell_type": "code",
   "execution_count": 158,
   "metadata": {
    "collapsed": true
   },
   "outputs": [],
   "source": [
    "from pandas import DataFrame\n",
    "tech_df = DataFrame.from_records(lca.tech_params)\n",
    "bio_df = DataFrame.from_records(lca.bio_params)"
   ]
  },
  {
   "cell_type": "markdown",
   "metadata": {},
   "source": [
    "Look for example at the uncertainties of the first sensible element for the matrix A"
   ]
  },
  {
   "cell_type": "code",
   "execution_count": 159,
   "metadata": {
    "collapsed": false
   },
   "outputs": [
    {
     "data": {
      "text/html": [
       "<div>\n",
       "<table border=\"1\" class=\"dataframe\">\n",
       "  <thead>\n",
       "    <tr style=\"text-align: right;\">\n",
       "      <th></th>\n",
       "      <th>input</th>\n",
       "      <th>output</th>\n",
       "      <th>row</th>\n",
       "      <th>col</th>\n",
       "      <th>type</th>\n",
       "      <th>uncertainty_type</th>\n",
       "      <th>amount</th>\n",
       "      <th>loc</th>\n",
       "      <th>scale</th>\n",
       "      <th>shape</th>\n",
       "      <th>minimum</th>\n",
       "      <th>maximum</th>\n",
       "      <th>negative</th>\n",
       "    </tr>\n",
       "  </thead>\n",
       "  <tbody>\n",
       "    <tr>\n",
       "      <th>138</th>\n",
       "      <td>4434</td>\n",
       "      <td>4434</td>\n",
       "      <td>138</td>\n",
       "      <td>138</td>\n",
       "      <td>0</td>\n",
       "      <td>0</td>\n",
       "      <td>1.00000</td>\n",
       "      <td>1.00000</td>\n",
       "      <td>NaN</td>\n",
       "      <td>NaN</td>\n",
       "      <td>NaN</td>\n",
       "      <td>NaN</td>\n",
       "      <td>False</td>\n",
       "    </tr>\n",
       "    <tr>\n",
       "      <th>17927</th>\n",
       "      <td>4434</td>\n",
       "      <td>4434</td>\n",
       "      <td>138</td>\n",
       "      <td>138</td>\n",
       "      <td>1</td>\n",
       "      <td>3</td>\n",
       "      <td>0.41977</td>\n",
       "      <td>0.41977</td>\n",
       "      <td>0.041977</td>\n",
       "      <td>NaN</td>\n",
       "      <td>0.377793</td>\n",
       "      <td>0.461747</td>\n",
       "      <td>False</td>\n",
       "    </tr>\n",
       "  </tbody>\n",
       "</table>\n",
       "</div>"
      ],
      "text/plain": [
       "       input  output  row  col  type  uncertainty_type   amount      loc  \\\n",
       "138     4434    4434  138  138     0                 0  1.00000  1.00000   \n",
       "17927   4434    4434  138  138     1                 3  0.41977  0.41977   \n",
       "\n",
       "          scale  shape   minimum   maximum negative  \n",
       "138         NaN    NaN       NaN       NaN    False  \n",
       "17927  0.041977    NaN  0.377793  0.461747    False  "
      ]
     },
     "execution_count": 159,
     "metadata": {},
     "output_type": "execute_result"
    }
   ],
   "source": [
    "tech_df[(tech_df.row==A_indices[0][0]) & (tech_df.col==A_indices[0][1])]"
   ]
  },
  {
   "cell_type": "markdown",
   "metadata": {},
   "source": [
    "We can see that we get more than one element, because we should consider the column `type` which is defined in the [utils.py module](https://bitbucket.org/cmutel/brightway2-calc/src/105e24e2d803c96773651ed73c43d850f9c23548/bw2calc/utils.py?at=default&fileviewer=file-view-default#utils.py-144) as follow:\n",
    "```\n",
    "    TYPE_DICTIONARY = {\n",
    "        \"unknown\": -1,\n",
    "        \"production\": 0,\n",
    "        \"technosphere\": 1,\n",
    "        \"biosphere\": 2,\n",
    "        \"substitution\": 3,\n",
    "    }\n",
    "```\n",
    "This ```field``` attribute is setted during the matices building process in the class ```TechnosphereBiosphereMatrixBuilder``` of the [module matrices.py](https://bitbucket.org/cmutel/brightway2-calc/src/105e24e2d803c96773651ed73c43d850f9c23548/bw2calc/matrices.py?at=default&fileviewer=file-view-default#matrices.py-176).\n",
    "\n",
    "So, we can restrict to the row with the concerned type, and we get the ```minimum``` and ```maximum``` values:"
   ]
  },
  {
   "cell_type": "code",
   "execution_count": 160,
   "metadata": {
    "collapsed": false
   },
   "outputs": [
    {
     "data": {
      "text/html": [
       "<div>\n",
       "<table border=\"1\" class=\"dataframe\">\n",
       "  <thead>\n",
       "    <tr style=\"text-align: right;\">\n",
       "      <th></th>\n",
       "      <th>input</th>\n",
       "      <th>output</th>\n",
       "      <th>row</th>\n",
       "      <th>col</th>\n",
       "      <th>type</th>\n",
       "      <th>uncertainty_type</th>\n",
       "      <th>amount</th>\n",
       "      <th>loc</th>\n",
       "      <th>scale</th>\n",
       "      <th>shape</th>\n",
       "      <th>minimum</th>\n",
       "      <th>maximum</th>\n",
       "      <th>negative</th>\n",
       "    </tr>\n",
       "  </thead>\n",
       "  <tbody>\n",
       "    <tr>\n",
       "      <th>17927</th>\n",
       "      <td>4434</td>\n",
       "      <td>4434</td>\n",
       "      <td>138</td>\n",
       "      <td>138</td>\n",
       "      <td>1</td>\n",
       "      <td>3</td>\n",
       "      <td>0.41977</td>\n",
       "      <td>0.41977</td>\n",
       "      <td>0.041977</td>\n",
       "      <td>NaN</td>\n",
       "      <td>0.377793</td>\n",
       "      <td>0.461747</td>\n",
       "      <td>False</td>\n",
       "    </tr>\n",
       "  </tbody>\n",
       "</table>\n",
       "</div>"
      ],
      "text/plain": [
       "       input  output  row  col  type  uncertainty_type   amount      loc  \\\n",
       "17927   4434    4434  138  138     1                 3  0.41977  0.41977   \n",
       "\n",
       "          scale  shape   minimum   maximum negative  \n",
       "17927  0.041977    NaN  0.377793  0.461747    False  "
      ]
     },
     "execution_count": 160,
     "metadata": {},
     "output_type": "execute_result"
    }
   ],
   "source": [
    "tech_df[(tech_df.type==1) & (tech_df.row==A_indices[0][0]) & (tech_df.col==A_indices[0][1])]"
   ]
  },
  {
   "cell_type": "markdown",
   "metadata": {},
   "source": [
    "![fixme](https://www.dokuwiki.org/lib/images/smileys/fixme.gif)\n",
    "But for some element, we can't find minimum and maximum values!"
   ]
  },
  {
   "cell_type": "code",
   "execution_count": 161,
   "metadata": {
    "collapsed": false
   },
   "outputs": [
    {
     "name": "stdout",
     "output_type": "stream",
     "text": [
      "[108, 108]\n"
     ]
    },
    {
     "data": {
      "text/html": [
       "<div>\n",
       "<table border=\"1\" class=\"dataframe\">\n",
       "  <thead>\n",
       "    <tr style=\"text-align: right;\">\n",
       "      <th></th>\n",
       "      <th>input</th>\n",
       "      <th>output</th>\n",
       "      <th>row</th>\n",
       "      <th>col</th>\n",
       "      <th>type</th>\n",
       "      <th>uncertainty_type</th>\n",
       "      <th>amount</th>\n",
       "      <th>loc</th>\n",
       "      <th>scale</th>\n",
       "      <th>shape</th>\n",
       "      <th>minimum</th>\n",
       "      <th>maximum</th>\n",
       "      <th>negative</th>\n",
       "    </tr>\n",
       "  </thead>\n",
       "  <tbody>\n",
       "    <tr>\n",
       "      <th>108</th>\n",
       "      <td>4404</td>\n",
       "      <td>4404</td>\n",
       "      <td>108</td>\n",
       "      <td>108</td>\n",
       "      <td>0</td>\n",
       "      <td>0</td>\n",
       "      <td>1.0</td>\n",
       "      <td>1.0</td>\n",
       "      <td>NaN</td>\n",
       "      <td>NaN</td>\n",
       "      <td>NaN</td>\n",
       "      <td>NaN</td>\n",
       "      <td>False</td>\n",
       "    </tr>\n",
       "  </tbody>\n",
       "</table>\n",
       "</div>"
      ],
      "text/plain": [
       "     input  output  row  col  type  uncertainty_type  amount  loc  scale  \\\n",
       "108   4404    4404  108  108     0                 0     1.0  1.0    NaN   \n",
       "\n",
       "     shape  minimum  maximum negative  \n",
       "108    NaN      NaN      NaN    False  "
      ]
     },
     "execution_count": 161,
     "metadata": {},
     "output_type": "execute_result"
    }
   ],
   "source": [
    "print(A_indices[6])\n",
    "tech_df[(tech_df.row==A_indices[6][0]) & (abs(tech_df.col-A_indices[6][1])<4)]"
   ]
  },
  {
   "cell_type": "code",
   "execution_count": 162,
   "metadata": {
    "collapsed": false
   },
   "outputs": [
    {
     "name": "stdout",
     "output_type": "stream",
     "text": [
      "Errors for A: 3/40 [[108, 108], [49, 49], [254, 254]]\n",
      "Errors for B: 0/18 []\n"
     ]
    }
   ],
   "source": [
    "errors_A = [a for a in A_indices if len(tech_df[(tech_df.type==1) & (tech_df.row==a[0]) & (tech_df.col==a[1])])==0]\n",
    "errors_B = [b for b in B_indices if len(bio_df[(bio_df.type==2) & (bio_df.row==b[0]) & (bio_df.col==b[1])])==0]\n",
    "print(\"Errors for A: {}/{} {}\".format(len(errors_A), len(A_indices), errors_A))\n",
    "print(\"Errors for B: {}/{} {}\".format(len(errors_B), len(B_indices), errors_B))"
   ]
  },
  {
   "cell_type": "markdown",
   "metadata": {},
   "source": [
    "![fixme](https://www.dokuwiki.org/lib/images/smileys/fixme.gif)\n",
    "Dirty solution for patching the datasets:"
   ]
  },
  {
   "cell_type": "code",
   "execution_count": 163,
   "metadata": {
    "collapsed": false
   },
   "outputs": [],
   "source": [
    "A_indices = [a for a in A_indices if len(tech_df[(tech_df.type==1) & (tech_df.row==a[0]) & (tech_df.col==a[1])])>0]\n",
    "B_indices = [b for b in B_indices if len(bio_df[(bio_df.type==2) & (bio_df.row==b[0]) & (bio_df.col==b[1])])>0]"
   ]
  },
  {
   "cell_type": "markdown",
   "metadata": {},
   "source": [
    "## Defining the problem data\n",
    "Here, we want to define the parameters to sample using a list of selected elements of the biosphere and technosphere matrices"
   ]
  },
  {
   "cell_type": "code",
   "execution_count": 164,
   "metadata": {
    "ExecuteTime": {
     "end_time": "2017-03-24T15:57:25.694627",
     "start_time": "2017-03-24T15:57:25.585116"
    },
    "collapsed": false
   },
   "outputs": [],
   "source": [
    "import numpy as np\n",
    "#A_indices = np.array(np.array(rsca_summary)[:6,1:3],int).tolist()\n",
    "#B_indices = np.array(np.array(rscb_summary)[:6,1:3],int).tolist()\n",
    "rev_activity, rev_product, rev_bio = lca.reverse_dict()\n",
    "morris_problem = {\n",
    "    'num_vars':len(A_indices)+len(B_indices),\n",
    "    'names':[],\n",
    "    'bounds':[],\n",
    "    'groups':None\n",
    "}\n",
    "morris_problem['names'] += [\n",
    "    'Technosphere '+ str(Database(rev_activity[x[0]][0]).get(rev_activity[x[0]][1])) + ' x ' + str(Database(rev_product[x[1]][0]).get(rev_product[x[1]][1]))\n",
    "    for x in A_indices\n",
    "    ]\n",
    "morris_problem['names'] += [\n",
    "    'Biosphere '+str(Database(rev_bio[x[0]][0]).get(rev_bio[x[0]][1])) + ' x ' + str(Database(rev_activity[x[1]][0]).get(rev_activity[x[1]][1]))\n",
    "    for x in B_indices\n",
    "    ]\n",
    "# retrieve min and max values for populating morris_problem['bounds']\n",
    "from pandas import DataFrame\n",
    "tech_df = DataFrame.from_records(lca.tech_params)\n",
    "bio_df = DataFrame.from_records(lca.bio_params)\n",
    "morris_problem['bounds'] = [tech_df[(tech_df.type==1) & (tech_df.row==a_ij[0]) & (tech_df.col==a_ij[1])][['minimum','maximum']].values[0] for a_ij in A_indices] + [bio_df[(bio_df.type==2) & (bio_df.row==b_ij[0]) & (bio_df.col==b_ij[1])][['minimum','maximum']].values[0] for b_ij in B_indices]"
   ]
  },
  {
   "cell_type": "markdown",
   "metadata": {},
   "source": [
    "## Computing Sobol indices\n",
    "\n",
    "### Multiprocessing class\n",
    "This class will generate the Morris sample and perform lcia computations using multiprocessing feature."
   ]
  },
  {
   "cell_type": "code",
   "execution_count": 249,
   "metadata": {
    "ExecuteTime": {
     "end_time": "2017-03-24T15:20:54.450061",
     "start_time": "2017-03-24T15:20:54.403235"
    },
    "collapsed": false
   },
   "outputs": [],
   "source": [
    "from SALib.sample import morris as ms\n",
    "from SALib.analyze import morris as ma\n",
    "import multiprocessing\n",
    "import pyprind\n",
    "import math\n",
    "\n",
    "class ParallelGSALCA:\n",
    "    def __init__(self, demand, method, morris_problem):\n",
    "        self.demand = demand\n",
    "        self.method = method\n",
    "        # TODO generate morris_problem instead of parameter\n",
    "        self.morris_problem = morris_problem\n",
    "    def single_worker(self, sample):\n",
    "        '''\n",
    "        Computes the lcia impacts for the given data sampling corresponding to the initial morris problem.\n",
    "        Returns an array containing the aggregated score and then the impacts for each category.\n",
    "        '''\n",
    "        lca = LCA(self.demand, self.method)\n",
    "        lca.load_lci_data()\n",
    "        if lca.lcia:\n",
    "            lca.load_lcia_data()\n",
    "        if lca.weighting:\n",
    "            lca.load_weighting_data            \n",
    "        for a_ij, value in zip(self.A_indices, sample[:len(self.A_indices)]):\n",
    "            #print('aij',tuple(a_ij),value, lca.technosphere_matrix[tuple(a_ij)])\n",
    "            lca.technosphere_matrix[tuple(a_ij)] = value\n",
    "            #print(lca.technosphere_matrix[tuple(a_ij)])\n",
    "        for b_ij, value in zip(self.B_indices, sample[len(self.A_indices):]):\n",
    "            #print('bij',tuple(b_ij),value)\n",
    "            lca.biosphere_matrix[tuple(b_ij)] = value\n",
    "        if not hasattr(lca, \"demand_array\"):\n",
    "            lca.build_demand_array()\n",
    "        import warnings\n",
    "        with warnings.catch_warnings():\n",
    "            warnings.simplefilter(\"ignore\")\n",
    "            lca.lci_calculation()\n",
    "        if lca.lcia:\n",
    "            lca.lcia_calculation()\n",
    "        return np.concatenate(([lca.score], np.array(lca.characterized_inventory.sum(axis=1).ravel())[0]))\n",
    "    def gsa(self, A_indices, B_indices, number_of_trajectories, progressBar=True, cpus=None, chunk_size=None):\n",
    "        '''\n",
    "        Samples the A and B element using Morris method and return the computed impact\n",
    "        for the aggregated score and then for each category of impact.\n",
    "        '''\n",
    "        self.A_indices = A_indices\n",
    "        self.B_indices = B_indices\n",
    "        cpus = cpus or multiprocessing.cpu_count()\n",
    "        # TODO propose an automatic number_of_trajectories\n",
    "        self.samples = ms.sample(self.morris_problem, number_of_trajectories, num_levels=4, grid_jump=2)\n",
    "        if chunk_size:\n",
    "            self.chunk_size = chunk_size\n",
    "        else:\n",
    "            self.chunk_size = max(cpus, number_of_trajectories // 100)\n",
    "        pool = multiprocessing.Pool(processes=cpus)\n",
    "        if progressBar:\n",
    "            bar = pyprind.ProgBar(max(1,math.ceil(len(self.samples)/self.chunk_size)))\n",
    "        chunks = []\n",
    "        scores = [[] for i in range(1 + lca.characterization_matrix.shape[0])]\n",
    "        # store in 'stores' all the mid-point impact\n",
    "        for sample in self.samples:\n",
    "            chunks.append(sample)\n",
    "            if len(chunks) == self.chunk_size:\n",
    "                for i,result_by_impact in enumerate(map(list,zip(*pool.map(self.single_worker, chunks)))):\n",
    "                    scores[i] += result_by_impact\n",
    "                if progressBar:\n",
    "                    bar.update()\n",
    "                chunks=[]\n",
    "        if len(chunks):\n",
    "            for i,result_by_impact in enumerate(map(list,zip(*pool.map(self.single_worker, chunks)))):\n",
    "                scores[i] += result_by_impact\n",
    "            if progressBar:\n",
    "                bar.update()\n",
    "            chunks=[]\n",
    "        self.scores = scores\n",
    "        return scores\n",
    "    def gsa_analyse(self):\n",
    "        return [ma.analyze(self.morris_problem, self.samples, np.array(score), num_levels=4, grid_jump=2) for score in self.scores]\n",
    "    "
   ]
  },
  {
   "cell_type": "markdown",
   "metadata": {},
   "source": [
    "### Go"
   ]
  },
  {
   "cell_type": "code",
   "execution_count": 250,
   "metadata": {
    "ExecuteTime": {
     "end_time": "2017-03-24T15:22:23.971982",
     "start_time": "2017-03-24T15:21:02.626587"
    },
    "collapsed": false,
    "scrolled": true
   },
   "outputs": [
    {
     "name": "stderr",
     "output_type": "stream",
     "text": [
      "0%                          100%\n",
      "[##############################] | ETA: 00:00:00\n",
      "Total time elapsed: 00:01:13\n"
     ]
    }
   ],
   "source": [
    "gsalca = ParallelGSALCA({activity: 1}, method_key, morris_problem)\n",
    "scores = gsalca.gsa(A_indices, B_indices, number_of_trajectories = 10)#, progressBar=False)"
   ]
  },
  {
   "cell_type": "markdown",
   "metadata": {},
   "source": [
    "## Analysis\n",
    "Now, we can inspect the Sobol indices with the ```analyse``` method, for each category of impact."
   ]
  },
  {
   "cell_type": "code",
   "execution_count": 294,
   "metadata": {
    "ExecuteTime": {
     "end_time": "2017-03-24T15:23:23.494225",
     "start_time": "2017-03-24T15:23:23.476342"
    },
    "collapsed": false
   },
   "outputs": [
    {
     "name": "stdout",
     "output_type": "stream",
     "text": [
      "dict_keys(['mu_star_conf', 'names', 'sigma', 'mu', 'mu_star'])\n"
     ]
    }
   ],
   "source": [
    "analyse = gsalca.gsa_analyse()\n",
    "print(analyse[0].keys())"
   ]
  },
  {
   "cell_type": "markdown",
   "metadata": {},
   "source": [
    "First, looking at sensitivity for the aggregated score (first element)"
   ]
  },
  {
   "cell_type": "code",
   "execution_count": 254,
   "metadata": {
    "collapsed": false
   },
   "outputs": [
    {
     "data": {
      "text/html": [
       "<div>\n",
       "<table border=\"1\" class=\"dataframe\">\n",
       "  <thead>\n",
       "    <tr style=\"text-align: right;\">\n",
       "      <th></th>\n",
       "      <th>mu</th>\n",
       "      <th>mu_star</th>\n",
       "      <th>mu_star_conf</th>\n",
       "      <th>names</th>\n",
       "      <th>sigma</th>\n",
       "    </tr>\n",
       "  </thead>\n",
       "  <tbody>\n",
       "    <tr>\n",
       "      <th>5</th>\n",
       "      <td>6.513754e-02</td>\n",
       "      <td>6.513754e-02</td>\n",
       "      <td>8.426966e-03</td>\n",
       "      <td>Technosphere '_32 Wood products, except furnit...</td>\n",
       "      <td>1.421993e-02</td>\n",
       "    </tr>\n",
       "    <tr>\n",
       "      <th>6</th>\n",
       "      <td>-9.335340e-04</td>\n",
       "      <td>9.335340e-04</td>\n",
       "      <td>5.760796e-05</td>\n",
       "      <td>Technosphere '113 Waste treatment, Composting ...</td>\n",
       "      <td>9.955194e-05</td>\n",
       "    </tr>\n",
       "    <tr>\n",
       "      <th>7</th>\n",
       "      <td>4.473833e-03</td>\n",
       "      <td>4.473833e-03</td>\n",
       "      <td>4.206133e-04</td>\n",
       "      <td>Technosphere '129 Waste treatment, Land applic...</td>\n",
       "      <td>7.141321e-04</td>\n",
       "    </tr>\n",
       "    <tr>\n",
       "      <th>11</th>\n",
       "      <td>1.133506e-01</td>\n",
       "      <td>1.133506e-01</td>\n",
       "      <td>2.932518e-02</td>\n",
       "      <td>Technosphere '_39 Fertiliser, N, EU27' (kilogr...</td>\n",
       "      <td>4.910882e-02</td>\n",
       "    </tr>\n",
       "    <tr>\n",
       "      <th>13</th>\n",
       "      <td>-2.016718e-03</td>\n",
       "      <td>2.016718e-03</td>\n",
       "      <td>5.814751e-04</td>\n",
       "      <td>Technosphere '_39 Fertiliser, N, EU27' (kilogr...</td>\n",
       "      <td>9.630698e-04</td>\n",
       "    </tr>\n",
       "    <tr>\n",
       "      <th>15</th>\n",
       "      <td>1.187698e-01</td>\n",
       "      <td>1.187698e-01</td>\n",
       "      <td>6.554203e-02</td>\n",
       "      <td>Technosphere '_43 Chemicals n.e.c., EU27' (kil...</td>\n",
       "      <td>1.165667e-01</td>\n",
       "    </tr>\n",
       "    <tr>\n",
       "      <th>16</th>\n",
       "      <td>7.910077e-02</td>\n",
       "      <td>7.910077e-02</td>\n",
       "      <td>1.339684e-02</td>\n",
       "      <td>Technosphere '_85 Land transport and transport...</td>\n",
       "      <td>2.340514e-02</td>\n",
       "    </tr>\n",
       "    <tr>\n",
       "      <th>20</th>\n",
       "      <td>6.198074e-03</td>\n",
       "      <td>6.198074e-03</td>\n",
       "      <td>5.772469e-04</td>\n",
       "      <td>Technosphere '113 Waste treatment, Composting ...</td>\n",
       "      <td>9.951440e-04</td>\n",
       "    </tr>\n",
       "    <tr>\n",
       "      <th>24</th>\n",
       "      <td>-2.394287e-02</td>\n",
       "      <td>2.394287e-02</td>\n",
       "      <td>4.067541e-03</td>\n",
       "      <td>Technosphere '_75 Electricity, steam and hot w...</td>\n",
       "      <td>6.904569e-03</td>\n",
       "    </tr>\n",
       "    <tr>\n",
       "      <th>25</th>\n",
       "      <td>-2.236436e-02</td>\n",
       "      <td>2.236436e-02</td>\n",
       "      <td>1.996112e-03</td>\n",
       "      <td>Technosphere '_10 Coal, lignite, peat, EU27' (...</td>\n",
       "      <td>3.388296e-03</td>\n",
       "    </tr>\n",
       "    <tr>\n",
       "      <th>26</th>\n",
       "      <td>-8.073622e-03</td>\n",
       "      <td>8.073622e-03</td>\n",
       "      <td>1.074849e-03</td>\n",
       "      <td>Technosphere '_85 Land transport and transport...</td>\n",
       "      <td>1.874983e-03</td>\n",
       "    </tr>\n",
       "    <tr>\n",
       "      <th>27</th>\n",
       "      <td>6.325339e-02</td>\n",
       "      <td>6.325339e-02</td>\n",
       "      <td>1.470092e-02</td>\n",
       "      <td>Technosphere '__5 Crops n.e.c., EU27' (kilogra...</td>\n",
       "      <td>2.497048e-02</td>\n",
       "    </tr>\n",
       "    <tr>\n",
       "      <th>28</th>\n",
       "      <td>5.636943e-02</td>\n",
       "      <td>5.636943e-02</td>\n",
       "      <td>1.437745e-02</td>\n",
       "      <td>Technosphere '_10 Coal, lignite, peat, EU27' (...</td>\n",
       "      <td>2.400148e-02</td>\n",
       "    </tr>\n",
       "    <tr>\n",
       "      <th>32</th>\n",
       "      <td>3.128429e-04</td>\n",
       "      <td>3.128429e-04</td>\n",
       "      <td>4.673521e-05</td>\n",
       "      <td>Technosphere '117 Waste treatment, Landfill of...</td>\n",
       "      <td>7.879362e-05</td>\n",
       "    </tr>\n",
       "    <tr>\n",
       "      <th>33</th>\n",
       "      <td>-6.733017e-02</td>\n",
       "      <td>6.733017e-02</td>\n",
       "      <td>9.949008e-03</td>\n",
       "      <td>Technosphere '__7 Forest products, EU27' (kilo...</td>\n",
       "      <td>1.663253e-02</td>\n",
       "    </tr>\n",
       "    <tr>\n",
       "      <th>34</th>\n",
       "      <td>6.589630e-02</td>\n",
       "      <td>6.589630e-02</td>\n",
       "      <td>1.155909e-02</td>\n",
       "      <td>Technosphere '__7 Forest products, EU27' (kilo...</td>\n",
       "      <td>2.036832e-02</td>\n",
       "    </tr>\n",
       "    <tr>\n",
       "      <th>35</th>\n",
       "      <td>9.022542e-02</td>\n",
       "      <td>9.022542e-02</td>\n",
       "      <td>4.538341e-02</td>\n",
       "      <td>Technosphere '__4 Grain crops, EU27' (kilogram...</td>\n",
       "      <td>7.879198e-02</td>\n",
       "    </tr>\n",
       "    <tr>\n",
       "      <th>36</th>\n",
       "      <td>6.548712e-03</td>\n",
       "      <td>6.548712e-03</td>\n",
       "      <td>5.642481e-04</td>\n",
       "      <td>Technosphere '_75 Electricity, steam and hot w...</td>\n",
       "      <td>9.724210e-04</td>\n",
       "    </tr>\n",
       "    <tr>\n",
       "      <th>37</th>\n",
       "      <td>-8.125523e-07</td>\n",
       "      <td>8.125523e-07</td>\n",
       "      <td>9.514740e-08</td>\n",
       "      <td>Biosphere 'Ammonia' (kilogram, None, ('air',))...</td>\n",
       "      <td>1.657121e-07</td>\n",
       "    </tr>\n",
       "    <tr>\n",
       "      <th>38</th>\n",
       "      <td>-1.832306e-05</td>\n",
       "      <td>1.832306e-05</td>\n",
       "      <td>3.861151e-06</td>\n",
       "      <td>Biosphere 'Sulfur dioxide' (kilogram, None, ('...</td>\n",
       "      <td>6.564440e-06</td>\n",
       "    </tr>\n",
       "    <tr>\n",
       "      <th>39</th>\n",
       "      <td>-2.092363e-02</td>\n",
       "      <td>2.092363e-02</td>\n",
       "      <td>3.031644e-03</td>\n",
       "      <td>Biosphere 'Carbon dioxide, fossil' (kilogram, ...</td>\n",
       "      <td>5.019860e-03</td>\n",
       "    </tr>\n",
       "    <tr>\n",
       "      <th>40</th>\n",
       "      <td>3.183295e-07</td>\n",
       "      <td>3.183295e-07</td>\n",
       "      <td>1.850669e-08</td>\n",
       "      <td>Biosphere 'Nitrogen oxides' (kilogram, None, (...</td>\n",
       "      <td>3.132110e-08</td>\n",
       "    </tr>\n",
       "    <tr>\n",
       "      <th>41</th>\n",
       "      <td>-3.433030e-03</td>\n",
       "      <td>3.433030e-03</td>\n",
       "      <td>4.498650e-04</td>\n",
       "      <td>Biosphere 'Dinitrogen monoxide' (kilogram, Non...</td>\n",
       "      <td>7.283961e-04</td>\n",
       "    </tr>\n",
       "    <tr>\n",
       "      <th>42</th>\n",
       "      <td>-2.441231e-04</td>\n",
       "      <td>2.441231e-04</td>\n",
       "      <td>2.159967e-05</td>\n",
       "      <td>Biosphere 'Methane, fossil' (kilogram, None, (...</td>\n",
       "      <td>3.642747e-05</td>\n",
       "    </tr>\n",
       "    <tr>\n",
       "      <th>43</th>\n",
       "      <td>-2.326401e-05</td>\n",
       "      <td>2.326401e-05</td>\n",
       "      <td>3.525150e-06</td>\n",
       "      <td>Biosphere 'Nitrogen oxides' (kilogram, None, (...</td>\n",
       "      <td>6.110601e-06</td>\n",
       "    </tr>\n",
       "    <tr>\n",
       "      <th>44</th>\n",
       "      <td>3.287063e-07</td>\n",
       "      <td>3.287063e-07</td>\n",
       "      <td>1.500836e-08</td>\n",
       "      <td>Biosphere 'Sulfur dioxide' (kilogram, None, ('...</td>\n",
       "      <td>2.579755e-08</td>\n",
       "    </tr>\n",
       "    <tr>\n",
       "      <th>45</th>\n",
       "      <td>2.753586e-07</td>\n",
       "      <td>2.753586e-07</td>\n",
       "      <td>2.834271e-08</td>\n",
       "      <td>Biosphere 'Ammonia' (kilogram, None, ('air',))...</td>\n",
       "      <td>4.770185e-08</td>\n",
       "    </tr>\n",
       "    <tr>\n",
       "      <th>46</th>\n",
       "      <td>-3.551868e-02</td>\n",
       "      <td>3.551868e-02</td>\n",
       "      <td>6.606904e-03</td>\n",
       "      <td>Biosphere 'Carbon dioxide, fossil' (kilogram, ...</td>\n",
       "      <td>1.114131e-02</td>\n",
       "    </tr>\n",
       "    <tr>\n",
       "      <th>47</th>\n",
       "      <td>3.883474e-04</td>\n",
       "      <td>3.883474e-04</td>\n",
       "      <td>1.730247e-05</td>\n",
       "      <td>Biosphere 'Carbon dioxide, fossil' (kilogram, ...</td>\n",
       "      <td>3.000402e-05</td>\n",
       "    </tr>\n",
       "    <tr>\n",
       "      <th>48</th>\n",
       "      <td>4.501715e-02</td>\n",
       "      <td>4.501715e-02</td>\n",
       "      <td>5.890328e-03</td>\n",
       "      <td>Biosphere 'Methane, fossil' (kilogram, None, (...</td>\n",
       "      <td>1.016545e-02</td>\n",
       "    </tr>\n",
       "    <tr>\n",
       "      <th>49</th>\n",
       "      <td>-8.533195e-04</td>\n",
       "      <td>8.533195e-04</td>\n",
       "      <td>2.560536e-04</td>\n",
       "      <td>Biosphere 'Dinitrogen monoxide' (kilogram, Non...</td>\n",
       "      <td>4.192456e-04</td>\n",
       "    </tr>\n",
       "    <tr>\n",
       "      <th>50</th>\n",
       "      <td>-3.378316e-06</td>\n",
       "      <td>3.378316e-06</td>\n",
       "      <td>6.015137e-07</td>\n",
       "      <td>Biosphere 'Nitrogen oxides' (kilogram, None, (...</td>\n",
       "      <td>1.014333e-06</td>\n",
       "    </tr>\n",
       "    <tr>\n",
       "      <th>51</th>\n",
       "      <td>-3.208314e-06</td>\n",
       "      <td>3.208314e-06</td>\n",
       "      <td>2.220188e-07</td>\n",
       "      <td>Biosphere 'Nitrogen oxides' (kilogram, None, (...</td>\n",
       "      <td>3.757265e-07</td>\n",
       "    </tr>\n",
       "    <tr>\n",
       "      <th>52</th>\n",
       "      <td>-8.470649e-03</td>\n",
       "      <td>8.470649e-03</td>\n",
       "      <td>1.226672e-03</td>\n",
       "      <td>Biosphere 'Dinitrogen monoxide' (kilogram, Non...</td>\n",
       "      <td>2.153455e-03</td>\n",
       "    </tr>\n",
       "    <tr>\n",
       "      <th>53</th>\n",
       "      <td>1.468755e-05</td>\n",
       "      <td>1.468755e-05</td>\n",
       "      <td>7.609852e-07</td>\n",
       "      <td>Biosphere 'Dinitrogen monoxide' (kilogram, Non...</td>\n",
       "      <td>1.243753e-06</td>\n",
       "    </tr>\n",
       "    <tr>\n",
       "      <th>54</th>\n",
       "      <td>1.297430e-04</td>\n",
       "      <td>1.297430e-04</td>\n",
       "      <td>1.388930e-05</td>\n",
       "      <td>Biosphere 'Methane, fossil' (kilogram, None, (...</td>\n",
       "      <td>2.286174e-05</td>\n",
       "    </tr>\n",
       "  </tbody>\n",
       "</table>\n",
       "</div>"
      ],
      "text/plain": [
       "              mu       mu_star  mu_star_conf  \\\n",
       "5   6.513754e-02  6.513754e-02  8.426966e-03   \n",
       "6  -9.335340e-04  9.335340e-04  5.760796e-05   \n",
       "7   4.473833e-03  4.473833e-03  4.206133e-04   \n",
       "11  1.133506e-01  1.133506e-01  2.932518e-02   \n",
       "13 -2.016718e-03  2.016718e-03  5.814751e-04   \n",
       "15  1.187698e-01  1.187698e-01  6.554203e-02   \n",
       "16  7.910077e-02  7.910077e-02  1.339684e-02   \n",
       "20  6.198074e-03  6.198074e-03  5.772469e-04   \n",
       "24 -2.394287e-02  2.394287e-02  4.067541e-03   \n",
       "25 -2.236436e-02  2.236436e-02  1.996112e-03   \n",
       "26 -8.073622e-03  8.073622e-03  1.074849e-03   \n",
       "27  6.325339e-02  6.325339e-02  1.470092e-02   \n",
       "28  5.636943e-02  5.636943e-02  1.437745e-02   \n",
       "32  3.128429e-04  3.128429e-04  4.673521e-05   \n",
       "33 -6.733017e-02  6.733017e-02  9.949008e-03   \n",
       "34  6.589630e-02  6.589630e-02  1.155909e-02   \n",
       "35  9.022542e-02  9.022542e-02  4.538341e-02   \n",
       "36  6.548712e-03  6.548712e-03  5.642481e-04   \n",
       "37 -8.125523e-07  8.125523e-07  9.514740e-08   \n",
       "38 -1.832306e-05  1.832306e-05  3.861151e-06   \n",
       "39 -2.092363e-02  2.092363e-02  3.031644e-03   \n",
       "40  3.183295e-07  3.183295e-07  1.850669e-08   \n",
       "41 -3.433030e-03  3.433030e-03  4.498650e-04   \n",
       "42 -2.441231e-04  2.441231e-04  2.159967e-05   \n",
       "43 -2.326401e-05  2.326401e-05  3.525150e-06   \n",
       "44  3.287063e-07  3.287063e-07  1.500836e-08   \n",
       "45  2.753586e-07  2.753586e-07  2.834271e-08   \n",
       "46 -3.551868e-02  3.551868e-02  6.606904e-03   \n",
       "47  3.883474e-04  3.883474e-04  1.730247e-05   \n",
       "48  4.501715e-02  4.501715e-02  5.890328e-03   \n",
       "49 -8.533195e-04  8.533195e-04  2.560536e-04   \n",
       "50 -3.378316e-06  3.378316e-06  6.015137e-07   \n",
       "51 -3.208314e-06  3.208314e-06  2.220188e-07   \n",
       "52 -8.470649e-03  8.470649e-03  1.226672e-03   \n",
       "53  1.468755e-05  1.468755e-05  7.609852e-07   \n",
       "54  1.297430e-04  1.297430e-04  1.388930e-05   \n",
       "\n",
       "                                                names         sigma  \n",
       "5   Technosphere '_32 Wood products, except furnit...  1.421993e-02  \n",
       "6   Technosphere '113 Waste treatment, Composting ...  9.955194e-05  \n",
       "7   Technosphere '129 Waste treatment, Land applic...  7.141321e-04  \n",
       "11  Technosphere '_39 Fertiliser, N, EU27' (kilogr...  4.910882e-02  \n",
       "13  Technosphere '_39 Fertiliser, N, EU27' (kilogr...  9.630698e-04  \n",
       "15  Technosphere '_43 Chemicals n.e.c., EU27' (kil...  1.165667e-01  \n",
       "16  Technosphere '_85 Land transport and transport...  2.340514e-02  \n",
       "20  Technosphere '113 Waste treatment, Composting ...  9.951440e-04  \n",
       "24  Technosphere '_75 Electricity, steam and hot w...  6.904569e-03  \n",
       "25  Technosphere '_10 Coal, lignite, peat, EU27' (...  3.388296e-03  \n",
       "26  Technosphere '_85 Land transport and transport...  1.874983e-03  \n",
       "27  Technosphere '__5 Crops n.e.c., EU27' (kilogra...  2.497048e-02  \n",
       "28  Technosphere '_10 Coal, lignite, peat, EU27' (...  2.400148e-02  \n",
       "32  Technosphere '117 Waste treatment, Landfill of...  7.879362e-05  \n",
       "33  Technosphere '__7 Forest products, EU27' (kilo...  1.663253e-02  \n",
       "34  Technosphere '__7 Forest products, EU27' (kilo...  2.036832e-02  \n",
       "35  Technosphere '__4 Grain crops, EU27' (kilogram...  7.879198e-02  \n",
       "36  Technosphere '_75 Electricity, steam and hot w...  9.724210e-04  \n",
       "37  Biosphere 'Ammonia' (kilogram, None, ('air',))...  1.657121e-07  \n",
       "38  Biosphere 'Sulfur dioxide' (kilogram, None, ('...  6.564440e-06  \n",
       "39  Biosphere 'Carbon dioxide, fossil' (kilogram, ...  5.019860e-03  \n",
       "40  Biosphere 'Nitrogen oxides' (kilogram, None, (...  3.132110e-08  \n",
       "41  Biosphere 'Dinitrogen monoxide' (kilogram, Non...  7.283961e-04  \n",
       "42  Biosphere 'Methane, fossil' (kilogram, None, (...  3.642747e-05  \n",
       "43  Biosphere 'Nitrogen oxides' (kilogram, None, (...  6.110601e-06  \n",
       "44  Biosphere 'Sulfur dioxide' (kilogram, None, ('...  2.579755e-08  \n",
       "45  Biosphere 'Ammonia' (kilogram, None, ('air',))...  4.770185e-08  \n",
       "46  Biosphere 'Carbon dioxide, fossil' (kilogram, ...  1.114131e-02  \n",
       "47  Biosphere 'Carbon dioxide, fossil' (kilogram, ...  3.000402e-05  \n",
       "48  Biosphere 'Methane, fossil' (kilogram, None, (...  1.016545e-02  \n",
       "49  Biosphere 'Dinitrogen monoxide' (kilogram, Non...  4.192456e-04  \n",
       "50  Biosphere 'Nitrogen oxides' (kilogram, None, (...  1.014333e-06  \n",
       "51  Biosphere 'Nitrogen oxides' (kilogram, None, (...  3.757265e-07  \n",
       "52  Biosphere 'Dinitrogen monoxide' (kilogram, Non...  2.153455e-03  \n",
       "53  Biosphere 'Dinitrogen monoxide' (kilogram, Non...  1.243753e-06  \n",
       "54  Biosphere 'Methane, fossil' (kilogram, None, (...  2.286174e-05  "
      ]
     },
     "execution_count": 254,
     "metadata": {},
     "output_type": "execute_result"
    }
   ],
   "source": [
    "si_score=DataFrame(analyse[0])\n",
    "si_score[si_score['mu']!=0]"
   ]
  },
  {
   "cell_type": "markdown",
   "metadata": {},
   "source": [
    "Sensitivities for a category of impact"
   ]
  },
  {
   "cell_type": "code",
   "execution_count": 198,
   "metadata": {
    "collapsed": false
   },
   "outputs": [
    {
     "data": {
      "text/html": [
       "<div>\n",
       "<table border=\"1\" class=\"dataframe\">\n",
       "  <thead>\n",
       "    <tr style=\"text-align: right;\">\n",
       "      <th></th>\n",
       "      <th>mu</th>\n",
       "      <th>mu_star</th>\n",
       "      <th>mu_star_conf</th>\n",
       "      <th>names</th>\n",
       "      <th>sigma</th>\n",
       "    </tr>\n",
       "  </thead>\n",
       "  <tbody>\n",
       "    <tr>\n",
       "      <th>5</th>\n",
       "      <td>1.587896e-02</td>\n",
       "      <td>1.587896e-02</td>\n",
       "      <td>4.194879e-03</td>\n",
       "      <td>Technosphere '_32 Wood products, except furnit...</td>\n",
       "      <td>7.160962e-03</td>\n",
       "    </tr>\n",
       "    <tr>\n",
       "      <th>6</th>\n",
       "      <td>-9.804106e-04</td>\n",
       "      <td>9.804106e-04</td>\n",
       "      <td>7.800823e-05</td>\n",
       "      <td>Technosphere '113 Waste treatment, Composting ...</td>\n",
       "      <td>1.294838e-04</td>\n",
       "    </tr>\n",
       "    <tr>\n",
       "      <th>7</th>\n",
       "      <td>5.043827e-03</td>\n",
       "      <td>5.043827e-03</td>\n",
       "      <td>6.357672e-04</td>\n",
       "      <td>Technosphere '129 Waste treatment, Land applic...</td>\n",
       "      <td>1.032176e-03</td>\n",
       "    </tr>\n",
       "    <tr>\n",
       "      <th>11</th>\n",
       "      <td>4.484855e-02</td>\n",
       "      <td>4.484855e-02</td>\n",
       "      <td>1.306621e-02</td>\n",
       "      <td>Technosphere '_39 Fertiliser, N, EU27' (kilogr...</td>\n",
       "      <td>2.151610e-02</td>\n",
       "    </tr>\n",
       "    <tr>\n",
       "      <th>13</th>\n",
       "      <td>-9.101598e-04</td>\n",
       "      <td>9.101598e-04</td>\n",
       "      <td>1.358196e-04</td>\n",
       "      <td>Technosphere '_39 Fertiliser, N, EU27' (kilogr...</td>\n",
       "      <td>2.350379e-04</td>\n",
       "    </tr>\n",
       "    <tr>\n",
       "      <th>15</th>\n",
       "      <td>7.228372e-02</td>\n",
       "      <td>7.228372e-02</td>\n",
       "      <td>3.932023e-02</td>\n",
       "      <td>Technosphere '_43 Chemicals n.e.c., EU27' (kil...</td>\n",
       "      <td>6.746696e-02</td>\n",
       "    </tr>\n",
       "    <tr>\n",
       "      <th>16</th>\n",
       "      <td>4.142660e-02</td>\n",
       "      <td>4.142660e-02</td>\n",
       "      <td>7.934035e-03</td>\n",
       "      <td>Technosphere '_85 Land transport and transport...</td>\n",
       "      <td>1.388275e-02</td>\n",
       "    </tr>\n",
       "    <tr>\n",
       "      <th>20</th>\n",
       "      <td>6.044877e-03</td>\n",
       "      <td>6.044877e-03</td>\n",
       "      <td>5.847317e-04</td>\n",
       "      <td>Technosphere '113 Waste treatment, Composting ...</td>\n",
       "      <td>1.023958e-03</td>\n",
       "    </tr>\n",
       "    <tr>\n",
       "      <th>24</th>\n",
       "      <td>-3.596837e-02</td>\n",
       "      <td>3.596837e-02</td>\n",
       "      <td>4.234259e-03</td>\n",
       "      <td>Technosphere '_75 Electricity, steam and hot w...</td>\n",
       "      <td>7.197639e-03</td>\n",
       "    </tr>\n",
       "    <tr>\n",
       "      <th>25</th>\n",
       "      <td>-3.189817e-02</td>\n",
       "      <td>3.189817e-02</td>\n",
       "      <td>5.551843e-03</td>\n",
       "      <td>Technosphere '_10 Coal, lignite, peat, EU27' (...</td>\n",
       "      <td>9.455583e-03</td>\n",
       "    </tr>\n",
       "    <tr>\n",
       "      <th>26</th>\n",
       "      <td>-4.363763e-03</td>\n",
       "      <td>4.363763e-03</td>\n",
       "      <td>6.669538e-04</td>\n",
       "      <td>Technosphere '_85 Land transport and transport...</td>\n",
       "      <td>1.129955e-03</td>\n",
       "    </tr>\n",
       "    <tr>\n",
       "      <th>27</th>\n",
       "      <td>2.391131e-02</td>\n",
       "      <td>2.391131e-02</td>\n",
       "      <td>7.593461e-03</td>\n",
       "      <td>Technosphere '__5 Crops n.e.c., EU27' (kilogra...</td>\n",
       "      <td>1.278278e-02</td>\n",
       "    </tr>\n",
       "    <tr>\n",
       "      <th>28</th>\n",
       "      <td>6.065191e-02</td>\n",
       "      <td>6.065191e-02</td>\n",
       "      <td>8.562518e-03</td>\n",
       "      <td>Technosphere '_10 Coal, lignite, peat, EU27' (...</td>\n",
       "      <td>1.554011e-02</td>\n",
       "    </tr>\n",
       "    <tr>\n",
       "      <th>32</th>\n",
       "      <td>4.814909e-04</td>\n",
       "      <td>4.814909e-04</td>\n",
       "      <td>5.654704e-05</td>\n",
       "      <td>Technosphere '117 Waste treatment, Landfill of...</td>\n",
       "      <td>9.745134e-05</td>\n",
       "    </tr>\n",
       "    <tr>\n",
       "      <th>33</th>\n",
       "      <td>-3.012543e-02</td>\n",
       "      <td>3.012543e-02</td>\n",
       "      <td>4.606564e-03</td>\n",
       "      <td>Technosphere '__7 Forest products, EU27' (kilo...</td>\n",
       "      <td>8.001887e-03</td>\n",
       "    </tr>\n",
       "    <tr>\n",
       "      <th>34</th>\n",
       "      <td>3.255844e-02</td>\n",
       "      <td>3.255844e-02</td>\n",
       "      <td>8.882283e-03</td>\n",
       "      <td>Technosphere '__7 Forest products, EU27' (kilo...</td>\n",
       "      <td>1.491423e-02</td>\n",
       "    </tr>\n",
       "    <tr>\n",
       "      <th>35</th>\n",
       "      <td>5.833826e-02</td>\n",
       "      <td>5.833826e-02</td>\n",
       "      <td>2.793909e-02</td>\n",
       "      <td>Technosphere '__4 Grain crops, EU27' (kilogram...</td>\n",
       "      <td>4.619824e-02</td>\n",
       "    </tr>\n",
       "    <tr>\n",
       "      <th>36</th>\n",
       "      <td>9.493404e-03</td>\n",
       "      <td>9.493404e-03</td>\n",
       "      <td>6.755147e-04</td>\n",
       "      <td>Technosphere '_75 Electricity, steam and hot w...</td>\n",
       "      <td>1.154553e-03</td>\n",
       "    </tr>\n",
       "    <tr>\n",
       "      <th>37</th>\n",
       "      <td>-8.801346e-07</td>\n",
       "      <td>8.801346e-07</td>\n",
       "      <td>8.808772e-08</td>\n",
       "      <td>Biosphere 'Ammonia' (kilogram, None, ('air',))...</td>\n",
       "      <td>1.520662e-07</td>\n",
       "    </tr>\n",
       "    <tr>\n",
       "      <th>38</th>\n",
       "      <td>-1.518435e-05</td>\n",
       "      <td>1.518435e-05</td>\n",
       "      <td>2.537346e-06</td>\n",
       "      <td>Biosphere 'Sulfur dioxide' (kilogram, None, ('...</td>\n",
       "      <td>4.171883e-06</td>\n",
       "    </tr>\n",
       "    <tr>\n",
       "      <th>39</th>\n",
       "      <td>-1.699950e-02</td>\n",
       "      <td>1.699950e-02</td>\n",
       "      <td>2.477166e-03</td>\n",
       "      <td>Biosphere 'Carbon dioxide, fossil' (kilogram, ...</td>\n",
       "      <td>4.072727e-03</td>\n",
       "    </tr>\n",
       "    <tr>\n",
       "      <th>40</th>\n",
       "      <td>3.292917e-07</td>\n",
       "      <td>3.292917e-07</td>\n",
       "      <td>1.428929e-08</td>\n",
       "      <td>Biosphere 'Nitrogen oxides' (kilogram, None, (...</td>\n",
       "      <td>2.312233e-08</td>\n",
       "    </tr>\n",
       "    <tr>\n",
       "      <th>41</th>\n",
       "      <td>-3.490385e-03</td>\n",
       "      <td>3.490385e-03</td>\n",
       "      <td>5.835074e-04</td>\n",
       "      <td>Biosphere 'Dinitrogen monoxide' (kilogram, Non...</td>\n",
       "      <td>9.881199e-04</td>\n",
       "    </tr>\n",
       "    <tr>\n",
       "      <th>42</th>\n",
       "      <td>-4.331731e-04</td>\n",
       "      <td>4.331731e-04</td>\n",
       "      <td>5.211738e-05</td>\n",
       "      <td>Biosphere 'Methane, fossil' (kilogram, None, (...</td>\n",
       "      <td>8.740090e-05</td>\n",
       "    </tr>\n",
       "    <tr>\n",
       "      <th>43</th>\n",
       "      <td>-2.142741e-05</td>\n",
       "      <td>2.142741e-05</td>\n",
       "      <td>4.497693e-06</td>\n",
       "      <td>Biosphere 'Nitrogen oxides' (kilogram, None, (...</td>\n",
       "      <td>7.847103e-06</td>\n",
       "    </tr>\n",
       "    <tr>\n",
       "      <th>44</th>\n",
       "      <td>3.276196e-07</td>\n",
       "      <td>3.276196e-07</td>\n",
       "      <td>1.573829e-08</td>\n",
       "      <td>Biosphere 'Sulfur dioxide' (kilogram, None, ('...</td>\n",
       "      <td>2.732379e-08</td>\n",
       "    </tr>\n",
       "    <tr>\n",
       "      <th>45</th>\n",
       "      <td>2.695140e-07</td>\n",
       "      <td>2.695140e-07</td>\n",
       "      <td>3.055826e-08</td>\n",
       "      <td>Biosphere 'Ammonia' (kilogram, None, ('air',))...</td>\n",
       "      <td>5.075655e-08</td>\n",
       "    </tr>\n",
       "    <tr>\n",
       "      <th>46</th>\n",
       "      <td>-3.123937e-02</td>\n",
       "      <td>3.123937e-02</td>\n",
       "      <td>3.871321e-03</td>\n",
       "      <td>Biosphere 'Carbon dioxide, fossil' (kilogram, ...</td>\n",
       "      <td>6.417462e-03</td>\n",
       "    </tr>\n",
       "    <tr>\n",
       "      <th>47</th>\n",
       "      <td>4.097399e-04</td>\n",
       "      <td>4.097399e-04</td>\n",
       "      <td>2.006688e-05</td>\n",
       "      <td>Biosphere 'Carbon dioxide, fossil' (kilogram, ...</td>\n",
       "      <td>3.320325e-05</td>\n",
       "    </tr>\n",
       "    <tr>\n",
       "      <th>48</th>\n",
       "      <td>7.588680e-02</td>\n",
       "      <td>7.588680e-02</td>\n",
       "      <td>9.782223e-03</td>\n",
       "      <td>Biosphere 'Methane, fossil' (kilogram, None, (...</td>\n",
       "      <td>1.712313e-02</td>\n",
       "    </tr>\n",
       "    <tr>\n",
       "      <th>49</th>\n",
       "      <td>-7.177785e-04</td>\n",
       "      <td>7.177785e-04</td>\n",
       "      <td>1.464307e-04</td>\n",
       "      <td>Biosphere 'Dinitrogen monoxide' (kilogram, Non...</td>\n",
       "      <td>2.430279e-04</td>\n",
       "    </tr>\n",
       "    <tr>\n",
       "      <th>50</th>\n",
       "      <td>-2.584699e-06</td>\n",
       "      <td>2.584699e-06</td>\n",
       "      <td>3.710138e-07</td>\n",
       "      <td>Biosphere 'Nitrogen oxides' (kilogram, None, (...</td>\n",
       "      <td>6.606616e-07</td>\n",
       "    </tr>\n",
       "    <tr>\n",
       "      <th>51</th>\n",
       "      <td>-3.210269e-06</td>\n",
       "      <td>3.210269e-06</td>\n",
       "      <td>2.043455e-07</td>\n",
       "      <td>Biosphere 'Nitrogen oxides' (kilogram, None, (...</td>\n",
       "      <td>3.461286e-07</td>\n",
       "    </tr>\n",
       "    <tr>\n",
       "      <th>52</th>\n",
       "      <td>-7.448220e-03</td>\n",
       "      <td>7.448220e-03</td>\n",
       "      <td>9.765318e-04</td>\n",
       "      <td>Biosphere 'Dinitrogen monoxide' (kilogram, Non...</td>\n",
       "      <td>1.716017e-03</td>\n",
       "    </tr>\n",
       "    <tr>\n",
       "      <th>53</th>\n",
       "      <td>1.556536e-05</td>\n",
       "      <td>1.556536e-05</td>\n",
       "      <td>7.632603e-07</td>\n",
       "      <td>Biosphere 'Dinitrogen monoxide' (kilogram, Non...</td>\n",
       "      <td>1.261601e-06</td>\n",
       "    </tr>\n",
       "    <tr>\n",
       "      <th>54</th>\n",
       "      <td>2.867501e-04</td>\n",
       "      <td>2.867501e-04</td>\n",
       "      <td>2.678551e-05</td>\n",
       "      <td>Biosphere 'Methane, fossil' (kilogram, None, (...</td>\n",
       "      <td>4.644448e-05</td>\n",
       "    </tr>\n",
       "  </tbody>\n",
       "</table>\n",
       "</div>"
      ],
      "text/plain": [
       "              mu       mu_star  mu_star_conf  \\\n",
       "5   1.587896e-02  1.587896e-02  4.194879e-03   \n",
       "6  -9.804106e-04  9.804106e-04  7.800823e-05   \n",
       "7   5.043827e-03  5.043827e-03  6.357672e-04   \n",
       "11  4.484855e-02  4.484855e-02  1.306621e-02   \n",
       "13 -9.101598e-04  9.101598e-04  1.358196e-04   \n",
       "15  7.228372e-02  7.228372e-02  3.932023e-02   \n",
       "16  4.142660e-02  4.142660e-02  7.934035e-03   \n",
       "20  6.044877e-03  6.044877e-03  5.847317e-04   \n",
       "24 -3.596837e-02  3.596837e-02  4.234259e-03   \n",
       "25 -3.189817e-02  3.189817e-02  5.551843e-03   \n",
       "26 -4.363763e-03  4.363763e-03  6.669538e-04   \n",
       "27  2.391131e-02  2.391131e-02  7.593461e-03   \n",
       "28  6.065191e-02  6.065191e-02  8.562518e-03   \n",
       "32  4.814909e-04  4.814909e-04  5.654704e-05   \n",
       "33 -3.012543e-02  3.012543e-02  4.606564e-03   \n",
       "34  3.255844e-02  3.255844e-02  8.882283e-03   \n",
       "35  5.833826e-02  5.833826e-02  2.793909e-02   \n",
       "36  9.493404e-03  9.493404e-03  6.755147e-04   \n",
       "37 -8.801346e-07  8.801346e-07  8.808772e-08   \n",
       "38 -1.518435e-05  1.518435e-05  2.537346e-06   \n",
       "39 -1.699950e-02  1.699950e-02  2.477166e-03   \n",
       "40  3.292917e-07  3.292917e-07  1.428929e-08   \n",
       "41 -3.490385e-03  3.490385e-03  5.835074e-04   \n",
       "42 -4.331731e-04  4.331731e-04  5.211738e-05   \n",
       "43 -2.142741e-05  2.142741e-05  4.497693e-06   \n",
       "44  3.276196e-07  3.276196e-07  1.573829e-08   \n",
       "45  2.695140e-07  2.695140e-07  3.055826e-08   \n",
       "46 -3.123937e-02  3.123937e-02  3.871321e-03   \n",
       "47  4.097399e-04  4.097399e-04  2.006688e-05   \n",
       "48  7.588680e-02  7.588680e-02  9.782223e-03   \n",
       "49 -7.177785e-04  7.177785e-04  1.464307e-04   \n",
       "50 -2.584699e-06  2.584699e-06  3.710138e-07   \n",
       "51 -3.210269e-06  3.210269e-06  2.043455e-07   \n",
       "52 -7.448220e-03  7.448220e-03  9.765318e-04   \n",
       "53  1.556536e-05  1.556536e-05  7.632603e-07   \n",
       "54  2.867501e-04  2.867501e-04  2.678551e-05   \n",
       "\n",
       "                                                names         sigma  \n",
       "5   Technosphere '_32 Wood products, except furnit...  7.160962e-03  \n",
       "6   Technosphere '113 Waste treatment, Composting ...  1.294838e-04  \n",
       "7   Technosphere '129 Waste treatment, Land applic...  1.032176e-03  \n",
       "11  Technosphere '_39 Fertiliser, N, EU27' (kilogr...  2.151610e-02  \n",
       "13  Technosphere '_39 Fertiliser, N, EU27' (kilogr...  2.350379e-04  \n",
       "15  Technosphere '_43 Chemicals n.e.c., EU27' (kil...  6.746696e-02  \n",
       "16  Technosphere '_85 Land transport and transport...  1.388275e-02  \n",
       "20  Technosphere '113 Waste treatment, Composting ...  1.023958e-03  \n",
       "24  Technosphere '_75 Electricity, steam and hot w...  7.197639e-03  \n",
       "25  Technosphere '_10 Coal, lignite, peat, EU27' (...  9.455583e-03  \n",
       "26  Technosphere '_85 Land transport and transport...  1.129955e-03  \n",
       "27  Technosphere '__5 Crops n.e.c., EU27' (kilogra...  1.278278e-02  \n",
       "28  Technosphere '_10 Coal, lignite, peat, EU27' (...  1.554011e-02  \n",
       "32  Technosphere '117 Waste treatment, Landfill of...  9.745134e-05  \n",
       "33  Technosphere '__7 Forest products, EU27' (kilo...  8.001887e-03  \n",
       "34  Technosphere '__7 Forest products, EU27' (kilo...  1.491423e-02  \n",
       "35  Technosphere '__4 Grain crops, EU27' (kilogram...  4.619824e-02  \n",
       "36  Technosphere '_75 Electricity, steam and hot w...  1.154553e-03  \n",
       "37  Biosphere 'Ammonia' (kilogram, None, ('air',))...  1.520662e-07  \n",
       "38  Biosphere 'Sulfur dioxide' (kilogram, None, ('...  4.171883e-06  \n",
       "39  Biosphere 'Carbon dioxide, fossil' (kilogram, ...  4.072727e-03  \n",
       "40  Biosphere 'Nitrogen oxides' (kilogram, None, (...  2.312233e-08  \n",
       "41  Biosphere 'Dinitrogen monoxide' (kilogram, Non...  9.881199e-04  \n",
       "42  Biosphere 'Methane, fossil' (kilogram, None, (...  8.740090e-05  \n",
       "43  Biosphere 'Nitrogen oxides' (kilogram, None, (...  7.847103e-06  \n",
       "44  Biosphere 'Sulfur dioxide' (kilogram, None, ('...  2.732379e-08  \n",
       "45  Biosphere 'Ammonia' (kilogram, None, ('air',))...  5.075655e-08  \n",
       "46  Biosphere 'Carbon dioxide, fossil' (kilogram, ...  6.417462e-03  \n",
       "47  Biosphere 'Carbon dioxide, fossil' (kilogram, ...  3.320325e-05  \n",
       "48  Biosphere 'Methane, fossil' (kilogram, None, (...  1.712313e-02  \n",
       "49  Biosphere 'Dinitrogen monoxide' (kilogram, Non...  2.430279e-04  \n",
       "50  Biosphere 'Nitrogen oxides' (kilogram, None, (...  6.606616e-07  \n",
       "51  Biosphere 'Nitrogen oxides' (kilogram, None, (...  3.461286e-07  \n",
       "52  Biosphere 'Dinitrogen monoxide' (kilogram, Non...  1.716017e-03  \n",
       "53  Biosphere 'Dinitrogen monoxide' (kilogram, Non...  1.261601e-06  \n",
       "54  Biosphere 'Methane, fossil' (kilogram, None, (...  4.644448e-05  "
      ]
     },
     "execution_count": 198,
     "metadata": {},
     "output_type": "execute_result"
    }
   ],
   "source": [
    "df=DataFrame(analyse[1])\n",
    "df[df['mu']!=0]"
   ]
  },
  {
   "cell_type": "markdown",
   "metadata": {},
   "source": [
    "### Comparing sensitivities on single score and categories\n",
    "We select the sensitivity indexes with highest ```mu``` values for single score, and we will look at the SI computed for each category."
   ]
  },
  {
   "cell_type": "code",
   "execution_count": 263,
   "metadata": {
    "collapsed": true
   },
   "outputs": [],
   "source": [
    "%matplotlib inline\n",
    "import matplotlib.pylab as plt\n",
    "plt.rcParams['figure.figsize'] = (20.0, 10.0)"
   ]
  },
  {
   "cell_type": "markdown",
   "metadata": {},
   "source": [
    "We drop the category that have a sum of ```mu``` indices to zero"
   ]
  },
  {
   "cell_type": "code",
   "execution_count": 301,
   "metadata": {
    "collapsed": false
   },
   "outputs": [],
   "source": [
    "interesting_analyse = list(filter(lambda x:sum(abs(x['mu']))>0,analyse[1:]))"
   ]
  },
  {
   "cell_type": "markdown",
   "metadata": {},
   "source": [
    "Now, we plot the ```mu``` indices for each keeped category, and highlighting in red the indices of the process that gives the highest sensitivities on single score."
   ]
  },
  {
   "cell_type": "code",
   "execution_count": 300,
   "metadata": {
    "collapsed": false
   },
   "outputs": [
    {
     "data": {
      "image/png": "[encoded data removed]",
      "text/plain": [
       "<matplotlib.figure.Figure at 0x7f3aafd2cf60>"
      ]
     },
     "metadata": {},
     "output_type": "display_data"
    }
   ],
   "source": [
    "hsi_score_index = si_score.mu.abs().sort_values().index[-5:]\n",
    "hsi_score = si_score.reindex(hsi_score_index)\n",
    "fig, axes = plt.subplots(math.ceil((len(interesting_analyse))/4),4)\n",
    "for ax, si in zip(axes.flat, interesting_analyse):\n",
    "    rects = ax.bar(range(len(si['mu'])),abs(si['mu']))\n",
    "    for i,patch in enumerate(rects.patches):\n",
    "        if i in hsi_score_index:\n",
    "            patch.set_color('red')"
   ]
  },
  {
   "cell_type": "code",
   "execution_count": null,
   "metadata": {
    "collapsed": true
   },
   "outputs": [],
   "source": []
  }
 ],
 "metadata": {
  "kernelspec": {
   "display_name": "Python 3",
   "language": "python",
   "name": "python3"
  },
  "language_info": {
   "codemirror_mode": {
    "name": "ipython",
    "version": 3
   },
   "file_extension": ".py",
   "mimetype": "text/x-python",
   "name": "python",
   "nbconvert_exporter": "python",
   "pygments_lexer": "ipython3",
   "version": "3.5.2"
  },
  "toc": {
   "colors": {
    "hover_highlight": "#DAA520",
    "running_highlight": "#FF0000",
    "selected_highlight": "#FFD700"
   },
   "moveMenuLeft": true,
   "nav_menu": {
    "height": "104px",
    "width": "252px"
   },
   "navigate_menu": true,
   "number_sections": true,
   "sideBar": true,
   "threshold": 4,
   "toc_cell": false,
   "toc_section_display": "block",
   "toc_window_display": true
  }
 },
 "nbformat": 4,
 "nbformat_minor": 0
}
