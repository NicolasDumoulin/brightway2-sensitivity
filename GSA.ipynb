{
 "cells": [
  {
   "cell_type": "markdown",
   "metadata": {},
   "source": [
    "# Global ensitivity Analysis\n",
    "## Project initialisation"
   ]
  },
  {
   "cell_type": "code",
   "execution_count": 3,
   "metadata": {
    "ExecuteTime": {
     "end_time": "2017-03-23T11:27:56.624736",
     "start_time": "2017-03-23T11:27:55.973506"
    },
    "collapsed": false
   },
   "outputs": [
    {
     "name": "stdout",
     "output_type": "stream",
     "text": [
      "Using environment variable BRIGHTWAY2_DIR for data directory:\n",
      "/home/jovyan/data\n"
     ]
    }
   ],
   "source": [
    "from brightway2 import *\n",
    "from __future__ import unicode_literals, print_function"
   ]
  },
  {
   "cell_type": "code",
   "execution_count": 4,
   "metadata": {
    "ExecuteTime": {
     "end_time": "2017-03-23T11:27:56.638118",
     "start_time": "2017-03-23T11:27:56.626365"
    },
    "collapsed": true
   },
   "outputs": [],
   "source": [
    "projects.set_current(\"Global Sensitivity Analysis demo\")"
   ]
  },
  {
   "cell_type": "markdown",
   "metadata": {},
   "source": [
    "Adding some uncertainties in sample data (from [this notebook](http://nbviewer.jupyter.org/urls/bitbucket.org/cmutel/brightway2/raw/default/notebooks/Getting%20Started%20with%20Brightway2.ipynb))"
   ]
  },
  {
   "cell_type": "code",
   "execution_count": 5,
   "metadata": {
    "ExecuteTime": {
     "end_time": "2017-03-23T11:27:56.642840",
     "start_time": "2017-03-23T11:27:56.639829"
    },
    "collapsed": false
   },
   "outputs": [
    {
     "name": "stdout",
     "output_type": "stream",
     "text": [
      "Creating default biosphere\n",
      "\n"
     ]
    },
    {
     "name": "stderr",
     "output_type": "stream",
     "text": [
      "Writing activities to SQLite3 database:\n",
      "0%                          100%\n",
      "[#########                     ] | ETA: 00:00:00"
     ]
    },
    {
     "name": "stdout",
     "output_type": "stream",
     "text": [
      "Applying strategy: normalize_units\n",
      "Applying strategy: drop_unspecified_subcategories\n",
      "Applied 2 strategies in 0.01 seconds\n"
     ]
    },
    {
     "name": "stderr",
     "output_type": "stream",
     "text": [
      "[##############################] | ETA: 00:00:00\n",
      "Total time elapsed: 00:00:00\n"
     ]
    },
    {
     "name": "stdout",
     "output_type": "stream",
     "text": [
      "Title: Writing activities to SQLite3 database:\n",
      "  Started: 04/10/2017 11:58:01\n",
      "  Finished: 04/10/2017 11:58:02\n",
      "  Total time elapsed: 00:00:00\n",
      "  CPU %: 78.40\n",
      "  Memory %: 0.99\n",
      "Created database: biosphere3\n",
      "Creating default LCIA methods\n",
      "\n",
      "Applying strategy: normalize_units\n",
      "Applying strategy: set_biosphere_type\n",
      "Applying strategy: drop_unspecified_subcategories\n",
      "Applying strategy: link_iterable_by_fields\n",
      "Applied 4 strategies in 1.12 seconds\n",
      "Wrote 665 LCIA methods with 169551 characterization factors\n",
      "Creating core data migrations\n",
      "\n"
     ]
    }
   ],
   "source": [
    "bw2setup()"
   ]
  },
  {
   "cell_type": "code",
   "execution_count": 6,
   "metadata": {
    "ExecuteTime": {
     "end_time": "2017-03-23T11:28:10.216750",
     "start_time": "2017-03-23T11:27:56.645080"
    },
    "collapsed": false
   },
   "outputs": [
    {
     "name": "stderr",
     "output_type": "stream",
     "text": [
      "Writing activities to SQLite3 database:\n",
      "0%                          100%\n",
      "[##############################] | ETA: 00:00:00\n",
      "Total time elapsed: 00:00:04\n"
     ]
    },
    {
     "name": "stdout",
     "output_type": "stream",
     "text": [
      "Title: Writing activities to SQLite3 database:\n",
      "  Started: 04/10/2017 11:58:52\n",
      "  Finished: 04/10/2017 11:58:57\n",
      "  Total time elapsed: 00:00:04\n",
      "  CPU %: 64.30\n",
      "  Memory %: 1.94\n"
     ]
    },
    {
     "data": {
      "text/plain": [
       "[Brightway2 SQLiteBackend: forwast]"
      ]
     },
     "execution_count": 6,
     "metadata": {},
     "output_type": "execute_result"
    }
   ],
   "source": [
    "import zipfile\n",
    "import os\n",
    "from bw2data.utils import download_file\n",
    "\n",
    "filepath = download_file(\"forwast.bw2package.zip\", url=\"http://lca-net.com/wp-content/uploads/\")\n",
    "dirpath = os.path.dirname(filepath)\n",
    "zipfile.ZipFile(filepath).extractall(dirpath)\n",
    "BW2Package.import_file(os.path.join(dirpath, \"forwast.bw2package\"))"
   ]
  },
  {
   "cell_type": "markdown",
   "metadata": {},
   "source": [
    "## Adding uncertainties"
   ]
  },
  {
   "cell_type": "code",
   "execution_count": 7,
   "metadata": {
    "ExecuteTime": {
     "end_time": "2017-03-23T11:28:17.138436",
     "start_time": "2017-03-23T11:28:10.218359"
    },
    "collapsed": false
   },
   "outputs": [
    {
     "name": "stderr",
     "output_type": "stream",
     "text": [
      "Writing activities to SQLite3 database:\n",
      "0%                          100%\n",
      "[##############################] | ETA: 00:00:00\n",
      "Total time elapsed: 00:00:04\n"
     ]
    },
    {
     "name": "stdout",
     "output_type": "stream",
     "text": [
      "Title: Writing activities to SQLite3 database:\n",
      "  Started: 04/10/2017 11:58:58\n",
      "  Finished: 04/10/2017 11:59:03\n",
      "  Total time elapsed: 00:00:04\n",
      "  CPU %: 66.00\n",
      "  Memory %: 1.88\n"
     ]
    }
   ],
   "source": [
    "from bw2data.utils import uncertainify\n",
    "from stats_arrays import NormalUncertainty\n",
    "uncertain_db = Database(\"forwast uncertain +\")\n",
    "uncertain_db.write(\n",
    "    uncertain_db.relabel_data(\n",
    "        uncertainify(\n",
    "            Database(\"forwast\").load(), \n",
    "            NormalUncertainty\n",
    "        ), \n",
    "        \"forwast uncertain +\" \n",
    "    )\n",
    ")"
   ]
  },
  {
   "cell_type": "code",
   "execution_count": 8,
   "metadata": {
    "ExecuteTime": {
     "end_time": "2017-03-23T15:17:19.833396",
     "start_time": "2017-03-23T15:17:19.807505"
    },
    "collapsed": false
   },
   "outputs": [],
   "source": [
    "method_key=('ReCiPe Endpoint (I,A)', 'ecosystem quality', 'total')#'IMPACT 2002+ (Endpoint)', 'climate change', 'total')\n",
    "activity = uncertain_db.search('Wood products EU27')[0]\n",
    "lca = LCA({activity: 1}, method_key)"
   ]
  },
  {
   "cell_type": "markdown",
   "metadata": {},
   "source": [
    "## Random initialization\n",
    "Initialization of the RNG stuff in the same way that in the MonteCarloLCA class"
   ]
  },
  {
   "cell_type": "code",
   "execution_count": 10,
   "metadata": {
    "ExecuteTime": {
     "end_time": "2017-03-23T15:17:21.021296",
     "start_time": "2017-03-23T15:17:20.859808"
    },
    "collapsed": false
   },
   "outputs": [],
   "source": [
    "lca.load_lci_data()\n",
    "from stats_arrays.random import MCRandomNumberGenerator\n",
    "tech_rng = MCRandomNumberGenerator(lca.tech_params)\n",
    "bio_rng = MCRandomNumberGenerator(lca.bio_params)\n",
    "lca.load_lcia_data()\n",
    "cf_rng = MCRandomNumberGenerator(lca.cf_params)"
   ]
  },
  {
   "cell_type": "markdown",
   "metadata": {},
   "source": [
    "## Local sensitivity analysis"
   ]
  },
  {
   "cell_type": "code",
   "execution_count": 9,
   "metadata": {
    "ExecuteTime": {
     "end_time": "2017-03-23T15:17:25.347112",
     "start_time": "2017-03-23T15:17:21.984229"
    },
    "collapsed": false
   },
   "outputs": [
    {
     "name": "stderr",
     "output_type": "stream",
     "text": [
      "Warning: (almost) singular matrix! (estimated cond. number: 9.77e+12)\n"
     ]
    }
   ],
   "source": [
    "from lsa import lsa\n",
    "rsca_summary, rscb_summary = lsa(lca)"
   ]
  },
  {
   "cell_type": "markdown",
   "metadata": {},
   "source": [
    "## Binding RSC results and uncertainties\n",
    "The local sensitivity analysis give us the indices of matrices A and B that have the more relevant RSC (relative sensitivity coefficients). The purpose is now to fetch the associated uncertainties from the database."
   ]
  },
  {
   "cell_type": "code",
   "execution_count": 157,
   "metadata": {
    "collapsed": true
   },
   "outputs": [],
   "source": [
    "import numpy as np\n",
    "A_indices = np.array(np.array(rsca_summary)[:,1:3],int).tolist()\n",
    "B_indices = np.array(np.array(rscb_summary)[:,1:3],int).tolist()"
   ]
  },
  {
   "cell_type": "markdown",
   "metadata": {},
   "source": [
    "We will fetch these uncertainties in the attributes `tech_params` and `bio_params` of the LCA object."
   ]
  },
  {
   "cell_type": "code",
   "execution_count": 158,
   "metadata": {
    "collapsed": true
   },
   "outputs": [],
   "source": [
    "from pandas import DataFrame\n",
    "tech_df = DataFrame.from_records(lca.tech_params)\n",
    "bio_df = DataFrame.from_records(lca.bio_params)"
   ]
  },
  {
   "cell_type": "markdown",
   "metadata": {},
   "source": [
    "Look for example at the uncertainties of the first sensible element for the matrix A"
   ]
  },
  {
   "cell_type": "code",
   "execution_count": 159,
   "metadata": {
    "collapsed": false
   },
   "outputs": [
    {
     "data": {
      "text/html": [
       "<div>\n",
       "<table border=\"1\" class=\"dataframe\">\n",
       "  <thead>\n",
       "    <tr style=\"text-align: right;\">\n",
       "      <th></th>\n",
       "      <th>input</th>\n",
       "      <th>output</th>\n",
       "      <th>row</th>\n",
       "      <th>col</th>\n",
       "      <th>type</th>\n",
       "      <th>uncertainty_type</th>\n",
       "      <th>amount</th>\n",
       "      <th>loc</th>\n",
       "      <th>scale</th>\n",
       "      <th>shape</th>\n",
       "      <th>minimum</th>\n",
       "      <th>maximum</th>\n",
       "      <th>negative</th>\n",
       "    </tr>\n",
       "  </thead>\n",
       "  <tbody>\n",
       "    <tr>\n",
       "      <th>138</th>\n",
       "      <td>4434</td>\n",
       "      <td>4434</td>\n",
       "      <td>138</td>\n",
       "      <td>138</td>\n",
       "      <td>0</td>\n",
       "      <td>0</td>\n",
       "      <td>1.00000</td>\n",
       "      <td>1.00000</td>\n",
       "      <td>NaN</td>\n",
       "      <td>NaN</td>\n",
       "      <td>NaN</td>\n",
       "      <td>NaN</td>\n",
       "      <td>False</td>\n",
       "    </tr>\n",
       "    <tr>\n",
       "      <th>17927</th>\n",
       "      <td>4434</td>\n",
       "      <td>4434</td>\n",
       "      <td>138</td>\n",
       "      <td>138</td>\n",
       "      <td>1</td>\n",
       "      <td>3</td>\n",
       "      <td>0.41977</td>\n",
       "      <td>0.41977</td>\n",
       "      <td>0.041977</td>\n",
       "      <td>NaN</td>\n",
       "      <td>0.377793</td>\n",
       "      <td>0.461747</td>\n",
       "      <td>False</td>\n",
       "    </tr>\n",
       "  </tbody>\n",
       "</table>\n",
       "</div>"
      ],
      "text/plain": [
       "       input  output  row  col  type  uncertainty_type   amount      loc  \\\n",
       "138     4434    4434  138  138     0                 0  1.00000  1.00000   \n",
       "17927   4434    4434  138  138     1                 3  0.41977  0.41977   \n",
       "\n",
       "          scale  shape   minimum   maximum negative  \n",
       "138         NaN    NaN       NaN       NaN    False  \n",
       "17927  0.041977    NaN  0.377793  0.461747    False  "
      ]
     },
     "execution_count": 159,
     "metadata": {},
     "output_type": "execute_result"
    }
   ],
   "source": [
    "tech_df[(tech_df.row==A_indices[0][0]) & (tech_df.col==A_indices[0][1])]"
   ]
  },
  {
   "cell_type": "markdown",
   "metadata": {},
   "source": [
    "We can see that we get more than one element, because we should consider the column `type` which is defined in the [utils.py module](https://bitbucket.org/cmutel/brightway2-calc/src/105e24e2d803c96773651ed73c43d850f9c23548/bw2calc/utils.py?at=default&fileviewer=file-view-default#utils.py-144) as follow:\n",
    "```\n",
    "    TYPE_DICTIONARY = {\n",
    "        \"unknown\": -1,\n",
    "        \"production\": 0,\n",
    "        \"technosphere\": 1,\n",
    "        \"biosphere\": 2,\n",
    "        \"substitution\": 3,\n",
    "    }\n",
    "```\n",
    "This ```field``` attribute is setted during the matices building process in the class ```TechnosphereBiosphereMatrixBuilder``` of the [module matrices.py](https://bitbucket.org/cmutel/brightway2-calc/src/105e24e2d803c96773651ed73c43d850f9c23548/bw2calc/matrices.py?at=default&fileviewer=file-view-default#matrices.py-176).\n",
    "\n",
    "So, we can restrict to the row with the concerned type, and we get the ```minimum``` and ```maximum``` values:"
   ]
  },
  {
   "cell_type": "code",
   "execution_count": 160,
   "metadata": {
    "collapsed": false
   },
   "outputs": [
    {
     "data": {
      "text/html": [
       "<div>\n",
       "<table border=\"1\" class=\"dataframe\">\n",
       "  <thead>\n",
       "    <tr style=\"text-align: right;\">\n",
       "      <th></th>\n",
       "      <th>input</th>\n",
       "      <th>output</th>\n",
       "      <th>row</th>\n",
       "      <th>col</th>\n",
       "      <th>type</th>\n",
       "      <th>uncertainty_type</th>\n",
       "      <th>amount</th>\n",
       "      <th>loc</th>\n",
       "      <th>scale</th>\n",
       "      <th>shape</th>\n",
       "      <th>minimum</th>\n",
       "      <th>maximum</th>\n",
       "      <th>negative</th>\n",
       "    </tr>\n",
       "  </thead>\n",
       "  <tbody>\n",
       "    <tr>\n",
       "      <th>17927</th>\n",
       "      <td>4434</td>\n",
       "      <td>4434</td>\n",
       "      <td>138</td>\n",
       "      <td>138</td>\n",
       "      <td>1</td>\n",
       "      <td>3</td>\n",
       "      <td>0.41977</td>\n",
       "      <td>0.41977</td>\n",
       "      <td>0.041977</td>\n",
       "      <td>NaN</td>\n",
       "      <td>0.377793</td>\n",
       "      <td>0.461747</td>\n",
       "      <td>False</td>\n",
       "    </tr>\n",
       "  </tbody>\n",
       "</table>\n",
       "</div>"
      ],
      "text/plain": [
       "       input  output  row  col  type  uncertainty_type   amount      loc  \\\n",
       "17927   4434    4434  138  138     1                 3  0.41977  0.41977   \n",
       "\n",
       "          scale  shape   minimum   maximum negative  \n",
       "17927  0.041977    NaN  0.377793  0.461747    False  "
      ]
     },
     "execution_count": 160,
     "metadata": {},
     "output_type": "execute_result"
    }
   ],
   "source": [
    "tech_df[(tech_df.type==1) & (tech_df.row==A_indices[0][0]) & (tech_df.col==A_indices[0][1])]"
   ]
  },
  {
   "cell_type": "markdown",
   "metadata": {},
   "source": [
    "![fixme](https://www.dokuwiki.org/lib/images/smileys/fixme.gif)\n",
    "But for some element, we can't find minimum and maximum values!"
   ]
  },
  {
   "cell_type": "code",
   "execution_count": 161,
   "metadata": {
    "collapsed": false
   },
   "outputs": [
    {
     "name": "stdout",
     "output_type": "stream",
     "text": [
      "[108, 108]\n"
     ]
    },
    {
     "data": {
      "text/html": [
       "<div>\n",
       "<table border=\"1\" class=\"dataframe\">\n",
       "  <thead>\n",
       "    <tr style=\"text-align: right;\">\n",
       "      <th></th>\n",
       "      <th>input</th>\n",
       "      <th>output</th>\n",
       "      <th>row</th>\n",
       "      <th>col</th>\n",
       "      <th>type</th>\n",
       "      <th>uncertainty_type</th>\n",
       "      <th>amount</th>\n",
       "      <th>loc</th>\n",
       "      <th>scale</th>\n",
       "      <th>shape</th>\n",
       "      <th>minimum</th>\n",
       "      <th>maximum</th>\n",
       "      <th>negative</th>\n",
       "    </tr>\n",
       "  </thead>\n",
       "  <tbody>\n",
       "    <tr>\n",
       "      <th>108</th>\n",
       "      <td>4404</td>\n",
       "      <td>4404</td>\n",
       "      <td>108</td>\n",
       "      <td>108</td>\n",
       "      <td>0</td>\n",
       "      <td>0</td>\n",
       "      <td>1.0</td>\n",
       "      <td>1.0</td>\n",
       "      <td>NaN</td>\n",
       "      <td>NaN</td>\n",
       "      <td>NaN</td>\n",
       "      <td>NaN</td>\n",
       "      <td>False</td>\n",
       "    </tr>\n",
       "  </tbody>\n",
       "</table>\n",
       "</div>"
      ],
      "text/plain": [
       "     input  output  row  col  type  uncertainty_type  amount  loc  scale  \\\n",
       "108   4404    4404  108  108     0                 0     1.0  1.0    NaN   \n",
       "\n",
       "     shape  minimum  maximum negative  \n",
       "108    NaN      NaN      NaN    False  "
      ]
     },
     "execution_count": 161,
     "metadata": {},
     "output_type": "execute_result"
    }
   ],
   "source": [
    "print(A_indices[6])\n",
    "tech_df[(tech_df.row==A_indices[6][0]) & (abs(tech_df.col-A_indices[6][1])<4)]"
   ]
  },
  {
   "cell_type": "code",
   "execution_count": 162,
   "metadata": {
    "collapsed": false
   },
   "outputs": [
    {
     "name": "stdout",
     "output_type": "stream",
     "text": [
      "Errors for A: 3/40 [[108, 108], [49, 49], [254, 254]]\n",
      "Errors for B: 0/18 []\n"
     ]
    }
   ],
   "source": [
    "errors_A = [a for a in A_indices if len(tech_df[(tech_df.type==1) & (tech_df.row==a[0]) & (tech_df.col==a[1])])==0]\n",
    "errors_B = [b for b in B_indices if len(bio_df[(bio_df.type==2) & (bio_df.row==b[0]) & (bio_df.col==b[1])])==0]\n",
    "print(\"Errors for A: {}/{} {}\".format(len(errors_A), len(A_indices), errors_A))\n",
    "print(\"Errors for B: {}/{} {}\".format(len(errors_B), len(B_indices), errors_B))"
   ]
  },
  {
   "cell_type": "markdown",
   "metadata": {},
   "source": [
    "![fixme](https://www.dokuwiki.org/lib/images/smileys/fixme.gif)\n",
    "Dirty solution for patching the datasets:"
   ]
  },
  {
   "cell_type": "code",
   "execution_count": 163,
   "metadata": {
    "collapsed": false
   },
   "outputs": [],
   "source": [
    "A_indices = [a for a in A_indices if len(tech_df[(tech_df.type==1) & (tech_df.row==a[0]) & (tech_df.col==a[1])])>0]\n",
    "B_indices = [b for b in B_indices if len(bio_df[(bio_df.type==2) & (bio_df.row==b[0]) & (bio_df.col==b[1])])>0]"
   ]
  },
  {
   "cell_type": "markdown",
   "metadata": {},
   "source": [
    "## Defining the problem data\n",
    "Here, we want to define the parameters to sample using a list of selected elements of the biosphere and technosphere matrices"
   ]
  },
  {
   "cell_type": "code",
   "execution_count": 164,
   "metadata": {
    "ExecuteTime": {
     "end_time": "2017-03-24T15:57:25.694627",
     "start_time": "2017-03-24T15:57:25.585116"
    },
    "collapsed": false
   },
   "outputs": [],
   "source": [
    "import numpy as np\n",
    "#A_indices = np.array(np.array(rsca_summary)[:6,1:3],int).tolist()\n",
    "#B_indices = np.array(np.array(rscb_summary)[:6,1:3],int).tolist()\n",
    "rev_activity, rev_product, rev_bio = lca.reverse_dict()\n",
    "morris_problem = {\n",
    "    'num_vars':len(A_indices)+len(B_indices),\n",
    "    'names':[],\n",
    "    'bounds':[],\n",
    "    'groups':None\n",
    "}\n",
    "morris_problem['names'] += [\n",
    "    'Technosphere '+ str(Database(rev_activity[x[0]][0]).get(rev_activity[x[0]][1])) + ' x ' + str(Database(rev_product[x[1]][0]).get(rev_product[x[1]][1]))\n",
    "    for x in A_indices\n",
    "    ]\n",
    "morris_problem['names'] += [\n",
    "    'Biosphere '+str(Database(rev_bio[x[0]][0]).get(rev_bio[x[0]][1])) + ' x ' + str(Database(rev_activity[x[1]][0]).get(rev_activity[x[1]][1]))\n",
    "    for x in B_indices\n",
    "    ]\n",
    "# retrieve min and max values for populating morris_problem['bounds']\n",
    "from pandas import DataFrame\n",
    "tech_df = DataFrame.from_records(lca.tech_params)\n",
    "bio_df = DataFrame.from_records(lca.bio_params)\n",
    "morris_problem['bounds'] = [tech_df[(tech_df.type==1) & (tech_df.row==a_ij[0]) & (tech_df.col==a_ij[1])][['minimum','maximum']].values[0] for a_ij in A_indices] + [bio_df[(bio_df.type==2) & (bio_df.row==b_ij[0]) & (bio_df.col==b_ij[1])][['minimum','maximum']].values[0] for b_ij in B_indices]"
   ]
  },
  {
   "cell_type": "markdown",
   "metadata": {},
   "source": [
    "## Computing Sobol indices\n",
    "\n",
    "### Multiprocessing class\n",
    "This class will generate the Morris sample and perform lcia computations using multiprocessing feature."
   ]
  },
  {
   "cell_type": "code",
   "execution_count": 165,
   "metadata": {
    "ExecuteTime": {
     "end_time": "2017-03-24T15:20:54.450061",
     "start_time": "2017-03-24T15:20:54.403235"
    },
    "collapsed": false
   },
   "outputs": [],
   "source": [
    "from SALib.sample import morris as ms\n",
    "from SALib.analyze import morris as ma\n",
    "import multiprocessing\n",
    "import pyprind\n",
    "import math\n",
    "\n",
    "class ParallelGSALCA:\n",
    "    def __init__(self, demand, method, morris_problem):\n",
    "        self.demand = demand\n",
    "        self.method = method\n",
    "        # TODO generate morris_problem instead of parameter\n",
    "        self.morris_problem = morris_problem\n",
    "    def single_worker(self, sample):\n",
    "        '''\n",
    "        Computes the lcia impacts for the given data sampling corresponding to the initial morris problem.\n",
    "        Returns an array of impacts.\n",
    "        '''\n",
    "        lca = LCA(self.demand, self.method)\n",
    "        lca.load_lci_data()\n",
    "        if lca.lcia:\n",
    "            lca.load_lcia_data()\n",
    "        if lca.weighting:\n",
    "            lca.load_weighting_data            \n",
    "        for a_ij, value in zip(self.A_indices, sample[:len(self.A_indices)]):\n",
    "            #print('aij',tuple(a_ij),value, lca.technosphere_matrix[tuple(a_ij)])\n",
    "            lca.technosphere_matrix[tuple(a_ij)] = value\n",
    "            #print(lca.technosphere_matrix[tuple(a_ij)])\n",
    "        for b_ij, value in zip(self.B_indices, sample[len(self.A_indices):]):\n",
    "            #print('bij',tuple(b_ij),value)\n",
    "            lca.biosphere_matrix[tuple(b_ij)] = value\n",
    "        if not hasattr(lca, \"demand_array\"):\n",
    "            lca.build_demand_array()\n",
    "        import warnings\n",
    "        with warnings.catch_warnings():\n",
    "            warnings.simplefilter(\"ignore\")\n",
    "            lca.lci_calculation()\n",
    "        if lca.lcia:\n",
    "            lca.lcia_calculation()\n",
    "        return np.array(lca.characterized_inventory.sum(axis=1)).ravel() #lca.score\n",
    "    def gsa(self, A_indices, B_indices, number_of_trajectories, progressBar=True, cpus=None, chunk_size=None):\n",
    "        '''\n",
    "        Samples the A and B element using Morris method and return the computed impact\n",
    "        '''\n",
    "        self.A_indices = A_indices\n",
    "        self.B_indices = B_indices\n",
    "        cpus = cpus or multiprocessing.cpu_count()\n",
    "        # TODO propose an automatic number_of_trajectories\n",
    "        self.samples = ms.sample(self.morris_problem, number_of_trajectories, num_levels=4, grid_jump=2)\n",
    "        if chunk_size:\n",
    "            self.chunk_size = chunk_size\n",
    "        else:\n",
    "            self.chunk_size = max(cpus, number_of_trajectories // 100)\n",
    "        pool = multiprocessing.Pool(processes=cpus)\n",
    "        if progressBar:\n",
    "            bar = pyprind.ProgBar(max(1,math.ceil(len(self.samples)/self.chunk_size)))\n",
    "        chunks = []\n",
    "        scores = [[] for i in range(lca.characterization_matrix.shape[0])]\n",
    "        # store in 'stores' all the mid-point impact\n",
    "        for sample in self.samples:\n",
    "            chunks.append(sample)\n",
    "            if len(chunks) == self.chunk_size:\n",
    "                for i,result_by_impact in enumerate(map(list,zip(*pool.map(self.single_worker, chunks)))):\n",
    "                    scores[i] += result_by_impact\n",
    "                if progressBar:\n",
    "                    bar.update()\n",
    "                chunks=[]\n",
    "        if len(chunks):\n",
    "            for i,result_by_impact in enumerate(map(list,zip(*pool.map(self.single_worker, chunks)))):\n",
    "                scores[i] += result_by_impact\n",
    "            if progressBar:\n",
    "                bar.update()\n",
    "            chunks=[]\n",
    "        self.scores = scores\n",
    "        return scores\n",
    "    def gsa_analyse(self):\n",
    "        return [ma.analyze(self.morris_problem, self.samples, np.array(score), num_levels=4, grid_jump=2) for score in self.scores]\n",
    "    "
   ]
  },
  {
   "cell_type": "markdown",
   "metadata": {},
   "source": [
    "### Go"
   ]
  },
  {
   "cell_type": "code",
   "execution_count": 166,
   "metadata": {
    "ExecuteTime": {
     "end_time": "2017-03-24T15:22:23.971982",
     "start_time": "2017-03-24T15:21:02.626587"
    },
    "collapsed": false,
    "scrolled": true
   },
   "outputs": [
    {
     "name": "stderr",
     "output_type": "stream",
     "text": [
      "0%                          100%\n",
      "[##############################] | ETA: 00:00:00\n",
      "Total time elapsed: 00:01:10\n"
     ]
    }
   ],
   "source": [
    "gsalca = ParallelGSALCA({activity: 1}, method_key, morris_problem)\n",
    "scores = gsalca.gsa(A_indices, B_indices, number_of_trajectories = 10)#, progressBar=False)"
   ]
  },
  {
   "cell_type": "markdown",
   "metadata": {},
   "source": [
    "Now, we can inspect the Sobol indices with the ```analyse``` method, for each category of impact."
   ]
  },
  {
   "cell_type": "code",
   "execution_count": 185,
   "metadata": {
    "ExecuteTime": {
     "end_time": "2017-03-24T15:23:23.494225",
     "start_time": "2017-03-24T15:23:23.476342"
    },
    "collapsed": false
   },
   "outputs": [
    {
     "name": "stdout",
     "output_type": "stream",
     "text": [
      "dict_keys(['mu_star_conf', 'names', 'sigma', 'mu', 'mu_star'])\n"
     ]
    }
   ],
   "source": [
    "impact = 1\n",
    "si = gsalca.gsa_analyse()[impact]\n",
    "print(si.keys())"
   ]
  },
  {
   "cell_type": "code",
   "execution_count": 184,
   "metadata": {
    "collapsed": false
   },
   "outputs": [
    {
     "data": {
      "text/html": [
       "<div>\n",
       "<table border=\"1\" class=\"dataframe\">\n",
       "  <thead>\n",
       "    <tr style=\"text-align: right;\">\n",
       "      <th></th>\n",
       "      <th>mu</th>\n",
       "      <th>mu_star</th>\n",
       "      <th>mu_star_conf</th>\n",
       "      <th>names</th>\n",
       "      <th>sigma</th>\n",
       "    </tr>\n",
       "  </thead>\n",
       "  <tbody>\n",
       "    <tr>\n",
       "      <th>5</th>\n",
       "      <td>-0.036395</td>\n",
       "      <td>0.036395</td>\n",
       "      <td>0.004143</td>\n",
       "      <td>Technosphere '_32 Wood products, except furnit...</td>\n",
       "      <td>0.007102</td>\n",
       "    </tr>\n",
       "    <tr>\n",
       "      <th>6</th>\n",
       "      <td>0.000044</td>\n",
       "      <td>0.000068</td>\n",
       "      <td>0.000035</td>\n",
       "      <td>Technosphere '113 Waste treatment, Composting ...</td>\n",
       "      <td>0.000080</td>\n",
       "    </tr>\n",
       "    <tr>\n",
       "      <th>7</th>\n",
       "      <td>-0.000020</td>\n",
       "      <td>0.000442</td>\n",
       "      <td>0.000165</td>\n",
       "      <td>Technosphere '129 Waste treatment, Land applic...</td>\n",
       "      <td>0.000544</td>\n",
       "    </tr>\n",
       "    <tr>\n",
       "      <th>11</th>\n",
       "      <td>-0.063026</td>\n",
       "      <td>0.063026</td>\n",
       "      <td>0.014410</td>\n",
       "      <td>Technosphere '_39 Fertiliser, N, EU27' (kilogr...</td>\n",
       "      <td>0.025107</td>\n",
       "    </tr>\n",
       "    <tr>\n",
       "      <th>13</th>\n",
       "      <td>0.000882</td>\n",
       "      <td>0.000882</td>\n",
       "      <td>0.000281</td>\n",
       "      <td>Technosphere '_39 Fertiliser, N, EU27' (kilogr...</td>\n",
       "      <td>0.000458</td>\n",
       "    </tr>\n",
       "    <tr>\n",
       "      <th>15</th>\n",
       "      <td>-0.078235</td>\n",
       "      <td>0.078235</td>\n",
       "      <td>0.023454</td>\n",
       "      <td>Technosphere '_43 Chemicals n.e.c., EU27' (kil...</td>\n",
       "      <td>0.040931</td>\n",
       "    </tr>\n",
       "    <tr>\n",
       "      <th>16</th>\n",
       "      <td>-0.042300</td>\n",
       "      <td>0.042300</td>\n",
       "      <td>0.009581</td>\n",
       "      <td>Technosphere '_85 Land transport and transport...</td>\n",
       "      <td>0.016071</td>\n",
       "    </tr>\n",
       "    <tr>\n",
       "      <th>20</th>\n",
       "      <td>-0.000494</td>\n",
       "      <td>0.000606</td>\n",
       "      <td>0.000402</td>\n",
       "      <td>Technosphere '113 Waste treatment, Composting ...</td>\n",
       "      <td>0.000773</td>\n",
       "    </tr>\n",
       "    <tr>\n",
       "      <th>24</th>\n",
       "      <td>-0.013562</td>\n",
       "      <td>0.013562</td>\n",
       "      <td>0.001602</td>\n",
       "      <td>Technosphere '_75 Electricity, steam and hot w...</td>\n",
       "      <td>0.002711</td>\n",
       "    </tr>\n",
       "    <tr>\n",
       "      <th>25</th>\n",
       "      <td>-0.003082</td>\n",
       "      <td>0.003474</td>\n",
       "      <td>0.000925</td>\n",
       "      <td>Technosphere '_10 Coal, lignite, peat, EU27' (...</td>\n",
       "      <td>0.002292</td>\n",
       "    </tr>\n",
       "    <tr>\n",
       "      <th>26</th>\n",
       "      <td>0.003598</td>\n",
       "      <td>0.003598</td>\n",
       "      <td>0.000336</td>\n",
       "      <td>Technosphere '_85 Land transport and transport...</td>\n",
       "      <td>0.000605</td>\n",
       "    </tr>\n",
       "    <tr>\n",
       "      <th>27</th>\n",
       "      <td>-0.035964</td>\n",
       "      <td>0.035964</td>\n",
       "      <td>0.019730</td>\n",
       "      <td>Technosphere '__5 Crops n.e.c., EU27' (kilogra...</td>\n",
       "      <td>0.034499</td>\n",
       "    </tr>\n",
       "    <tr>\n",
       "      <th>28</th>\n",
       "      <td>0.007132</td>\n",
       "      <td>0.007336</td>\n",
       "      <td>0.001667</td>\n",
       "      <td>Technosphere '_10 Coal, lignite, peat, EU27' (...</td>\n",
       "      <td>0.003408</td>\n",
       "    </tr>\n",
       "    <tr>\n",
       "      <th>32</th>\n",
       "      <td>0.000253</td>\n",
       "      <td>0.000253</td>\n",
       "      <td>0.000049</td>\n",
       "      <td>Technosphere '117 Waste treatment, Landfill of...</td>\n",
       "      <td>0.000084</td>\n",
       "    </tr>\n",
       "    <tr>\n",
       "      <th>33</th>\n",
       "      <td>0.040249</td>\n",
       "      <td>0.040249</td>\n",
       "      <td>0.008368</td>\n",
       "      <td>Technosphere '__7 Forest products, EU27' (kilo...</td>\n",
       "      <td>0.014636</td>\n",
       "    </tr>\n",
       "    <tr>\n",
       "      <th>34</th>\n",
       "      <td>-0.034507</td>\n",
       "      <td>0.034507</td>\n",
       "      <td>0.005703</td>\n",
       "      <td>Technosphere '__7 Forest products, EU27' (kilo...</td>\n",
       "      <td>0.009230</td>\n",
       "    </tr>\n",
       "    <tr>\n",
       "      <th>35</th>\n",
       "      <td>-0.043056</td>\n",
       "      <td>0.043056</td>\n",
       "      <td>0.012771</td>\n",
       "      <td>Technosphere '__4 Grain crops, EU27' (kilogram...</td>\n",
       "      <td>0.021240</td>\n",
       "    </tr>\n",
       "    <tr>\n",
       "      <th>36</th>\n",
       "      <td>0.003669</td>\n",
       "      <td>0.003669</td>\n",
       "      <td>0.000361</td>\n",
       "      <td>Technosphere '_75 Electricity, steam and hot w...</td>\n",
       "      <td>0.000613</td>\n",
       "    </tr>\n",
       "    <tr>\n",
       "      <th>42</th>\n",
       "      <td>-0.000229</td>\n",
       "      <td>0.000229</td>\n",
       "      <td>0.000050</td>\n",
       "      <td>Biosphere 'Methane, fossil' (kilogram, None, (...</td>\n",
       "      <td>0.000084</td>\n",
       "    </tr>\n",
       "    <tr>\n",
       "      <th>48</th>\n",
       "      <td>0.047615</td>\n",
       "      <td>0.047615</td>\n",
       "      <td>0.008862</td>\n",
       "      <td>Biosphere 'Methane, fossil' (kilogram, None, (...</td>\n",
       "      <td>0.015652</td>\n",
       "    </tr>\n",
       "    <tr>\n",
       "      <th>54</th>\n",
       "      <td>0.000156</td>\n",
       "      <td>0.000156</td>\n",
       "      <td>0.000017</td>\n",
       "      <td>Biosphere 'Methane, fossil' (kilogram, None, (...</td>\n",
       "      <td>0.000030</td>\n",
       "    </tr>\n",
       "  </tbody>\n",
       "</table>\n",
       "</div>"
      ],
      "text/plain": [
       "          mu   mu_star  mu_star_conf  \\\n",
       "5  -0.036395  0.036395      0.004143   \n",
       "6   0.000044  0.000068      0.000035   \n",
       "7  -0.000020  0.000442      0.000165   \n",
       "11 -0.063026  0.063026      0.014410   \n",
       "13  0.000882  0.000882      0.000281   \n",
       "15 -0.078235  0.078235      0.023454   \n",
       "16 -0.042300  0.042300      0.009581   \n",
       "20 -0.000494  0.000606      0.000402   \n",
       "24 -0.013562  0.013562      0.001602   \n",
       "25 -0.003082  0.003474      0.000925   \n",
       "26  0.003598  0.003598      0.000336   \n",
       "27 -0.035964  0.035964      0.019730   \n",
       "28  0.007132  0.007336      0.001667   \n",
       "32  0.000253  0.000253      0.000049   \n",
       "33  0.040249  0.040249      0.008368   \n",
       "34 -0.034507  0.034507      0.005703   \n",
       "35 -0.043056  0.043056      0.012771   \n",
       "36  0.003669  0.003669      0.000361   \n",
       "42 -0.000229  0.000229      0.000050   \n",
       "48  0.047615  0.047615      0.008862   \n",
       "54  0.000156  0.000156      0.000017   \n",
       "\n",
       "                                                names     sigma  \n",
       "5   Technosphere '_32 Wood products, except furnit...  0.007102  \n",
       "6   Technosphere '113 Waste treatment, Composting ...  0.000080  \n",
       "7   Technosphere '129 Waste treatment, Land applic...  0.000544  \n",
       "11  Technosphere '_39 Fertiliser, N, EU27' (kilogr...  0.025107  \n",
       "13  Technosphere '_39 Fertiliser, N, EU27' (kilogr...  0.000458  \n",
       "15  Technosphere '_43 Chemicals n.e.c., EU27' (kil...  0.040931  \n",
       "16  Technosphere '_85 Land transport and transport...  0.016071  \n",
       "20  Technosphere '113 Waste treatment, Composting ...  0.000773  \n",
       "24  Technosphere '_75 Electricity, steam and hot w...  0.002711  \n",
       "25  Technosphere '_10 Coal, lignite, peat, EU27' (...  0.002292  \n",
       "26  Technosphere '_85 Land transport and transport...  0.000605  \n",
       "27  Technosphere '__5 Crops n.e.c., EU27' (kilogra...  0.034499  \n",
       "28  Technosphere '_10 Coal, lignite, peat, EU27' (...  0.003408  \n",
       "32  Technosphere '117 Waste treatment, Landfill of...  0.000084  \n",
       "33  Technosphere '__7 Forest products, EU27' (kilo...  0.014636  \n",
       "34  Technosphere '__7 Forest products, EU27' (kilo...  0.009230  \n",
       "35  Technosphere '__4 Grain crops, EU27' (kilogram...  0.021240  \n",
       "36  Technosphere '_75 Electricity, steam and hot w...  0.000613  \n",
       "42  Biosphere 'Methane, fossil' (kilogram, None, (...  0.000084  \n",
       "48  Biosphere 'Methane, fossil' (kilogram, None, (...  0.015652  \n",
       "54  Biosphere 'Methane, fossil' (kilogram, None, (...  0.000030  "
      ]
     },
     "execution_count": 184,
     "metadata": {},
     "output_type": "execute_result"
    }
   ],
   "source": [
    "df=DataFrame(si)\n",
    "df[df['mu']!=0]"
   ]
  },
  {
   "cell_type": "code",
   "execution_count": null,
   "metadata": {
    "collapsed": true
   },
   "outputs": [],
   "source": []
  }
 ],
 "metadata": {
  "kernelspec": {
   "display_name": "Python 3",
   "language": "python",
   "name": "python3"
  },
  "language_info": {
   "codemirror_mode": {
    "name": "ipython",
    "version": 3
   },
   "file_extension": ".py",
   "mimetype": "text/x-python",
   "name": "python",
   "nbconvert_exporter": "python",
   "pygments_lexer": "ipython3",
   "version": "3.5.2"
  },
  "toc": {
   "colors": {
    "hover_highlight": "#DAA520",
    "running_highlight": "#FF0000",
    "selected_highlight": "#FFD700"
   },
   "moveMenuLeft": true,
   "nav_menu": {
    "height": "104px",
    "width": "252px"
   },
   "navigate_menu": true,
   "number_sections": true,
   "sideBar": true,
   "threshold": 4,
   "toc_cell": false,
   "toc_section_display": "block",
   "toc_window_display": true
  }
 },
 "nbformat": 4,
 "nbformat_minor": 0
}
