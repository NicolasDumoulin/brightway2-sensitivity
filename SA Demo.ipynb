{
 "cells": [
  {
   "cell_type": "markdown",
   "metadata": {},
   "source": [
    "# Sensitivity Analysis Demonstration\n",
    "\n",
    "## Brightway2 Initialisation"
   ]
  },
  {
   "cell_type": "code",
   "execution_count": 1,
   "metadata": {},
   "outputs": [
    {
     "name": "stdout",
     "output_type": "stream",
     "text": [
      "Using environment variable BRIGHTWAY2_DIR for data directory:\n",
      "/home/jovyan/data\n",
      "Biosphere database already present!!! No setup is needed\n"
     ]
    },
    {
     "name": "stderr",
     "output_type": "stream",
     "text": [
      "Writing activities to SQLite3 database:\n",
      "0%                          100%\n",
      "[##############################] | ETA: 00:00:04 | ETA: 00:00:04 | ETA: 00:00:04 | ETA: 00:00:04 | ETA: 00:00:04 | ETA: 00:00:04 | ETA: 00:00:03 | ETA: 00:00:03 | ETA: 00:00:03 | ETA: 00:00:03 | ETA: 00:00:03 | ETA: 00:00:02 | ETA: 00:00:02 | ETA: 00:00:02 | ETA: 00:00:02 | ETA: 00:00:02 | ETA: 00:00:02 | ETA: 00:00:02 | ETA: 00:00:01 | ETA: 00:00:01 | ETA: 00:00:01 | ETA: 00:00:01 | ETA: 00:00:01 | ETA: 00:00:01 | ETA: 00:00:00 | ETA: 00:00:00 | ETA: 00:00:00 | ETA: 00:00:00 | ETA: 00:00:00 | ETA: 00:00:00 | ETA: 00:00:00\n",
      "Total time elapsed: 00:00:05\n"
     ]
    },
    {
     "name": "stdout",
     "output_type": "stream",
     "text": [
      "Title: Writing activities to SQLite3 database:\n",
      "  Started: 06/15/2017 12:16:54\n",
      "  Finished: 06/15/2017 12:17:00\n",
      "  Total time elapsed: 00:00:05\n",
      "  CPU %: 72.60\n",
      "  Memory %: 1.87\n"
     ]
    },
    {
     "data": {
      "text/plain": [
       "[Brightway2 SQLiteBackend: forwast]"
      ]
     },
     "execution_count": 1,
     "metadata": {},
     "output_type": "execute_result"
    }
   ],
   "source": [
    "from brightway2 import *\n",
    "import zipfile, os\n",
    "from bw2data.utils import download_file\n",
    "projects.set_current(\"SA Demo\")\n",
    "bw2setup()\n",
    "filepath = download_file(\"forwast.bw2package.zip\", url=\"http://lca-net.com/wp-content/uploads/\")\n",
    "dirpath = os.path.dirname(filepath)\n",
    "zipfile.ZipFile(filepath).extractall(dirpath)\n",
    "BW2Package.import_file(os.path.join(dirpath, \"forwast.bw2package\"))"
   ]
  },
  {
   "cell_type": "code",
   "execution_count": 2,
   "metadata": {},
   "outputs": [
    {
     "name": "stderr",
     "output_type": "stream",
     "text": [
      "Writing activities to SQLite3 database:\n",
      "0%                          100%\n",
      "[##############################] | ETA: 00:00:06 | ETA: 00:00:05 | ETA: 00:00:05 | ETA: 00:00:04 | ETA: 00:00:04 | ETA: 00:00:04 | ETA: 00:00:04 | ETA: 00:00:03 | ETA: 00:00:03 | ETA: 00:00:03 | ETA: 00:00:03 | ETA: 00:00:03 | ETA: 00:00:02 | ETA: 00:00:02 | ETA: 00:00:02 | ETA: 00:00:02 | ETA: 00:00:02 | ETA: 00:00:02 | ETA: 00:00:01 | ETA: 00:00:01 | ETA: 00:00:01 | ETA: 00:00:01 | ETA: 00:00:01 | ETA: 00:00:01 | ETA: 00:00:00 | ETA: 00:00:00 | ETA: 00:00:00 | ETA: 00:00:00 | ETA: 00:00:00 | ETA: 00:00:00 | ETA: 00:00:00\n",
      "Total time elapsed: 00:00:05\n"
     ]
    },
    {
     "name": "stdout",
     "output_type": "stream",
     "text": [
      "Title: Writing activities to SQLite3 database:\n",
      "  Started: 06/15/2017 12:17:02\n",
      "  Finished: 06/15/2017 12:17:07\n",
      "  Total time elapsed: 00:00:05\n",
      "  CPU %: 72.40\n",
      "  Memory %: 1.75\n"
     ]
    }
   ],
   "source": [
    "# Adding uncertainties\n",
    "from brightway2 import Database\n",
    "from bw2data.utils import uncertainify\n",
    "from stats_arrays import NormalUncertainty\n",
    "uncertain_db = Database(\"forwast uncertain +\")\n",
    "uncertain_db.write(\n",
    "    uncertain_db.relabel_data(\n",
    "        uncertainify(\n",
    "            Database(\"forwast\").load(),\n",
    "            NormalUncertainty\n",
    "        ),\n",
    "        \"forwast uncertain +\"\n",
    "    )\n",
    ")"
   ]
  },
  {
   "cell_type": "markdown",
   "metadata": {},
   "source": [
    "## Model definition"
   ]
  },
  {
   "cell_type": "code",
   "execution_count": 3,
   "metadata": {
    "collapsed": true
   },
   "outputs": [],
   "source": [
    "lca = LCA({Database(\"forwast\").search('Wood products EU27')[0]: 1}, ('ReCiPe Endpoint (I,A)', 'ecosystem quality', 'total'))"
   ]
  },
  {
   "cell_type": "markdown",
   "metadata": {},
   "source": [
    "## Let's go for sensitivity analysis"
   ]
  },
  {
   "cell_type": "code",
   "execution_count": 5,
   "metadata": {},
   "outputs": [
    {
     "name": "stderr",
     "output_type": "stream",
     "text": [
      "Warning: (almost) singular matrix! (estimated cond. number: 9.77e+12)\n",
      "0%                          100%\n",
      "[##############################] | ETA: 00:10:10 | ETA: 00:10:19 | ETA: 00:10:07 | ETA: 00:09:54 | ETA: 00:09:30 | ETA: 00:09:06 | ETA: 00:08:44 | ETA: 00:08:20 | ETA: 00:07:57 | ETA: 00:07:34 | ETA: 00:07:11 | ETA: 00:06:48 | ETA: 00:06:25 | ETA: 00:06:02 | ETA: 00:05:39 | ETA: 00:05:16 | ETA: 00:04:54 | ETA: 00:04:31 | ETA: 00:04:08 | ETA: 00:03:46 | ETA: 00:03:23 | ETA: 00:03:00 | ETA: 00:02:38 | ETA: 00:02:15 | ETA: 00:01:52 | ETA: 00:01:30 | ETA: 00:01:07 | ETA: 00:00:45 | ETA: 00:00:22 | ETA: 00:00:00 | ETA: 00:00:00\n",
      "Total time elapsed: 00:11:18\n"
     ]
    }
   ],
   "source": [
    "from lsa import lsa\n",
    "from gsa import gsa\n",
    "rsca_summary, rscb_summary = lsa(lca)\n",
    "analyse = gsa(lca, rsca_summary, rscb_summary, progressBar=True)"
   ]
  },
  {
   "cell_type": "code",
   "execution_count": 9,
   "metadata": {},
   "outputs": [
    {
     "name": "stdout",
     "output_type": "stream",
     "text": [
      "dict_keys(['mu_star', 'names', 'sigma', 'mu', 'mu_star_conf'])\n"
     ]
    },
    {
     "data": {
      "text/html": [
       "<div>\n",
       "<table border=\"1\" class=\"dataframe\">\n",
       "  <thead>\n",
       "    <tr style=\"text-align: right;\">\n",
       "      <th></th>\n",
       "      <th>mu</th>\n",
       "      <th>mu_star</th>\n",
       "      <th>mu_star_conf</th>\n",
       "      <th>names</th>\n",
       "      <th>sigma</th>\n",
       "    </tr>\n",
       "  </thead>\n",
       "  <tbody>\n",
       "  </tbody>\n",
       "</table>\n",
       "</div>"
      ],
      "text/plain": [
       "Empty DataFrame\n",
       "Columns: [mu, mu_star, mu_star_conf, names, sigma]\n",
       "Index: []"
      ]
     },
     "execution_count": 9,
     "metadata": {},
     "output_type": "execute_result"
    }
   ],
   "source": [
    "from pandas import DataFrame\n",
    "si_score=DataFrame(analyse[0])\n",
    "print(analyse[0].keys())\n",
    "si_score[si_score['mu']!=0]"
   ]
  },
  {
   "cell_type": "code",
   "execution_count": null,
   "metadata": {
    "collapsed": true
   },
   "outputs": [],
   "source": []
  }
 ],
 "metadata": {
  "kernelspec": {
   "display_name": "Python 3",
   "language": "python",
   "name": "python3"
  },
  "language_info": {
   "codemirror_mode": {
    "name": "ipython",
    "version": 3
   },
   "file_extension": ".py",
   "mimetype": "text/x-python",
   "name": "python",
   "nbconvert_exporter": "python",
   "pygments_lexer": "ipython3",
   "version": "3.6.5"
  }
 },
 "nbformat": 4,
 "nbformat_minor": 2
}
